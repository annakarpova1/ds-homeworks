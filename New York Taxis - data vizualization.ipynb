{
 "cells": [
  {
   "cell_type": "markdown",
   "metadata": {},
   "source": [
    "# Загрузим библиотеки и основную таблицу"
   ]
  },
  {
   "cell_type": "markdown",
   "metadata": {},
   "source": [
    "Я выбрала датасет нью-йоркского такси. Визуализирую данные за январь."
   ]
  },
  {
   "cell_type": "code",
   "execution_count": 5,
   "metadata": {
    "collapsed": true
   },
   "outputs": [],
   "source": [
    "import numpy as np\n",
    "import pandas as pd\n"
   ]
  },
  {
   "cell_type": "code",
   "execution_count": 118,
   "metadata": {},
   "outputs": [],
   "source": [
    "import matplotlib.pyplot as plt\n",
    "import ggplot\n",
    "import seaborn as sns\n",
    "import plotly"
   ]
  },
  {
   "cell_type": "code",
   "execution_count": 7,
   "metadata": {},
   "outputs": [
    {
     "name": "stdout",
     "output_type": "stream",
     "text": [
      "Populating the interactive namespace from numpy and matplotlib\n"
     ]
    }
   ],
   "source": [
    "%pylab inline\n",
    "%config InlineBackend.figure_format = 'png' "
   ]
  },
  {
   "cell_type": "code",
   "execution_count": 8,
   "metadata": {},
   "outputs": [],
   "source": [
    "df=pd.read_csv(\"1january.csv\")"
   ]
  },
  {
   "cell_type": "code",
   "execution_count": 9,
   "metadata": {
    "scrolled": true
   },
   "outputs": [
    {
     "data": {
      "text/html": [
       "<div>\n",
       "<style>\n",
       "    .dataframe thead tr:only-child th {\n",
       "        text-align: right;\n",
       "    }\n",
       "\n",
       "    .dataframe thead th {\n",
       "        text-align: left;\n",
       "    }\n",
       "\n",
       "    .dataframe tbody tr th {\n",
       "        vertical-align: top;\n",
       "    }\n",
       "</style>\n",
       "<table border=\"1\" class=\"dataframe\">\n",
       "  <thead>\n",
       "    <tr style=\"text-align: right;\">\n",
       "      <th></th>\n",
       "      <th>pickup_datetime</th>\n",
       "      <th>pickup_latitude</th>\n",
       "      <th>pickup_longitude</th>\n",
       "      <th>trip_distance</th>\n",
       "      <th>passenger_count</th>\n",
       "      <th>dropoff_datetime</th>\n",
       "      <th>dropoff_latitude</th>\n",
       "      <th>dropoff_longitude</th>\n",
       "      <th>fare_amount</th>\n",
       "      <th>tolls_amount</th>\n",
       "      <th>taxes_amount</th>\n",
       "      <th>tip_amount</th>\n",
       "      <th>payment_amount</th>\n",
       "      <th>payment_type</th>\n",
       "    </tr>\n",
       "  </thead>\n",
       "  <tbody>\n",
       "    <tr>\n",
       "      <th>0</th>\n",
       "      <td>2016-01-01 00:00:00</td>\n",
       "      <td>40.73470</td>\n",
       "      <td>-73.99037</td>\n",
       "      <td>1.10</td>\n",
       "      <td>2</td>\n",
       "      <td>2016-01-01 00:00:00</td>\n",
       "      <td>40.73241</td>\n",
       "      <td>-73.98184</td>\n",
       "      <td>7.5</td>\n",
       "      <td>0.0</td>\n",
       "      <td>1.3</td>\n",
       "      <td>0.0</td>\n",
       "      <td>8.8</td>\n",
       "      <td>2</td>\n",
       "    </tr>\n",
       "    <tr>\n",
       "      <th>1</th>\n",
       "      <td>2016-01-01 00:00:00</td>\n",
       "      <td>40.72991</td>\n",
       "      <td>-73.98078</td>\n",
       "      <td>4.90</td>\n",
       "      <td>5</td>\n",
       "      <td>2016-01-01 00:00:00</td>\n",
       "      <td>40.71668</td>\n",
       "      <td>-73.94447</td>\n",
       "      <td>18.0</td>\n",
       "      <td>0.0</td>\n",
       "      <td>1.3</td>\n",
       "      <td>0.0</td>\n",
       "      <td>19.3</td>\n",
       "      <td>1</td>\n",
       "    </tr>\n",
       "    <tr>\n",
       "      <th>2</th>\n",
       "      <td>2016-01-01 00:00:00</td>\n",
       "      <td>40.67957</td>\n",
       "      <td>-73.98455</td>\n",
       "      <td>10.54</td>\n",
       "      <td>1</td>\n",
       "      <td>2016-01-01 00:00:00</td>\n",
       "      <td>40.78893</td>\n",
       "      <td>-73.95027</td>\n",
       "      <td>33.0</td>\n",
       "      <td>0.0</td>\n",
       "      <td>1.3</td>\n",
       "      <td>0.0</td>\n",
       "      <td>34.3</td>\n",
       "      <td>1</td>\n",
       "    </tr>\n",
       "    <tr>\n",
       "      <th>3</th>\n",
       "      <td>2016-01-01 00:00:00</td>\n",
       "      <td>40.71899</td>\n",
       "      <td>-73.99347</td>\n",
       "      <td>4.75</td>\n",
       "      <td>1</td>\n",
       "      <td>2016-01-01 00:00:00</td>\n",
       "      <td>40.65733</td>\n",
       "      <td>-73.96224</td>\n",
       "      <td>16.5</td>\n",
       "      <td>0.0</td>\n",
       "      <td>0.8</td>\n",
       "      <td>0.0</td>\n",
       "      <td>17.3</td>\n",
       "      <td>2</td>\n",
       "    </tr>\n",
       "    <tr>\n",
       "      <th>4</th>\n",
       "      <td>2016-01-01 00:00:00</td>\n",
       "      <td>40.78133</td>\n",
       "      <td>-73.96062</td>\n",
       "      <td>1.76</td>\n",
       "      <td>3</td>\n",
       "      <td>2016-01-01 00:00:00</td>\n",
       "      <td>40.75851</td>\n",
       "      <td>-73.97726</td>\n",
       "      <td>8.0</td>\n",
       "      <td>0.0</td>\n",
       "      <td>0.8</td>\n",
       "      <td>0.0</td>\n",
       "      <td>8.8</td>\n",
       "      <td>2</td>\n",
       "    </tr>\n",
       "    <tr>\n",
       "      <th>5</th>\n",
       "      <td>2016-01-01 00:00:00</td>\n",
       "      <td>40.74305</td>\n",
       "      <td>-73.98012</td>\n",
       "      <td>5.52</td>\n",
       "      <td>2</td>\n",
       "      <td>2016-01-01 00:18:30</td>\n",
       "      <td>40.76314</td>\n",
       "      <td>-73.91349</td>\n",
       "      <td>19.0</td>\n",
       "      <td>0.0</td>\n",
       "      <td>1.3</td>\n",
       "      <td>0.0</td>\n",
       "      <td>20.3</td>\n",
       "      <td>2</td>\n",
       "    </tr>\n",
       "    <tr>\n",
       "      <th>6</th>\n",
       "      <td>2016-01-01 00:00:00</td>\n",
       "      <td>40.71999</td>\n",
       "      <td>-73.99406</td>\n",
       "      <td>7.45</td>\n",
       "      <td>2</td>\n",
       "      <td>2016-01-01 00:26:45</td>\n",
       "      <td>40.78987</td>\n",
       "      <td>-73.96636</td>\n",
       "      <td>26.0</td>\n",
       "      <td>0.0</td>\n",
       "      <td>1.3</td>\n",
       "      <td>0.0</td>\n",
       "      <td>27.3</td>\n",
       "      <td>2</td>\n",
       "    </tr>\n",
       "    <tr>\n",
       "      <th>7</th>\n",
       "      <td>2016-01-01 00:00:01</td>\n",
       "      <td>40.74461</td>\n",
       "      <td>-73.97942</td>\n",
       "      <td>1.20</td>\n",
       "      <td>1</td>\n",
       "      <td>2016-01-01 00:11:55</td>\n",
       "      <td>40.75394</td>\n",
       "      <td>-73.99203</td>\n",
       "      <td>9.0</td>\n",
       "      <td>0.0</td>\n",
       "      <td>1.3</td>\n",
       "      <td>0.0</td>\n",
       "      <td>10.3</td>\n",
       "      <td>2</td>\n",
       "    </tr>\n",
       "    <tr>\n",
       "      <th>8</th>\n",
       "      <td>2016-01-01 00:00:02</td>\n",
       "      <td>40.72390</td>\n",
       "      <td>-73.99834</td>\n",
       "      <td>3.21</td>\n",
       "      <td>1</td>\n",
       "      <td>2016-01-01 00:11:08</td>\n",
       "      <td>40.68840</td>\n",
       "      <td>-73.99585</td>\n",
       "      <td>11.5</td>\n",
       "      <td>0.0</td>\n",
       "      <td>1.3</td>\n",
       "      <td>0.0</td>\n",
       "      <td>12.8</td>\n",
       "      <td>2</td>\n",
       "    </tr>\n",
       "    <tr>\n",
       "      <th>9</th>\n",
       "      <td>2016-01-01 00:00:02</td>\n",
       "      <td>40.79105</td>\n",
       "      <td>-73.94715</td>\n",
       "      <td>6.00</td>\n",
       "      <td>1</td>\n",
       "      <td>2016-01-01 00:11:14</td>\n",
       "      <td>40.86558</td>\n",
       "      <td>-73.92077</td>\n",
       "      <td>18.0</td>\n",
       "      <td>0.0</td>\n",
       "      <td>1.3</td>\n",
       "      <td>0.0</td>\n",
       "      <td>19.3</td>\n",
       "      <td>2</td>\n",
       "    </tr>\n",
       "  </tbody>\n",
       "</table>\n",
       "</div>"
      ],
      "text/plain": [
       "       pickup_datetime  pickup_latitude  pickup_longitude  trip_distance  \\\n",
       "0  2016-01-01 00:00:00         40.73470         -73.99037           1.10   \n",
       "1  2016-01-01 00:00:00         40.72991         -73.98078           4.90   \n",
       "2  2016-01-01 00:00:00         40.67957         -73.98455          10.54   \n",
       "3  2016-01-01 00:00:00         40.71899         -73.99347           4.75   \n",
       "4  2016-01-01 00:00:00         40.78133         -73.96062           1.76   \n",
       "5  2016-01-01 00:00:00         40.74305         -73.98012           5.52   \n",
       "6  2016-01-01 00:00:00         40.71999         -73.99406           7.45   \n",
       "7  2016-01-01 00:00:01         40.74461         -73.97942           1.20   \n",
       "8  2016-01-01 00:00:02         40.72390         -73.99834           3.21   \n",
       "9  2016-01-01 00:00:02         40.79105         -73.94715           6.00   \n",
       "\n",
       "   passenger_count     dropoff_datetime  dropoff_latitude  dropoff_longitude  \\\n",
       "0                2  2016-01-01 00:00:00          40.73241          -73.98184   \n",
       "1                5  2016-01-01 00:00:00          40.71668          -73.94447   \n",
       "2                1  2016-01-01 00:00:00          40.78893          -73.95027   \n",
       "3                1  2016-01-01 00:00:00          40.65733          -73.96224   \n",
       "4                3  2016-01-01 00:00:00          40.75851          -73.97726   \n",
       "5                2  2016-01-01 00:18:30          40.76314          -73.91349   \n",
       "6                2  2016-01-01 00:26:45          40.78987          -73.96636   \n",
       "7                1  2016-01-01 00:11:55          40.75394          -73.99203   \n",
       "8                1  2016-01-01 00:11:08          40.68840          -73.99585   \n",
       "9                1  2016-01-01 00:11:14          40.86558          -73.92077   \n",
       "\n",
       "   fare_amount  tolls_amount  taxes_amount  tip_amount  payment_amount  \\\n",
       "0          7.5           0.0           1.3         0.0             8.8   \n",
       "1         18.0           0.0           1.3         0.0            19.3   \n",
       "2         33.0           0.0           1.3         0.0            34.3   \n",
       "3         16.5           0.0           0.8         0.0            17.3   \n",
       "4          8.0           0.0           0.8         0.0             8.8   \n",
       "5         19.0           0.0           1.3         0.0            20.3   \n",
       "6         26.0           0.0           1.3         0.0            27.3   \n",
       "7          9.0           0.0           1.3         0.0            10.3   \n",
       "8         11.5           0.0           1.3         0.0            12.8   \n",
       "9         18.0           0.0           1.3         0.0            19.3   \n",
       "\n",
       "   payment_type  \n",
       "0             2  \n",
       "1             1  \n",
       "2             1  \n",
       "3             2  \n",
       "4             2  \n",
       "5             2  \n",
       "6             2  \n",
       "7             2  \n",
       "8             2  \n",
       "9             2  "
      ]
     },
     "execution_count": 9,
     "metadata": {},
     "output_type": "execute_result"
    }
   ],
   "source": [
    "df.head(10)"
   ]
  },
  {
   "cell_type": "code",
   "execution_count": 10,
   "metadata": {},
   "outputs": [
    {
     "data": {
      "text/html": [
       "<div>\n",
       "<style>\n",
       "    .dataframe thead tr:only-child th {\n",
       "        text-align: right;\n",
       "    }\n",
       "\n",
       "    .dataframe thead th {\n",
       "        text-align: left;\n",
       "    }\n",
       "\n",
       "    .dataframe tbody tr th {\n",
       "        vertical-align: top;\n",
       "    }\n",
       "</style>\n",
       "<table border=\"1\" class=\"dataframe\">\n",
       "  <thead>\n",
       "    <tr style=\"text-align: right;\">\n",
       "      <th></th>\n",
       "      <th>pickup_latitude</th>\n",
       "      <th>pickup_longitude</th>\n",
       "      <th>trip_distance</th>\n",
       "      <th>passenger_count</th>\n",
       "      <th>dropoff_latitude</th>\n",
       "      <th>dropoff_longitude</th>\n",
       "      <th>fare_amount</th>\n",
       "      <th>tolls_amount</th>\n",
       "      <th>taxes_amount</th>\n",
       "      <th>tip_amount</th>\n",
       "      <th>payment_amount</th>\n",
       "      <th>payment_type</th>\n",
       "    </tr>\n",
       "  </thead>\n",
       "  <tbody>\n",
       "    <tr>\n",
       "      <th>count</th>\n",
       "      <td>1.090686e+07</td>\n",
       "      <td>1.090686e+07</td>\n",
       "      <td>1.090686e+07</td>\n",
       "      <td>1.090686e+07</td>\n",
       "      <td>1.090686e+07</td>\n",
       "      <td>1.090686e+07</td>\n",
       "      <td>1.090686e+07</td>\n",
       "      <td>1.090686e+07</td>\n",
       "      <td>1.090686e+07</td>\n",
       "      <td>1.090686e+07</td>\n",
       "      <td>1.090686e+07</td>\n",
       "      <td>1.090686e+07</td>\n",
       "    </tr>\n",
       "    <tr>\n",
       "      <th>mean</th>\n",
       "      <td>4.011494e+01</td>\n",
       "      <td>-7.281869e+01</td>\n",
       "      <td>4.648197e+00</td>\n",
       "      <td>1.670847e+00</td>\n",
       "      <td>4.015315e+01</td>\n",
       "      <td>-7.288659e+01</td>\n",
       "      <td>1.248693e+01</td>\n",
       "      <td>2.933453e-01</td>\n",
       "      <td>1.110471e+00</td>\n",
       "      <td>1.750663e+00</td>\n",
       "      <td>1.564140e+01</td>\n",
       "      <td>1.347536e+00</td>\n",
       "    </tr>\n",
       "    <tr>\n",
       "      <th>std</th>\n",
       "      <td>5.051022e+00</td>\n",
       "      <td>9.168964e+00</td>\n",
       "      <td>2.981095e+03</td>\n",
       "      <td>1.324891e+00</td>\n",
       "      <td>4.903456e+00</td>\n",
       "      <td>8.900841e+00</td>\n",
       "      <td>3.556400e+01</td>\n",
       "      <td>1.694572e+00</td>\n",
       "      <td>4.218380e-01</td>\n",
       "      <td>2.623546e+00</td>\n",
       "      <td>3.641280e+01</td>\n",
       "      <td>4.910804e-01</td>\n",
       "    </tr>\n",
       "    <tr>\n",
       "      <th>min</th>\n",
       "      <td>0.000000e+00</td>\n",
       "      <td>-1.219343e+02</td>\n",
       "      <td>0.000000e+00</td>\n",
       "      <td>0.000000e+00</td>\n",
       "      <td>0.000000e+00</td>\n",
       "      <td>-1.219335e+02</td>\n",
       "      <td>-9.576000e+02</td>\n",
       "      <td>-1.740000e+01</td>\n",
       "      <td>-5.300000e+00</td>\n",
       "      <td>-2.208000e+02</td>\n",
       "      <td>-9.584000e+02</td>\n",
       "      <td>1.000000e+00</td>\n",
       "    </tr>\n",
       "    <tr>\n",
       "      <th>25%</th>\n",
       "      <td>4.073630e+01</td>\n",
       "      <td>-7.399151e+01</td>\n",
       "      <td>1.000000e+00</td>\n",
       "      <td>1.000000e+00</td>\n",
       "      <td>4.073481e+01</td>\n",
       "      <td>-7.399107e+01</td>\n",
       "      <td>6.500000e+00</td>\n",
       "      <td>0.000000e+00</td>\n",
       "      <td>8.000000e-01</td>\n",
       "      <td>0.000000e+00</td>\n",
       "      <td>8.300000e+00</td>\n",
       "      <td>1.000000e+00</td>\n",
       "    </tr>\n",
       "    <tr>\n",
       "      <th>50%</th>\n",
       "      <td>4.075369e+01</td>\n",
       "      <td>-7.398138e+01</td>\n",
       "      <td>1.670000e+00</td>\n",
       "      <td>1.000000e+00</td>\n",
       "      <td>4.075413e+01</td>\n",
       "      <td>-7.397942e+01</td>\n",
       "      <td>9.000000e+00</td>\n",
       "      <td>0.000000e+00</td>\n",
       "      <td>8.000000e-01</td>\n",
       "      <td>1.260000e+00</td>\n",
       "      <td>1.162000e+01</td>\n",
       "      <td>1.000000e+00</td>\n",
       "    </tr>\n",
       "    <tr>\n",
       "      <th>75%</th>\n",
       "      <td>4.076808e+01</td>\n",
       "      <td>-7.396610e+01</td>\n",
       "      <td>3.080000e+00</td>\n",
       "      <td>2.000000e+00</td>\n",
       "      <td>4.076962e+01</td>\n",
       "      <td>-7.396196e+01</td>\n",
       "      <td>1.400000e+01</td>\n",
       "      <td>0.000000e+00</td>\n",
       "      <td>1.300000e+00</td>\n",
       "      <td>2.320000e+00</td>\n",
       "      <td>1.716000e+01</td>\n",
       "      <td>2.000000e+00</td>\n",
       "    </tr>\n",
       "    <tr>\n",
       "      <th>max</th>\n",
       "      <td>6.090876e+01</td>\n",
       "      <td>0.000000e+00</td>\n",
       "      <td>8.000010e+06</td>\n",
       "      <td>9.000000e+00</td>\n",
       "      <td>6.090876e+01</td>\n",
       "      <td>0.000000e+00</td>\n",
       "      <td>1.112709e+05</td>\n",
       "      <td>9.801500e+02</td>\n",
       "      <td>6.592200e+02</td>\n",
       "      <td>9.981400e+02</td>\n",
       "      <td>1.112716e+05</td>\n",
       "      <td>5.000000e+00</td>\n",
       "    </tr>\n",
       "  </tbody>\n",
       "</table>\n",
       "</div>"
      ],
      "text/plain": [
       "       pickup_latitude  pickup_longitude  trip_distance  passenger_count  \\\n",
       "count     1.090686e+07      1.090686e+07   1.090686e+07     1.090686e+07   \n",
       "mean      4.011494e+01     -7.281869e+01   4.648197e+00     1.670847e+00   \n",
       "std       5.051022e+00      9.168964e+00   2.981095e+03     1.324891e+00   \n",
       "min       0.000000e+00     -1.219343e+02   0.000000e+00     0.000000e+00   \n",
       "25%       4.073630e+01     -7.399151e+01   1.000000e+00     1.000000e+00   \n",
       "50%       4.075369e+01     -7.398138e+01   1.670000e+00     1.000000e+00   \n",
       "75%       4.076808e+01     -7.396610e+01   3.080000e+00     2.000000e+00   \n",
       "max       6.090876e+01      0.000000e+00   8.000010e+06     9.000000e+00   \n",
       "\n",
       "       dropoff_latitude  dropoff_longitude   fare_amount  tolls_amount  \\\n",
       "count      1.090686e+07       1.090686e+07  1.090686e+07  1.090686e+07   \n",
       "mean       4.015315e+01      -7.288659e+01  1.248693e+01  2.933453e-01   \n",
       "std        4.903456e+00       8.900841e+00  3.556400e+01  1.694572e+00   \n",
       "min        0.000000e+00      -1.219335e+02 -9.576000e+02 -1.740000e+01   \n",
       "25%        4.073481e+01      -7.399107e+01  6.500000e+00  0.000000e+00   \n",
       "50%        4.075413e+01      -7.397942e+01  9.000000e+00  0.000000e+00   \n",
       "75%        4.076962e+01      -7.396196e+01  1.400000e+01  0.000000e+00   \n",
       "max        6.090876e+01       0.000000e+00  1.112709e+05  9.801500e+02   \n",
       "\n",
       "       taxes_amount    tip_amount  payment_amount  payment_type  \n",
       "count  1.090686e+07  1.090686e+07    1.090686e+07  1.090686e+07  \n",
       "mean   1.110471e+00  1.750663e+00    1.564140e+01  1.347536e+00  \n",
       "std    4.218380e-01  2.623546e+00    3.641280e+01  4.910804e-01  \n",
       "min   -5.300000e+00 -2.208000e+02   -9.584000e+02  1.000000e+00  \n",
       "25%    8.000000e-01  0.000000e+00    8.300000e+00  1.000000e+00  \n",
       "50%    8.000000e-01  1.260000e+00    1.162000e+01  1.000000e+00  \n",
       "75%    1.300000e+00  2.320000e+00    1.716000e+01  2.000000e+00  \n",
       "max    6.592200e+02  9.981400e+02    1.112716e+05  5.000000e+00  "
      ]
     },
     "execution_count": 10,
     "metadata": {},
     "output_type": "execute_result"
    }
   ],
   "source": [
    "df.describe()"
   ]
  },
  {
   "cell_type": "code",
   "execution_count": 11,
   "metadata": {},
   "outputs": [
    {
     "name": "stdout",
     "output_type": "stream",
     "text": [
      "(10906858, 14)\n"
     ]
    }
   ],
   "source": [
    "print (df.shape)"
   ]
  },
  {
   "cell_type": "code",
   "execution_count": 12,
   "metadata": {
    "scrolled": true
   },
   "outputs": [
    {
     "name": "stdout",
     "output_type": "stream",
     "text": [
      "(10906858, 14)\n"
     ]
    }
   ],
   "source": [
    "df=df.dropna()\n",
    "print(df.shape)"
   ]
  },
  {
   "cell_type": "markdown",
   "metadata": {},
   "source": [
    "Для того, чтобы с датами можно было работать, преобразуем их в формат datetime. Уберем все записи с отрицательным платежом. Уберем колонки, которые не будут участвовать в анализе. По координатам выберем примерно записи работы такси в районе города Нью-Йорк. \n",
    "Рассчитаем расстояние до Times Square от места, где пассажира забрали и высадили. По разнице значений определим примерно направление движения - в центр города или из центра.\n",
    "Рассчитаем время в пути и среднюю скорость в пути."
   ]
  },
  {
   "cell_type": "code",
   "execution_count": 13,
   "metadata": {
    "collapsed": true
   },
   "outputs": [],
   "source": [
    "df['pickup_datetime']= pd.to_datetime(df.pickup_datetime)"
   ]
  },
  {
   "cell_type": "code",
   "execution_count": 14,
   "metadata": {
    "collapsed": true
   },
   "outputs": [],
   "source": [
    "df['dropoff_datetime']= pd.to_datetime(df.dropoff_datetime)"
   ]
  },
  {
   "cell_type": "code",
   "execution_count": 15,
   "metadata": {
    "collapsed": true
   },
   "outputs": [],
   "source": [
    "df=df [df.payment_amount >0]"
   ]
  },
  {
   "cell_type": "code",
   "execution_count": 16,
   "metadata": {
    "collapsed": true
   },
   "outputs": [],
   "source": [
    "df=df.drop([\"taxes_amount\", \"tolls_amount\", \"fare_amount\"], 1)"
   ]
  },
  {
   "cell_type": "code",
   "execution_count": 17,
   "metadata": {
    "collapsed": true
   },
   "outputs": [],
   "source": [
    "df=df[(df.pickup_latitude>39)& (df.pickup_latitude<42)]\n",
    "df=df[(df.dropoff_latitude>39)& (df.dropoff_latitude<42)]\n",
    "df=df[(df.pickup_longitude<-72)& (df.pickup_longitude>-76)]\n",
    "df=df[(df.dropoff_longitude<-72)& (df.dropoff_longitude>-76)]"
   ]
  },
  {
   "cell_type": "code",
   "execution_count": 18,
   "metadata": {
    "collapsed": true
   },
   "outputs": [],
   "source": [
    "times_square = (40.758888, -73.985134)"
   ]
  },
  {
   "cell_type": "code",
   "execution_count": 19,
   "metadata": {
    "collapsed": true
   },
   "outputs": [],
   "source": [
    "def distance_to_TS(lat,lon):\n",
    "    distance = ((lat - 40.758888)**2+(lon + 73.985134)**2)**(0.5)\n",
    "    return distance"
   ]
  },
  {
   "cell_type": "code",
   "execution_count": 20,
   "metadata": {
    "collapsed": true
   },
   "outputs": [],
   "source": [
    "pickup_distance = distance_to_TS(df.pickup_latitude,df.pickup_longitude)\n",
    "pickup_distance=pickup_distance.to_frame(\"pickup_distance\")\n",
    "df=pd.concat([df, pickup_distance],1)"
   ]
  },
  {
   "cell_type": "code",
   "execution_count": 21,
   "metadata": {
    "collapsed": true
   },
   "outputs": [],
   "source": [
    "dropoff_distance = distance_to_TS(df.dropoff_latitude,df.dropoff_longitude)\n",
    "dropoff_distance=dropoff_distance.to_frame(\"dropoff_distance\")\n",
    "df=pd.concat([df, dropoff_distance],1)"
   ]
  },
  {
   "cell_type": "code",
   "execution_count": 22,
   "metadata": {
    "collapsed": true
   },
   "outputs": [],
   "source": [
    "df['direction '] = np.where(df['pickup_distance']<df['dropoff_distance'], \"Suburbs\", \"Center\")"
   ]
  },
  {
   "cell_type": "code",
   "execution_count": 23,
   "metadata": {
    "collapsed": true
   },
   "outputs": [],
   "source": [
    "df['travel_time_min']=(df['dropoff_datetime']-df['pickup_datetime'])/pd.Timedelta('1 minute')\n"
   ]
  },
  {
   "cell_type": "markdown",
   "metadata": {},
   "source": [
    "На гистограмме показано распределение времени в пути. Видно, что больше 100 минут поездки встречаются редко. \n",
    "Уберем все записи с временем в пути больше 1е4 минут."
   ]
  },
  {
   "cell_type": "code",
   "execution_count": 24,
   "metadata": {},
   "outputs": [
    {
     "data": {
      "image/png": "[encoded data removed]",
      "text/plain": [
       "<matplotlib.figure.Figure at 0x15b8d89e8>"
      ]
     },
     "metadata": {},
     "output_type": "display_data"
    }
   ],
   "source": [
    "plt.hist(df['travel_time_min'],500)\n",
    "ax = plt.gca()\n",
    "# Set axis logaritmic\n",
    "ax.set_yscale('log')\n",
    "ax.set_xscale('log')"
   ]
  },
  {
   "cell_type": "code",
   "execution_count": 25,
   "metadata": {},
   "outputs": [
    {
     "name": "stdout",
     "output_type": "stream",
     "text": [
      "(10716215, 15)\n"
     ]
    }
   ],
   "source": [
    "df=df[df.travel_time_min <1e4]\n",
    "df=df[df.travel_time_min >0]\n",
    "print (df.shape)"
   ]
  },
  {
   "cell_type": "code",
   "execution_count": 26,
   "metadata": {
    "collapsed": true
   },
   "outputs": [],
   "source": [
    "df['avg_speed']= (df['trip_distance']*1.60934)/(df['travel_time_min']/60)"
   ]
  },
  {
   "cell_type": "markdown",
   "metadata": {},
   "source": [
    "По дате рассчитаем день недели, в который была совершена поездка."
   ]
  },
  {
   "cell_type": "code",
   "execution_count": 80,
   "metadata": {},
   "outputs": [],
   "source": [
    "df['day_type']= df['pickup_datetime'].dt.weekday_name\n",
    "df['day_type_num']= df['pickup_datetime'].dt.weekday"
   ]
  },
  {
   "cell_type": "markdown",
   "metadata": {},
   "source": [
    "# Создадим визуализации"
   ]
  },
  {
   "cell_type": "code",
   "execution_count": 74,
   "metadata": {
    "scrolled": false
   },
   "outputs": [
    {
     "data": {
      "text/plain": [
       "Index(['pickup_datetime', 'pickup_latitude', 'pickup_longitude',\n",
       "       'trip_distance', 'passenger_count', 'dropoff_datetime',\n",
       "       'dropoff_latitude', 'dropoff_longitude', 'tip_amount', 'payment_amount',\n",
       "       'payment_type', 'pickup_distance', 'dropoff_distance', 'direction ',\n",
       "       'travel_time_min', 'avg_speed', 'day_type', 'hour', 'tip_ration',\n",
       "       'tip_ratio'],\n",
       "      dtype='object')"
      ]
     },
     "execution_count": 74,
     "metadata": {},
     "output_type": "execute_result"
    }
   ],
   "source": [
    "df.columns"
   ]
  },
  {
   "cell_type": "markdown",
   "metadata": {},
   "source": [
    "\n",
    "В joinplot посмотрим распределение и корреляцию времени в пути travel_time_min и величины чаевых tip_amount"
   ]
  },
  {
   "cell_type": "code",
   "execution_count": 49,
   "metadata": {},
   "outputs": [
    {
     "data": {
      "image/png": "[encoded data removed]",
      "text/plain": [
       "<matplotlib.figure.Figure at 0xb951f60>"
      ]
     },
     "metadata": {},
     "output_type": "display_data"
    }
   ],
   "source": [
    "sns.jointplot(x='travel_time_min', y='tip_amount', \n",
    "              data=df, kind='scatter');\n",
    "ax = plt.gca()\n",
    "ax.set_yscale(\"log\")\n",
    "ax.set_xscale(\"log\")"
   ]
  },
  {
   "cell_type": "markdown",
   "metadata": {},
   "source": [
    "Подсчитаем средний чек для разных дней недели и направления поездки"
   ]
  },
  {
   "cell_type": "code",
   "execution_count": 112,
   "metadata": {},
   "outputs": [],
   "source": [
    "daytype_df = df.groupby(['day_type','day_type_num'])[['tip_amount']].mean().reset_index().sort_values('day_type_num').set_index(['day_type_num'])"
   ]
  },
  {
   "cell_type": "code",
   "execution_count": null,
   "metadata": {
    "collapsed": true
   },
   "outputs": [],
   "source": []
  },
  {
   "cell_type": "code",
   "execution_count": 84,
   "metadata": {},
   "outputs": [],
   "source": [
    "direction_df = df.groupby('direction ')[['tip_amount']].mean()\n",
    "daytype_df = df.groupby('day_type')[['tip_amount']].mean()"
   ]
  },
  {
   "cell_type": "code",
   "execution_count": 76,
   "metadata": {},
   "outputs": [
    {
     "data": {
      "text/html": [
       "<div>\n",
       "<style>\n",
       "    .dataframe thead tr:only-child th {\n",
       "        text-align: right;\n",
       "    }\n",
       "\n",
       "    .dataframe thead th {\n",
       "        text-align: left;\n",
       "    }\n",
       "\n",
       "    .dataframe tbody tr th {\n",
       "        vertical-align: top;\n",
       "    }\n",
       "</style>\n",
       "<table border=\"1\" class=\"dataframe\">\n",
       "  <thead>\n",
       "    <tr style=\"text-align: right;\">\n",
       "      <th></th>\n",
       "      <th>tip_amount</th>\n",
       "    </tr>\n",
       "    <tr>\n",
       "      <th>direction</th>\n",
       "      <th></th>\n",
       "    </tr>\n",
       "  </thead>\n",
       "  <tbody>\n",
       "    <tr>\n",
       "      <th>Center</th>\n",
       "      <td>1.772687</td>\n",
       "    </tr>\n",
       "    <tr>\n",
       "      <th>Suburbs</th>\n",
       "      <td>1.730983</td>\n",
       "    </tr>\n",
       "  </tbody>\n",
       "</table>\n",
       "</div>"
      ],
      "text/plain": [
       "            tip_amount\n",
       "direction             \n",
       "Center        1.772687\n",
       "Suburbs       1.730983"
      ]
     },
     "execution_count": 76,
     "metadata": {},
     "output_type": "execute_result"
    }
   ],
   "source": [
    "direction_df"
   ]
  },
  {
   "cell_type": "code",
   "execution_count": 113,
   "metadata": {},
   "outputs": [
    {
     "data": {
      "text/html": [
       "<style  type=\"text/css\" >\n",
       "    #T_d7fde68c_64a2_11e7_ae72_305a3a453465row0_col1 {\n",
       "            width:  10em;\n",
       "             height:  80%;\n",
       "            background:  linear-gradient(90deg,#d65f5f 75.0%, transparent 0%);\n",
       "        }    #T_d7fde68c_64a2_11e7_ae72_305a3a453465row1_col1 {\n",
       "            width:  10em;\n",
       "             height:  80%;\n",
       "            background:  linear-gradient(90deg,#d65f5f 92.4%, transparent 0%);\n",
       "        }    #T_d7fde68c_64a2_11e7_ae72_305a3a453465row2_col1 {\n",
       "            width:  10em;\n",
       "             height:  80%;\n",
       "            background:  linear-gradient(90deg,#d65f5f 90.6%, transparent 0%);\n",
       "        }    #T_d7fde68c_64a2_11e7_ae72_305a3a453465row3_col1 {\n",
       "            width:  10em;\n",
       "             height:  80%;\n",
       "            background:  linear-gradient(90deg,#d65f5f 100.0%, transparent 0%);\n",
       "        }    #T_d7fde68c_64a2_11e7_ae72_305a3a453465row4_col1 {\n",
       "            width:  10em;\n",
       "             height:  80%;\n",
       "            background:  linear-gradient(90deg,#d65f5f 54.8%, transparent 0%);\n",
       "        }    #T_d7fde68c_64a2_11e7_ae72_305a3a453465row5_col1 {\n",
       "            width:  10em;\n",
       "             height:  80%;\n",
       "        }    #T_d7fde68c_64a2_11e7_ae72_305a3a453465row6_col1 {\n",
       "            width:  10em;\n",
       "             height:  80%;\n",
       "            background:  linear-gradient(90deg,#d65f5f 36.2%, transparent 0%);\n",
       "        }</style>  \n",
       "<table id=\"T_d7fde68c_64a2_11e7_ae72_305a3a453465\" > \n",
       "<thead>    <tr> \n",
       "        <th class=\"blank level0\" ></th> \n",
       "        <th class=\"col_heading level0 col0\" >day_type</th> \n",
       "        <th class=\"col_heading level0 col1\" >tip_amount</th> \n",
       "    </tr>    <tr> \n",
       "        <th class=\"index_name level0\" >day_type_num</th> \n",
       "        <th class=\"blank\" ></th> \n",
       "        <th class=\"blank\" ></th> \n",
       "    </tr></thead> \n",
       "<tbody>    <tr> \n",
       "        <th id=\"T_d7fde68c_64a2_11e7_ae72_305a3a453465level0_row0\" class=\"row_heading level0 row0\" >0</th> \n",
       "        <td id=\"T_d7fde68c_64a2_11e7_ae72_305a3a453465row0_col0\" class=\"data row0 col0\" >Monday</td> \n",
       "        <td id=\"T_d7fde68c_64a2_11e7_ae72_305a3a453465row0_col1\" class=\"data row0 col1\" >1.78757</td> \n",
       "    </tr>    <tr> \n",
       "        <th id=\"T_d7fde68c_64a2_11e7_ae72_305a3a453465level0_row1\" class=\"row_heading level0 row1\" >1</th> \n",
       "        <td id=\"T_d7fde68c_64a2_11e7_ae72_305a3a453465row1_col0\" class=\"data row1 col0\" >Tuesday</td> \n",
       "        <td id=\"T_d7fde68c_64a2_11e7_ae72_305a3a453465row1_col1\" class=\"data row1 col1\" >1.83906</td> \n",
       "    </tr>    <tr> \n",
       "        <th id=\"T_d7fde68c_64a2_11e7_ae72_305a3a453465level0_row2\" class=\"row_heading level0 row2\" >2</th> \n",
       "        <td id=\"T_d7fde68c_64a2_11e7_ae72_305a3a453465row2_col0\" class=\"data row2 col0\" >Wednesday</td> \n",
       "        <td id=\"T_d7fde68c_64a2_11e7_ae72_305a3a453465row2_col1\" class=\"data row2 col1\" >1.83362</td> \n",
       "    </tr>    <tr> \n",
       "        <th id=\"T_d7fde68c_64a2_11e7_ae72_305a3a453465level0_row3\" class=\"row_heading level0 row3\" >3</th> \n",
       "        <td id=\"T_d7fde68c_64a2_11e7_ae72_305a3a453465row3_col0\" class=\"data row3 col0\" >Thursday</td> \n",
       "        <td id=\"T_d7fde68c_64a2_11e7_ae72_305a3a453465row3_col1\" class=\"data row3 col1\" >1.8615</td> \n",
       "    </tr>    <tr> \n",
       "        <th id=\"T_d7fde68c_64a2_11e7_ae72_305a3a453465level0_row4\" class=\"row_heading level0 row4\" >4</th> \n",
       "        <td id=\"T_d7fde68c_64a2_11e7_ae72_305a3a453465row4_col0\" class=\"data row4 col0\" >Friday</td> \n",
       "        <td id=\"T_d7fde68c_64a2_11e7_ae72_305a3a453465row4_col1\" class=\"data row4 col1\" >1.72764</td> \n",
       "    </tr>    <tr> \n",
       "        <th id=\"T_d7fde68c_64a2_11e7_ae72_305a3a453465level0_row5\" class=\"row_heading level0 row5\" >5</th> \n",
       "        <td id=\"T_d7fde68c_64a2_11e7_ae72_305a3a453465row5_col0\" class=\"data row5 col0\" >Saturday</td> \n",
       "        <td id=\"T_d7fde68c_64a2_11e7_ae72_305a3a453465row5_col1\" class=\"data row5 col1\" >1.5653</td> \n",
       "    </tr>    <tr> \n",
       "        <th id=\"T_d7fde68c_64a2_11e7_ae72_305a3a453465level0_row6\" class=\"row_heading level0 row6\" >6</th> \n",
       "        <td id=\"T_d7fde68c_64a2_11e7_ae72_305a3a453465row6_col0\" class=\"data row6 col0\" >Sunday</td> \n",
       "        <td id=\"T_d7fde68c_64a2_11e7_ae72_305a3a453465row6_col1\" class=\"data row6 col1\" >1.67252</td> \n",
       "    </tr></tbody> \n",
       "</table> "
      ],
      "text/plain": [
       "<pandas.io.formats.style.Styler at 0x80944588>"
      ]
     },
     "execution_count": 113,
     "metadata": {},
     "output_type": "execute_result"
    }
   ],
   "source": [
    "daytype_df.style.bar()"
   ]
  },
  {
   "cell_type": "code",
   "execution_count": 36,
   "metadata": {
    "collapsed": true
   },
   "outputs": [],
   "source": [
    "df['hour']= df['pickup_datetime'].dt.hour\n",
    "hour_df = df.groupby('hour')[['tip_amount']].mean()"
   ]
  },
  {
   "cell_type": "code",
   "execution_count": 37,
   "metadata": {
    "scrolled": true
   },
   "outputs": [
    {
     "data": {
      "text/html": [
       "<style  type=\"text/css\" >\n",
       "    #T_a5a379e8_649b_11e7_844f_305a3a453465row0_col0 {\n",
       "            width:  10em;\n",
       "             height:  80%;\n",
       "            background:  linear-gradient(90deg,#d65f5f 45.1%, transparent 0%);\n",
       "        }    #T_a5a379e8_649b_11e7_844f_305a3a453465row1_col0 {\n",
       "            width:  10em;\n",
       "             height:  80%;\n",
       "            background:  linear-gradient(90deg,#d65f5f 26.0%, transparent 0%);\n",
       "        }    #T_a5a379e8_649b_11e7_844f_305a3a453465row2_col0 {\n",
       "            width:  10em;\n",
       "             height:  80%;\n",
       "            background:  linear-gradient(90deg,#d65f5f 9.3%, transparent 0%);\n",
       "        }    #T_a5a379e8_649b_11e7_844f_305a3a453465row3_col0 {\n",
       "            width:  10em;\n",
       "             height:  80%;\n",
       "        }    #T_a5a379e8_649b_11e7_844f_305a3a453465row4_col0 {\n",
       "            width:  10em;\n",
       "             height:  80%;\n",
       "            background:  linear-gradient(90deg,#d65f5f 18.3%, transparent 0%);\n",
       "        }    #T_a5a379e8_649b_11e7_844f_305a3a453465row5_col0 {\n",
       "            width:  10em;\n",
       "             height:  80%;\n",
       "            background:  linear-gradient(90deg,#d65f5f 100.0%, transparent 0%);\n",
       "        }    #T_a5a379e8_649b_11e7_844f_305a3a453465row6_col0 {\n",
       "            width:  10em;\n",
       "             height:  80%;\n",
       "            background:  linear-gradient(90deg,#d65f5f 39.5%, transparent 0%);\n",
       "        }    #T_a5a379e8_649b_11e7_844f_305a3a453465row7_col0 {\n",
       "            width:  10em;\n",
       "             height:  80%;\n",
       "            background:  linear-gradient(90deg,#d65f5f 14.1%, transparent 0%);\n",
       "        }    #T_a5a379e8_649b_11e7_844f_305a3a453465row8_col0 {\n",
       "            width:  10em;\n",
       "             height:  80%;\n",
       "            background:  linear-gradient(90deg,#d65f5f 25.5%, transparent 0%);\n",
       "        }    #T_a5a379e8_649b_11e7_844f_305a3a453465row9_col0 {\n",
       "            width:  10em;\n",
       "             height:  80%;\n",
       "            background:  linear-gradient(90deg,#d65f5f 21.1%, transparent 0%);\n",
       "        }    #T_a5a379e8_649b_11e7_844f_305a3a453465row10_col0 {\n",
       "            width:  10em;\n",
       "             height:  80%;\n",
       "            background:  linear-gradient(90deg,#d65f5f 11.1%, transparent 0%);\n",
       "        }    #T_a5a379e8_649b_11e7_844f_305a3a453465row11_col0 {\n",
       "            width:  10em;\n",
       "             height:  80%;\n",
       "            background:  linear-gradient(90deg,#d65f5f 1.7%, transparent 0%);\n",
       "        }    #T_a5a379e8_649b_11e7_844f_305a3a453465row12_col0 {\n",
       "            width:  10em;\n",
       "             height:  80%;\n",
       "            background:  linear-gradient(90deg,#d65f5f 1.7%, transparent 0%);\n",
       "        }    #T_a5a379e8_649b_11e7_844f_305a3a453465row13_col0 {\n",
       "            width:  10em;\n",
       "             height:  80%;\n",
       "            background:  linear-gradient(90deg,#d65f5f 7.7%, transparent 0%);\n",
       "        }    #T_a5a379e8_649b_11e7_844f_305a3a453465row14_col0 {\n",
       "            width:  10em;\n",
       "             height:  80%;\n",
       "            background:  linear-gradient(90deg,#d65f5f 21.1%, transparent 0%);\n",
       "        }    #T_a5a379e8_649b_11e7_844f_305a3a453465row15_col0 {\n",
       "            width:  10em;\n",
       "             height:  80%;\n",
       "            background:  linear-gradient(90deg,#d65f5f 20.6%, transparent 0%);\n",
       "        }    #T_a5a379e8_649b_11e7_844f_305a3a453465row16_col0 {\n",
       "            width:  10em;\n",
       "             height:  80%;\n",
       "            background:  linear-gradient(90deg,#d65f5f 33.7%, transparent 0%);\n",
       "        }    #T_a5a379e8_649b_11e7_844f_305a3a453465row17_col0 {\n",
       "            width:  10em;\n",
       "             height:  80%;\n",
       "            background:  linear-gradient(90deg,#d65f5f 31.7%, transparent 0%);\n",
       "        }    #T_a5a379e8_649b_11e7_844f_305a3a453465row18_col0 {\n",
       "            width:  10em;\n",
       "             height:  80%;\n",
       "            background:  linear-gradient(90deg,#d65f5f 23.5%, transparent 0%);\n",
       "        }    #T_a5a379e8_649b_11e7_844f_305a3a453465row19_col0 {\n",
       "            width:  10em;\n",
       "             height:  80%;\n",
       "            background:  linear-gradient(90deg,#d65f5f 26.7%, transparent 0%);\n",
       "        }    #T_a5a379e8_649b_11e7_844f_305a3a453465row20_col0 {\n",
       "            width:  10em;\n",
       "             height:  80%;\n",
       "            background:  linear-gradient(90deg,#d65f5f 47.0%, transparent 0%);\n",
       "        }    #T_a5a379e8_649b_11e7_844f_305a3a453465row21_col0 {\n",
       "            width:  10em;\n",
       "             height:  80%;\n",
       "            background:  linear-gradient(90deg,#d65f5f 57.1%, transparent 0%);\n",
       "        }    #T_a5a379e8_649b_11e7_844f_305a3a453465row22_col0 {\n",
       "            width:  10em;\n",
       "             height:  80%;\n",
       "            background:  linear-gradient(90deg,#d65f5f 62.5%, transparent 0%);\n",
       "        }    #T_a5a379e8_649b_11e7_844f_305a3a453465row23_col0 {\n",
       "            width:  10em;\n",
       "             height:  80%;\n",
       "            background:  linear-gradient(90deg,#d65f5f 61.8%, transparent 0%);\n",
       "        }</style>  \n",
       "<table id=\"T_a5a379e8_649b_11e7_844f_305a3a453465\" > \n",
       "<thead>    <tr> \n",
       "        <th class=\"blank level0\" ></th> \n",
       "        <th class=\"col_heading level0 col0\" >tip_amount</th> \n",
       "    </tr>    <tr> \n",
       "        <th class=\"index_name level0\" >hour</th> \n",
       "        <th class=\"blank\" ></th> \n",
       "    </tr></thead> \n",
       "<tbody>    <tr> \n",
       "        <th id=\"T_a5a379e8_649b_11e7_844f_305a3a453465level0_row0\" class=\"row_heading level0 row0\" >0</th> \n",
       "        <td id=\"T_a5a379e8_649b_11e7_844f_305a3a453465row0_col0\" class=\"data row0 col0\" >1.82785</td> \n",
       "    </tr>    <tr> \n",
       "        <th id=\"T_a5a379e8_649b_11e7_844f_305a3a453465level0_row1\" class=\"row_heading level0 row1\" >1</th> \n",
       "        <td id=\"T_a5a379e8_649b_11e7_844f_305a3a453465row1_col0\" class=\"data row1 col0\" >1.73683</td> \n",
       "    </tr>    <tr> \n",
       "        <th id=\"T_a5a379e8_649b_11e7_844f_305a3a453465level0_row2\" class=\"row_heading level0 row2\" >2</th> \n",
       "        <td id=\"T_a5a379e8_649b_11e7_844f_305a3a453465row2_col0\" class=\"data row2 col0\" >1.65735</td> \n",
       "    </tr>    <tr> \n",
       "        <th id=\"T_a5a379e8_649b_11e7_844f_305a3a453465level0_row3\" class=\"row_heading level0 row3\" >3</th> \n",
       "        <td id=\"T_a5a379e8_649b_11e7_844f_305a3a453465row3_col0\" class=\"data row3 col0\" >1.61306</td> \n",
       "    </tr>    <tr> \n",
       "        <th id=\"T_a5a379e8_649b_11e7_844f_305a3a453465level0_row4\" class=\"row_heading level0 row4\" >4</th> \n",
       "        <td id=\"T_a5a379e8_649b_11e7_844f_305a3a453465row4_col0\" class=\"data row4 col0\" >1.70006</td> \n",
       "    </tr>    <tr> \n",
       "        <th id=\"T_a5a379e8_649b_11e7_844f_305a3a453465level0_row5\" class=\"row_heading level0 row5\" >5</th> \n",
       "        <td id=\"T_a5a379e8_649b_11e7_844f_305a3a453465row5_col0\" class=\"data row5 col0\" >2.0888</td> \n",
       "    </tr>    <tr> \n",
       "        <th id=\"T_a5a379e8_649b_11e7_844f_305a3a453465level0_row6\" class=\"row_heading level0 row6\" >6</th> \n",
       "        <td id=\"T_a5a379e8_649b_11e7_844f_305a3a453465row6_col0\" class=\"data row6 col0\" >1.80093</td> \n",
       "    </tr>    <tr> \n",
       "        <th id=\"T_a5a379e8_649b_11e7_844f_305a3a453465level0_row7\" class=\"row_heading level0 row7\" >7</th> \n",
       "        <td id=\"T_a5a379e8_649b_11e7_844f_305a3a453465row7_col0\" class=\"data row7 col0\" >1.68027</td> \n",
       "    </tr>    <tr> \n",
       "        <th id=\"T_a5a379e8_649b_11e7_844f_305a3a453465level0_row8\" class=\"row_heading level0 row8\" >8</th> \n",
       "        <td id=\"T_a5a379e8_649b_11e7_844f_305a3a453465row8_col0\" class=\"data row8 col0\" >1.73421</td> \n",
       "    </tr>    <tr> \n",
       "        <th id=\"T_a5a379e8_649b_11e7_844f_305a3a453465level0_row9\" class=\"row_heading level0 row9\" >9</th> \n",
       "        <td id=\"T_a5a379e8_649b_11e7_844f_305a3a453465row9_col0\" class=\"data row9 col0\" >1.71331</td> \n",
       "    </tr>    <tr> \n",
       "        <th id=\"T_a5a379e8_649b_11e7_844f_305a3a453465level0_row10\" class=\"row_heading level0 row10\" >10</th> \n",
       "        <td id=\"T_a5a379e8_649b_11e7_844f_305a3a453465row10_col0\" class=\"data row10 col0\" >1.66601</td> \n",
       "    </tr>    <tr> \n",
       "        <th id=\"T_a5a379e8_649b_11e7_844f_305a3a453465level0_row11\" class=\"row_heading level0 row11\" >11</th> \n",
       "        <td id=\"T_a5a379e8_649b_11e7_844f_305a3a453465row11_col0\" class=\"data row11 col0\" >1.62091</td> \n",
       "    </tr>    <tr> \n",
       "        <th id=\"T_a5a379e8_649b_11e7_844f_305a3a453465level0_row12\" class=\"row_heading level0 row12\" >12</th> \n",
       "        <td id=\"T_a5a379e8_649b_11e7_844f_305a3a453465row12_col0\" class=\"data row12 col0\" >1.62097</td> \n",
       "    </tr>    <tr> \n",
       "        <th id=\"T_a5a379e8_649b_11e7_844f_305a3a453465level0_row13\" class=\"row_heading level0 row13\" >13</th> \n",
       "        <td id=\"T_a5a379e8_649b_11e7_844f_305a3a453465row13_col0\" class=\"data row13 col0\" >1.64991</td> \n",
       "    </tr>    <tr> \n",
       "        <th id=\"T_a5a379e8_649b_11e7_844f_305a3a453465level0_row14\" class=\"row_heading level0 row14\" >14</th> \n",
       "        <td id=\"T_a5a379e8_649b_11e7_844f_305a3a453465row14_col0\" class=\"data row14 col0\" >1.71344</td> \n",
       "    </tr>    <tr> \n",
       "        <th id=\"T_a5a379e8_649b_11e7_844f_305a3a453465level0_row15\" class=\"row_heading level0 row15\" >15</th> \n",
       "        <td id=\"T_a5a379e8_649b_11e7_844f_305a3a453465row15_col0\" class=\"data row15 col0\" >1.71127</td> \n",
       "    </tr>    <tr> \n",
       "        <th id=\"T_a5a379e8_649b_11e7_844f_305a3a453465level0_row16\" class=\"row_heading level0 row16\" >16</th> \n",
       "        <td id=\"T_a5a379e8_649b_11e7_844f_305a3a453465row16_col0\" class=\"data row16 col0\" >1.7732</td> \n",
       "    </tr>    <tr> \n",
       "        <th id=\"T_a5a379e8_649b_11e7_844f_305a3a453465level0_row17\" class=\"row_heading level0 row17\" >17</th> \n",
       "        <td id=\"T_a5a379e8_649b_11e7_844f_305a3a453465row17_col0\" class=\"data row17 col0\" >1.76366</td> \n",
       "    </tr>    <tr> \n",
       "        <th id=\"T_a5a379e8_649b_11e7_844f_305a3a453465level0_row18\" class=\"row_heading level0 row18\" >18</th> \n",
       "        <td id=\"T_a5a379e8_649b_11e7_844f_305a3a453465row18_col0\" class=\"data row18 col0\" >1.72473</td> \n",
       "    </tr>    <tr> \n",
       "        <th id=\"T_a5a379e8_649b_11e7_844f_305a3a453465level0_row19\" class=\"row_heading level0 row19\" >19</th> \n",
       "        <td id=\"T_a5a379e8_649b_11e7_844f_305a3a453465row19_col0\" class=\"data row19 col0\" >1.74</td> \n",
       "    </tr>    <tr> \n",
       "        <th id=\"T_a5a379e8_649b_11e7_844f_305a3a453465level0_row20\" class=\"row_heading level0 row20\" >20</th> \n",
       "        <td id=\"T_a5a379e8_649b_11e7_844f_305a3a453465row20_col0\" class=\"data row20 col0\" >1.83645</td> \n",
       "    </tr>    <tr> \n",
       "        <th id=\"T_a5a379e8_649b_11e7_844f_305a3a453465level0_row21\" class=\"row_heading level0 row21\" >21</th> \n",
       "        <td id=\"T_a5a379e8_649b_11e7_844f_305a3a453465row21_col0\" class=\"data row21 col0\" >1.88471</td> \n",
       "    </tr>    <tr> \n",
       "        <th id=\"T_a5a379e8_649b_11e7_844f_305a3a453465level0_row22\" class=\"row_heading level0 row22\" >22</th> \n",
       "        <td id=\"T_a5a379e8_649b_11e7_844f_305a3a453465row22_col0\" class=\"data row22 col0\" >1.91052</td> \n",
       "    </tr>    <tr> \n",
       "        <th id=\"T_a5a379e8_649b_11e7_844f_305a3a453465level0_row23\" class=\"row_heading level0 row23\" >23</th> \n",
       "        <td id=\"T_a5a379e8_649b_11e7_844f_305a3a453465row23_col0\" class=\"data row23 col0\" >1.90703</td> \n",
       "    </tr></tbody> \n",
       "</table> "
      ],
      "text/plain": [
       "<pandas.io.formats.style.Styler at 0xb7f1240>"
      ]
     },
     "execution_count": 37,
     "metadata": {},
     "output_type": "execute_result"
    }
   ],
   "source": [
    "hour_df.style.bar()"
   ]
  },
  {
   "cell_type": "code",
   "execution_count": 59,
   "metadata": {
    "collapsed": true
   },
   "outputs": [],
   "source": [
    "hour_payment_df = df.groupby('hour')[['payment_amount']].mean()"
   ]
  },
  {
   "cell_type": "code",
   "execution_count": 60,
   "metadata": {
    "scrolled": false
   },
   "outputs": [
    {
     "data": {
      "text/html": [
       "<style  type=\"text/css\" >\n",
       "    #T_b5c2b4fa_649d_11e7_a7e3_305a3a453465row0_col0 {\n",
       "            width:  10em;\n",
       "             height:  80%;\n",
       "            background:  linear-gradient(90deg,#d65f5f 32.2%, transparent 0%);\n",
       "        }    #T_b5c2b4fa_649d_11e7_a7e3_305a3a453465row1_col0 {\n",
       "            width:  10em;\n",
       "             height:  80%;\n",
       "            background:  linear-gradient(90deg,#d65f5f 23.4%, transparent 0%);\n",
       "        }    #T_b5c2b4fa_649d_11e7_a7e3_305a3a453465row2_col0 {\n",
       "            width:  10em;\n",
       "             height:  80%;\n",
       "            background:  linear-gradient(90deg,#d65f5f 19.8%, transparent 0%);\n",
       "        }    #T_b5c2b4fa_649d_11e7_a7e3_305a3a453465row3_col0 {\n",
       "            width:  10em;\n",
       "             height:  80%;\n",
       "            background:  linear-gradient(90deg,#d65f5f 30.1%, transparent 0%);\n",
       "        }    #T_b5c2b4fa_649d_11e7_a7e3_305a3a453465row4_col0 {\n",
       "            width:  10em;\n",
       "             height:  80%;\n",
       "            background:  linear-gradient(90deg,#d65f5f 68.8%, transparent 0%);\n",
       "        }    #T_b5c2b4fa_649d_11e7_a7e3_305a3a453465row5_col0 {\n",
       "            width:  10em;\n",
       "             height:  80%;\n",
       "            background:  linear-gradient(90deg,#d65f5f 100.0%, transparent 0%);\n",
       "        }    #T_b5c2b4fa_649d_11e7_a7e3_305a3a453465row6_col0 {\n",
       "            width:  10em;\n",
       "             height:  80%;\n",
       "            background:  linear-gradient(90deg,#d65f5f 27.6%, transparent 0%);\n",
       "        }    #T_b5c2b4fa_649d_11e7_a7e3_305a3a453465row7_col0 {\n",
       "            width:  10em;\n",
       "             height:  80%;\n",
       "            background:  linear-gradient(90deg,#d65f5f 0.2%, transparent 0%);\n",
       "        }    #T_b5c2b4fa_649d_11e7_a7e3_305a3a453465row8_col0 {\n",
       "            width:  10em;\n",
       "             height:  80%;\n",
       "        }    #T_b5c2b4fa_649d_11e7_a7e3_305a3a453465row9_col0 {\n",
       "            width:  10em;\n",
       "             height:  80%;\n",
       "            background:  linear-gradient(90deg,#d65f5f 1.1%, transparent 0%);\n",
       "        }    #T_b5c2b4fa_649d_11e7_a7e3_305a3a453465row10_col0 {\n",
       "            width:  10em;\n",
       "             height:  80%;\n",
       "            background:  linear-gradient(90deg,#d65f5f 4.6%, transparent 0%);\n",
       "        }    #T_b5c2b4fa_649d_11e7_a7e3_305a3a453465row11_col0 {\n",
       "            width:  10em;\n",
       "             height:  80%;\n",
       "            background:  linear-gradient(90deg,#d65f5f 2.1%, transparent 0%);\n",
       "        }    #T_b5c2b4fa_649d_11e7_a7e3_305a3a453465row12_col0 {\n",
       "            width:  10em;\n",
       "             height:  80%;\n",
       "            background:  linear-gradient(90deg,#d65f5f 2.4%, transparent 0%);\n",
       "        }    #T_b5c2b4fa_649d_11e7_a7e3_305a3a453465row13_col0 {\n",
       "            width:  10em;\n",
       "             height:  80%;\n",
       "            background:  linear-gradient(90deg,#d65f5f 10.9%, transparent 0%);\n",
       "        }    #T_b5c2b4fa_649d_11e7_a7e3_305a3a453465row14_col0 {\n",
       "            width:  10em;\n",
       "             height:  80%;\n",
       "            background:  linear-gradient(90deg,#d65f5f 25.6%, transparent 0%);\n",
       "        }    #T_b5c2b4fa_649d_11e7_a7e3_305a3a453465row15_col0 {\n",
       "            width:  10em;\n",
       "             height:  80%;\n",
       "            background:  linear-gradient(90deg,#d65f5f 21.9%, transparent 0%);\n",
       "        }    #T_b5c2b4fa_649d_11e7_a7e3_305a3a453465row16_col0 {\n",
       "            width:  10em;\n",
       "             height:  80%;\n",
       "            background:  linear-gradient(90deg,#d65f5f 32.3%, transparent 0%);\n",
       "        }    #T_b5c2b4fa_649d_11e7_a7e3_305a3a453465row17_col0 {\n",
       "            width:  10em;\n",
       "             height:  80%;\n",
       "            background:  linear-gradient(90deg,#d65f5f 25.0%, transparent 0%);\n",
       "        }    #T_b5c2b4fa_649d_11e7_a7e3_305a3a453465row18_col0 {\n",
       "            width:  10em;\n",
       "             height:  80%;\n",
       "            background:  linear-gradient(90deg,#d65f5f 10.9%, transparent 0%);\n",
       "        }    #T_b5c2b4fa_649d_11e7_a7e3_305a3a453465row19_col0 {\n",
       "            width:  10em;\n",
       "             height:  80%;\n",
       "            background:  linear-gradient(90deg,#d65f5f 7.0%, transparent 0%);\n",
       "        }    #T_b5c2b4fa_649d_11e7_a7e3_305a3a453465row20_col0 {\n",
       "            width:  10em;\n",
       "             height:  80%;\n",
       "            background:  linear-gradient(90deg,#d65f5f 15.2%, transparent 0%);\n",
       "        }    #T_b5c2b4fa_649d_11e7_a7e3_305a3a453465row21_col0 {\n",
       "            width:  10em;\n",
       "             height:  80%;\n",
       "            background:  linear-gradient(90deg,#d65f5f 22.1%, transparent 0%);\n",
       "        }    #T_b5c2b4fa_649d_11e7_a7e3_305a3a453465row22_col0 {\n",
       "            width:  10em;\n",
       "             height:  80%;\n",
       "            background:  linear-gradient(90deg,#d65f5f 29.8%, transparent 0%);\n",
       "        }    #T_b5c2b4fa_649d_11e7_a7e3_305a3a453465row23_col0 {\n",
       "            width:  10em;\n",
       "             height:  80%;\n",
       "            background:  linear-gradient(90deg,#d65f5f 38.8%, transparent 0%);\n",
       "        }</style>  \n",
       "<table id=\"T_b5c2b4fa_649d_11e7_a7e3_305a3a453465\" > \n",
       "<thead>    <tr> \n",
       "        <th class=\"blank level0\" ></th> \n",
       "        <th class=\"col_heading level0 col0\" >payment_amount</th> \n",
       "    </tr>    <tr> \n",
       "        <th class=\"index_name level0\" >hour</th> \n",
       "        <th class=\"blank\" ></th> \n",
       "    </tr></thead> \n",
       "<tbody>    <tr> \n",
       "        <th id=\"T_b5c2b4fa_649d_11e7_a7e3_305a3a453465level0_row0\" class=\"row_heading level0 row0\" >0</th> \n",
       "        <td id=\"T_b5c2b4fa_649d_11e7_a7e3_305a3a453465row0_col0\" class=\"data row0 col0\" >16.3747</td> \n",
       "    </tr>    <tr> \n",
       "        <th id=\"T_b5c2b4fa_649d_11e7_a7e3_305a3a453465level0_row1\" class=\"row_heading level0 row1\" >1</th> \n",
       "        <td id=\"T_b5c2b4fa_649d_11e7_a7e3_305a3a453465row1_col0\" class=\"data row1 col0\" >15.915</td> \n",
       "    </tr>    <tr> \n",
       "        <th id=\"T_b5c2b4fa_649d_11e7_a7e3_305a3a453465level0_row2\" class=\"row_heading level0 row2\" >2</th> \n",
       "        <td id=\"T_b5c2b4fa_649d_11e7_a7e3_305a3a453465row2_col0\" class=\"data row2 col0\" >15.7233</td> \n",
       "    </tr>    <tr> \n",
       "        <th id=\"T_b5c2b4fa_649d_11e7_a7e3_305a3a453465level0_row3\" class=\"row_heading level0 row3\" >3</th> \n",
       "        <td id=\"T_b5c2b4fa_649d_11e7_a7e3_305a3a453465row3_col0\" class=\"data row3 col0\" >16.2616</td> \n",
       "    </tr>    <tr> \n",
       "        <th id=\"T_b5c2b4fa_649d_11e7_a7e3_305a3a453465level0_row4\" class=\"row_heading level0 row4\" >4</th> \n",
       "        <td id=\"T_b5c2b4fa_649d_11e7_a7e3_305a3a453465row4_col0\" class=\"data row4 col0\" >18.2894</td> \n",
       "    </tr>    <tr> \n",
       "        <th id=\"T_b5c2b4fa_649d_11e7_a7e3_305a3a453465level0_row5\" class=\"row_heading level0 row5\" >5</th> \n",
       "        <td id=\"T_b5c2b4fa_649d_11e7_a7e3_305a3a453465row5_col0\" class=\"data row5 col0\" >19.9192</td> \n",
       "    </tr>    <tr> \n",
       "        <th id=\"T_b5c2b4fa_649d_11e7_a7e3_305a3a453465level0_row6\" class=\"row_heading level0 row6\" >6</th> \n",
       "        <td id=\"T_b5c2b4fa_649d_11e7_a7e3_305a3a453465row6_col0\" class=\"data row6 col0\" >16.1346</td> \n",
       "    </tr>    <tr> \n",
       "        <th id=\"T_b5c2b4fa_649d_11e7_a7e3_305a3a453465level0_row7\" class=\"row_heading level0 row7\" >7</th> \n",
       "        <td id=\"T_b5c2b4fa_649d_11e7_a7e3_305a3a453465row7_col0\" class=\"data row7 col0\" >14.6984</td> \n",
       "    </tr>    <tr> \n",
       "        <th id=\"T_b5c2b4fa_649d_11e7_a7e3_305a3a453465level0_row8\" class=\"row_heading level0 row8\" >8</th> \n",
       "        <td id=\"T_b5c2b4fa_649d_11e7_a7e3_305a3a453465row8_col0\" class=\"data row8 col0\" >14.6888</td> \n",
       "    </tr>    <tr> \n",
       "        <th id=\"T_b5c2b4fa_649d_11e7_a7e3_305a3a453465level0_row9\" class=\"row_heading level0 row9\" >9</th> \n",
       "        <td id=\"T_b5c2b4fa_649d_11e7_a7e3_305a3a453465row9_col0\" class=\"data row9 col0\" >14.7486</td> \n",
       "    </tr>    <tr> \n",
       "        <th id=\"T_b5c2b4fa_649d_11e7_a7e3_305a3a453465level0_row10\" class=\"row_heading level0 row10\" >10</th> \n",
       "        <td id=\"T_b5c2b4fa_649d_11e7_a7e3_305a3a453465row10_col0\" class=\"data row10 col0\" >14.927</td> \n",
       "    </tr>    <tr> \n",
       "        <th id=\"T_b5c2b4fa_649d_11e7_a7e3_305a3a453465level0_row11\" class=\"row_heading level0 row11\" >11</th> \n",
       "        <td id=\"T_b5c2b4fa_649d_11e7_a7e3_305a3a453465row11_col0\" class=\"data row11 col0\" >14.7975</td> \n",
       "    </tr>    <tr> \n",
       "        <th id=\"T_b5c2b4fa_649d_11e7_a7e3_305a3a453465level0_row12\" class=\"row_heading level0 row12\" >12</th> \n",
       "        <td id=\"T_b5c2b4fa_649d_11e7_a7e3_305a3a453465row12_col0\" class=\"data row12 col0\" >14.8161</td> \n",
       "    </tr>    <tr> \n",
       "        <th id=\"T_b5c2b4fa_649d_11e7_a7e3_305a3a453465level0_row13\" class=\"row_heading level0 row13\" >13</th> \n",
       "        <td id=\"T_b5c2b4fa_649d_11e7_a7e3_305a3a453465row13_col0\" class=\"data row13 col0\" >15.2597</td> \n",
       "    </tr>    <tr> \n",
       "        <th id=\"T_b5c2b4fa_649d_11e7_a7e3_305a3a453465level0_row14\" class=\"row_heading level0 row14\" >14</th> \n",
       "        <td id=\"T_b5c2b4fa_649d_11e7_a7e3_305a3a453465row14_col0\" class=\"data row14 col0\" >16.0265</td> \n",
       "    </tr>    <tr> \n",
       "        <th id=\"T_b5c2b4fa_649d_11e7_a7e3_305a3a453465level0_row15\" class=\"row_heading level0 row15\" >15</th> \n",
       "        <td id=\"T_b5c2b4fa_649d_11e7_a7e3_305a3a453465row15_col0\" class=\"data row15 col0\" >15.8344</td> \n",
       "    </tr>    <tr> \n",
       "        <th id=\"T_b5c2b4fa_649d_11e7_a7e3_305a3a453465level0_row16\" class=\"row_heading level0 row16\" >16</th> \n",
       "        <td id=\"T_b5c2b4fa_649d_11e7_a7e3_305a3a453465row16_col0\" class=\"data row16 col0\" >16.3788</td> \n",
       "    </tr>    <tr> \n",
       "        <th id=\"T_b5c2b4fa_649d_11e7_a7e3_305a3a453465level0_row17\" class=\"row_heading level0 row17\" >17</th> \n",
       "        <td id=\"T_b5c2b4fa_649d_11e7_a7e3_305a3a453465row17_col0\" class=\"data row17 col0\" >15.9969</td> \n",
       "    </tr>    <tr> \n",
       "        <th id=\"T_b5c2b4fa_649d_11e7_a7e3_305a3a453465level0_row18\" class=\"row_heading level0 row18\" >18</th> \n",
       "        <td id=\"T_b5c2b4fa_649d_11e7_a7e3_305a3a453465row18_col0\" class=\"data row18 col0\" >15.261</td> \n",
       "    </tr>    <tr> \n",
       "        <th id=\"T_b5c2b4fa_649d_11e7_a7e3_305a3a453465level0_row19\" class=\"row_heading level0 row19\" >19</th> \n",
       "        <td id=\"T_b5c2b4fa_649d_11e7_a7e3_305a3a453465row19_col0\" class=\"data row19 col0\" >15.0554</td> \n",
       "    </tr>    <tr> \n",
       "        <th id=\"T_b5c2b4fa_649d_11e7_a7e3_305a3a453465level0_row20\" class=\"row_heading level0 row20\" >20</th> \n",
       "        <td id=\"T_b5c2b4fa_649d_11e7_a7e3_305a3a453465row20_col0\" class=\"data row20 col0\" >15.4841</td> \n",
       "    </tr>    <tr> \n",
       "        <th id=\"T_b5c2b4fa_649d_11e7_a7e3_305a3a453465level0_row21\" class=\"row_heading level0 row21\" >21</th> \n",
       "        <td id=\"T_b5c2b4fa_649d_11e7_a7e3_305a3a453465row21_col0\" class=\"data row21 col0\" >15.8442</td> \n",
       "    </tr>    <tr> \n",
       "        <th id=\"T_b5c2b4fa_649d_11e7_a7e3_305a3a453465level0_row22\" class=\"row_heading level0 row22\" >22</th> \n",
       "        <td id=\"T_b5c2b4fa_649d_11e7_a7e3_305a3a453465row22_col0\" class=\"data row22 col0\" >16.25</td> \n",
       "    </tr>    <tr> \n",
       "        <th id=\"T_b5c2b4fa_649d_11e7_a7e3_305a3a453465level0_row23\" class=\"row_heading level0 row23\" >23</th> \n",
       "        <td id=\"T_b5c2b4fa_649d_11e7_a7e3_305a3a453465row23_col0\" class=\"data row23 col0\" >16.7187</td> \n",
       "    </tr></tbody> \n",
       "</table> "
      ],
      "text/plain": [
       "<pandas.io.formats.style.Styler at 0x80923fd0>"
      ]
     },
     "execution_count": 60,
     "metadata": {},
     "output_type": "execute_result"
    }
   ],
   "source": [
    "hour_payment_df.style.bar()"
   ]
  },
  {
   "cell_type": "code",
   "execution_count": 126,
   "metadata": {},
   "outputs": [
    {
     "data": {
      "text/html": [
       "<script>requirejs.config({paths: { 'plotly': ['https://cdn.plot.ly/plotly-latest.min']},});if(!window.Plotly) {{require(['plotly'],function(plotly) {window.Plotly=plotly;});}}</script>"
      ],
      "text/vnd.plotly.v1+html": [
       "<script>requirejs.config({paths: { 'plotly': ['https://cdn.plot.ly/plotly-latest.min']},});if(!window.Plotly) {{require(['plotly'],function(plotly) {window.Plotly=plotly;});}}</script>"
      ]
     },
     "metadata": {},
     "output_type": "display_data"
    }
   ],
   "source": [
    "from plotly.offline import init_notebook_mode, iplot\n",
    "import plotly\n",
    "import plotly.graph_objs as go\n",
    "\n",
    "init_notebook_mode(connected=True)"
   ]
  },
  {
   "cell_type": "code",
   "execution_count": 132,
   "metadata": {},
   "outputs": [
    {
     "data": {
      "application/vnd.plotly.v1+json": {
       "data": [
        {
         "name": "Tip Amount",
         "type": "scatter",
         "x": [
          0,
          1,
          2,
          3,
          4,
          5,
          6,
          7,
          8,
          9,
          10,
          11,
          12,
          13,
          14,
          15,
          16,
          17,
          18,
          19,
          20,
          21,
          22,
          23
         ],
         "y": [
          1.8278486812837786,
          1.736827766076999,
          1.6573481421576817,
          1.613060095458499,
          1.7000598174592463,
          2.088799436449652,
          1.800932274355908,
          1.6802729671612189,
          1.7342063935671395,
          1.7133054003143016,
          1.6660100552698045,
          1.6209120902250063,
          1.6209689723587415,
          1.6499090228999267,
          1.7134369360405919,
          1.711267413693853,
          1.7732028324432856,
          1.7636558969735958,
          1.7247258074945668,
          1.7399956498611924,
          1.8364521301294776,
          1.8847063301513247,
          1.9105192986383799,
          1.907025697922296
         ]
        },
        {
         "name": "Payment Amount",
         "type": "scatter",
         "x": [
          0,
          1,
          2,
          3,
          4,
          5,
          6,
          7,
          8,
          9,
          10,
          11,
          12,
          13,
          14,
          15,
          16,
          17,
          18,
          19,
          20,
          21,
          22,
          23
         ],
         "y": [
          16.374710170392447,
          15.915044039444203,
          15.723311589600298,
          16.26158916689975,
          18.289392804036673,
          19.91922813728039,
          16.13458345919475,
          14.698361668210453,
          14.68878747033206,
          14.748637278005935,
          14.926959105962828,
          14.79752181949738,
          14.816126220052949,
          15.259689108886766,
          16.026516518635322,
          15.834430126762902,
          16.378834216321188,
          15.996911127660848,
          15.260981018811524,
          15.055431281969089,
          15.484061365970701,
          15.844241695160537,
          16.249959491039036,
          16.71869893693134
         ]
        }
       ],
       "layout": {
        "title": "Average payment and tip by day hour"
       }
      },
      "text/html": [
       "<div id=\"0843a3f1-6290-4326-b67c-f3653622eec7\" style=\"height: 525px; width: 100%;\" class=\"plotly-graph-div\"></div><script type=\"text/javascript\">require([\"plotly\"], function(Plotly) { window.PLOTLYENV=window.PLOTLYENV || {};window.PLOTLYENV.BASE_URL=\"https://plot.ly\";Plotly.newPlot(\"0843a3f1-6290-4326-b67c-f3653622eec7\", [{\"type\": \"scatter\", \"x\": [0, 1, 2, 3, 4, 5, 6, 7, 8, 9, 10, 11, 12, 13, 14, 15, 16, 17, 18, 19, 20, 21, 22, 23], \"y\": [1.8278486812837786, 1.736827766076999, 1.6573481421576817, 1.613060095458499, 1.7000598174592463, 2.088799436449652, 1.800932274355908, 1.6802729671612189, 1.7342063935671395, 1.7133054003143016, 1.6660100552698045, 1.6209120902250063, 1.6209689723587415, 1.6499090228999267, 1.7134369360405919, 1.711267413693853, 1.7732028324432856, 1.7636558969735958, 1.7247258074945668, 1.7399956498611924, 1.8364521301294776, 1.8847063301513247, 1.9105192986383799, 1.907025697922296], \"name\": \"Tip Amount\"}, {\"type\": \"scatter\", \"x\": [0, 1, 2, 3, 4, 5, 6, 7, 8, 9, 10, 11, 12, 13, 14, 15, 16, 17, 18, 19, 20, 21, 22, 23], \"y\": [16.374710170392447, 15.915044039444203, 15.723311589600298, 16.26158916689975, 18.289392804036673, 19.91922813728039, 16.13458345919475, 14.698361668210453, 14.68878747033206, 14.748637278005935, 14.926959105962828, 14.79752181949738, 14.816126220052949, 15.259689108886766, 16.026516518635322, 15.834430126762902, 16.378834216321188, 15.996911127660848, 15.260981018811524, 15.055431281969089, 15.484061365970701, 15.844241695160537, 16.249959491039036, 16.71869893693134], \"name\": \"Payment Amount\"}], {\"title\": \"Average payment and tip by day hour\"}, {\"showLink\": true, \"linkText\": \"Export to plot.ly\"})});</script>"
      ],
      "text/vnd.plotly.v1+html": [
       "<div id=\"0843a3f1-6290-4326-b67c-f3653622eec7\" style=\"height: 525px; width: 100%;\" class=\"plotly-graph-div\"></div><script type=\"text/javascript\">require([\"plotly\"], function(Plotly) { window.PLOTLYENV=window.PLOTLYENV || {};window.PLOTLYENV.BASE_URL=\"https://plot.ly\";Plotly.newPlot(\"0843a3f1-6290-4326-b67c-f3653622eec7\", [{\"type\": \"scatter\", \"x\": [0, 1, 2, 3, 4, 5, 6, 7, 8, 9, 10, 11, 12, 13, 14, 15, 16, 17, 18, 19, 20, 21, 22, 23], \"y\": [1.8278486812837786, 1.736827766076999, 1.6573481421576817, 1.613060095458499, 1.7000598174592463, 2.088799436449652, 1.800932274355908, 1.6802729671612189, 1.7342063935671395, 1.7133054003143016, 1.6660100552698045, 1.6209120902250063, 1.6209689723587415, 1.6499090228999267, 1.7134369360405919, 1.711267413693853, 1.7732028324432856, 1.7636558969735958, 1.7247258074945668, 1.7399956498611924, 1.8364521301294776, 1.8847063301513247, 1.9105192986383799, 1.907025697922296], \"name\": \"Tip Amount\"}, {\"type\": \"scatter\", \"x\": [0, 1, 2, 3, 4, 5, 6, 7, 8, 9, 10, 11, 12, 13, 14, 15, 16, 17, 18, 19, 20, 21, 22, 23], \"y\": [16.374710170392447, 15.915044039444203, 15.723311589600298, 16.26158916689975, 18.289392804036673, 19.91922813728039, 16.13458345919475, 14.698361668210453, 14.68878747033206, 14.748637278005935, 14.926959105962828, 14.79752181949738, 14.816126220052949, 15.259689108886766, 16.026516518635322, 15.834430126762902, 16.378834216321188, 15.996911127660848, 15.260981018811524, 15.055431281969089, 15.484061365970701, 15.844241695160537, 16.249959491039036, 16.71869893693134], \"name\": \"Payment Amount\"}], {\"title\": \"Average payment and tip by day hour\"}, {\"showLink\": true, \"linkText\": \"Export to plot.ly\"})});</script>"
      ]
     },
     "metadata": {},
     "output_type": "display_data"
    }
   ],
   "source": [
    "trace0 = go.Scatter(\n",
    "    x=hour_df.reset_index()['hour'],\n",
    "    y=hour_df.reset_index()['tip_amount'],\n",
    "    name='Tip Amount'\n",
    ")\n",
    "\n",
    "trace1 = go.Scatter(\n",
    "    x=hour_payment_df.reset_index()['hour'],\n",
    "    y=hour_payment_df.reset_index()['payment_amount'],\n",
    "    name='Payment Amount'\n",
    ")\n",
    "\n",
    "data = [trace0, trace1]\n",
    "layout = {'title': 'Average payment and tip by day hour'}\n",
    "\n",
    "fig = go.Figure(data=data, layout=layout)\n",
    "\n",
    "iplot(fig)"
   ]
  },
  {
   "cell_type": "code",
   "execution_count": 133,
   "metadata": {},
   "outputs": [
    {
     "data": {
      "image/png": "[encoded data removed]",
      "text/plain": [
       "<matplotlib.figure.Figure at 0xb8220f0>"
      ]
     },
     "metadata": {},
     "output_type": "display_data"
    },
    {
     "name": "stdout",
     "output_type": "stream",
     "text": [
      "<ggplot: (-9223372036842713656)>\n"
     ]
    }
   ],
   "source": [
    "graph=ggplot.ggplot(ggplot.aes(x='trip_distance', y = 'tip_amount', color = 'direction '), df )\\\n",
    "        + ggplot.geom_point() \\\n",
    "        + ggplot.xlab('Trip distance') \\\n",
    "        + ggplot.ylab('Tip') \\\n",
    "        + ggplot.ggtitle('Tip by distance and direction') \n",
    "print(graph)"
   ]
  },
  {
   "cell_type": "code",
   "execution_count": 134,
   "metadata": {},
   "outputs": [
    {
     "data": {
      "image/png": "[encoded data removed]",
      "text/plain": [
       "<matplotlib.figure.Figure at 0x7948cbe0>"
      ]
     },
     "metadata": {},
     "output_type": "display_data"
    }
   ],
   "source": [
    "sns.boxplot(x='direction ', y='tip_amount', \n",
    "            data=df)\n",
    "ax = plt.gca()\n",
    "ax.set_yscale(\"log\")"
   ]
  },
  {
   "cell_type": "markdown",
   "metadata": {},
   "source": [
    "Посмотрим плавное распределение величины чаевых по времени."
   ]
  },
  {
   "cell_type": "code",
   "execution_count": 116,
   "metadata": {},
   "outputs": [
    {
     "data": {
      "text/html": [
       "<div>\n",
       "<style>\n",
       "    .dataframe thead tr:only-child th {\n",
       "        text-align: right;\n",
       "    }\n",
       "\n",
       "    .dataframe thead th {\n",
       "        text-align: left;\n",
       "    }\n",
       "\n",
       "    .dataframe tbody tr th {\n",
       "        vertical-align: top;\n",
       "    }\n",
       "</style>\n",
       "<table border=\"1\" class=\"dataframe\">\n",
       "  <thead>\n",
       "    <tr>\n",
       "      <th>day_type_num</th>\n",
       "      <th>0</th>\n",
       "      <th>1</th>\n",
       "      <th>2</th>\n",
       "      <th>3</th>\n",
       "      <th>4</th>\n",
       "      <th>5</th>\n",
       "      <th>6</th>\n",
       "    </tr>\n",
       "    <tr>\n",
       "      <th>day_type</th>\n",
       "      <th>Monday</th>\n",
       "      <th>Tuesday</th>\n",
       "      <th>Wednesday</th>\n",
       "      <th>Thursday</th>\n",
       "      <th>Friday</th>\n",
       "      <th>Saturday</th>\n",
       "      <th>Sunday</th>\n",
       "    </tr>\n",
       "    <tr>\n",
       "      <th>hour</th>\n",
       "      <th></th>\n",
       "      <th></th>\n",
       "      <th></th>\n",
       "      <th></th>\n",
       "      <th></th>\n",
       "      <th></th>\n",
       "      <th></th>\n",
       "    </tr>\n",
       "  </thead>\n",
       "  <tbody>\n",
       "    <tr>\n",
       "      <th>0</th>\n",
       "      <td>1.868810</td>\n",
       "      <td>2.069789</td>\n",
       "      <td>1.937182</td>\n",
       "      <td>1.919586</td>\n",
       "      <td>1.808906</td>\n",
       "      <td>1.809387</td>\n",
       "      <td>1.691180</td>\n",
       "    </tr>\n",
       "    <tr>\n",
       "      <th>1</th>\n",
       "      <td>1.777896</td>\n",
       "      <td>1.849468</td>\n",
       "      <td>1.710185</td>\n",
       "      <td>1.719776</td>\n",
       "      <td>1.708161</td>\n",
       "      <td>1.775951</td>\n",
       "      <td>1.697169</td>\n",
       "    </tr>\n",
       "    <tr>\n",
       "      <th>2</th>\n",
       "      <td>1.567702</td>\n",
       "      <td>1.514694</td>\n",
       "      <td>1.556959</td>\n",
       "      <td>1.592189</td>\n",
       "      <td>1.644890</td>\n",
       "      <td>1.709116</td>\n",
       "      <td>1.685834</td>\n",
       "    </tr>\n",
       "    <tr>\n",
       "      <th>3</th>\n",
       "      <td>1.509179</td>\n",
       "      <td>1.518190</td>\n",
       "      <td>1.526406</td>\n",
       "      <td>1.520986</td>\n",
       "      <td>1.593999</td>\n",
       "      <td>1.649607</td>\n",
       "      <td>1.653725</td>\n",
       "    </tr>\n",
       "    <tr>\n",
       "      <th>4</th>\n",
       "      <td>1.912893</td>\n",
       "      <td>1.908687</td>\n",
       "      <td>1.847636</td>\n",
       "      <td>1.949298</td>\n",
       "      <td>1.684820</td>\n",
       "      <td>1.623444</td>\n",
       "      <td>1.565108</td>\n",
       "    </tr>\n",
       "    <tr>\n",
       "      <th>5</th>\n",
       "      <td>2.309819</td>\n",
       "      <td>2.124532</td>\n",
       "      <td>2.073214</td>\n",
       "      <td>2.154669</td>\n",
       "      <td>2.054411</td>\n",
       "      <td>2.069384</td>\n",
       "      <td>1.863573</td>\n",
       "    </tr>\n",
       "    <tr>\n",
       "      <th>6</th>\n",
       "      <td>1.869640</td>\n",
       "      <td>1.676417</td>\n",
       "      <td>1.693694</td>\n",
       "      <td>1.714574</td>\n",
       "      <td>1.830827</td>\n",
       "      <td>2.103297</td>\n",
       "      <td>2.086489</td>\n",
       "    </tr>\n",
       "    <tr>\n",
       "      <th>7</th>\n",
       "      <td>1.767776</td>\n",
       "      <td>1.668017</td>\n",
       "      <td>1.655622</td>\n",
       "      <td>1.648753</td>\n",
       "      <td>1.649013</td>\n",
       "      <td>1.717711</td>\n",
       "      <td>1.771542</td>\n",
       "    </tr>\n",
       "    <tr>\n",
       "      <th>8</th>\n",
       "      <td>1.821590</td>\n",
       "      <td>1.789710</td>\n",
       "      <td>1.761570</td>\n",
       "      <td>1.750933</td>\n",
       "      <td>1.745247</td>\n",
       "      <td>1.507313</td>\n",
       "      <td>1.508338</td>\n",
       "    </tr>\n",
       "    <tr>\n",
       "      <th>9</th>\n",
       "      <td>1.830657</td>\n",
       "      <td>1.818142</td>\n",
       "      <td>1.805315</td>\n",
       "      <td>1.789742</td>\n",
       "      <td>1.723751</td>\n",
       "      <td>1.392686</td>\n",
       "      <td>1.432967</td>\n",
       "    </tr>\n",
       "    <tr>\n",
       "      <th>10</th>\n",
       "      <td>1.798919</td>\n",
       "      <td>1.826136</td>\n",
       "      <td>1.782228</td>\n",
       "      <td>1.759150</td>\n",
       "      <td>1.679881</td>\n",
       "      <td>1.388372</td>\n",
       "      <td>1.420331</td>\n",
       "    </tr>\n",
       "    <tr>\n",
       "      <th>11</th>\n",
       "      <td>1.706533</td>\n",
       "      <td>1.775347</td>\n",
       "      <td>1.764185</td>\n",
       "      <td>1.733477</td>\n",
       "      <td>1.629896</td>\n",
       "      <td>1.355039</td>\n",
       "      <td>1.442443</td>\n",
       "    </tr>\n",
       "    <tr>\n",
       "      <th>12</th>\n",
       "      <td>1.678776</td>\n",
       "      <td>1.754316</td>\n",
       "      <td>1.724078</td>\n",
       "      <td>1.741840</td>\n",
       "      <td>1.631099</td>\n",
       "      <td>1.388681</td>\n",
       "      <td>1.504933</td>\n",
       "    </tr>\n",
       "    <tr>\n",
       "      <th>13</th>\n",
       "      <td>1.688428</td>\n",
       "      <td>1.733588</td>\n",
       "      <td>1.785460</td>\n",
       "      <td>1.817279</td>\n",
       "      <td>1.657984</td>\n",
       "      <td>1.404690</td>\n",
       "      <td>1.540802</td>\n",
       "    </tr>\n",
       "    <tr>\n",
       "      <th>14</th>\n",
       "      <td>1.725805</td>\n",
       "      <td>1.780841</td>\n",
       "      <td>1.811545</td>\n",
       "      <td>1.875107</td>\n",
       "      <td>1.697639</td>\n",
       "      <td>1.481731</td>\n",
       "      <td>1.649287</td>\n",
       "    </tr>\n",
       "    <tr>\n",
       "      <th>15</th>\n",
       "      <td>1.684494</td>\n",
       "      <td>1.752857</td>\n",
       "      <td>1.826045</td>\n",
       "      <td>1.887527</td>\n",
       "      <td>1.709615</td>\n",
       "      <td>1.491289</td>\n",
       "      <td>1.658668</td>\n",
       "    </tr>\n",
       "    <tr>\n",
       "      <th>16</th>\n",
       "      <td>1.794332</td>\n",
       "      <td>1.876797</td>\n",
       "      <td>1.910153</td>\n",
       "      <td>1.912011</td>\n",
       "      <td>1.766112</td>\n",
       "      <td>1.511060</td>\n",
       "      <td>1.720147</td>\n",
       "    </tr>\n",
       "    <tr>\n",
       "      <th>17</th>\n",
       "      <td>1.773962</td>\n",
       "      <td>1.850862</td>\n",
       "      <td>1.830316</td>\n",
       "      <td>1.890588</td>\n",
       "      <td>1.752214</td>\n",
       "      <td>1.535895</td>\n",
       "      <td>1.739920</td>\n",
       "    </tr>\n",
       "    <tr>\n",
       "      <th>18</th>\n",
       "      <td>1.722814</td>\n",
       "      <td>1.811558</td>\n",
       "      <td>1.809178</td>\n",
       "      <td>1.832345</td>\n",
       "      <td>1.721130</td>\n",
       "      <td>1.477761</td>\n",
       "      <td>1.692958</td>\n",
       "    </tr>\n",
       "    <tr>\n",
       "      <th>19</th>\n",
       "      <td>1.724261</td>\n",
       "      <td>1.845274</td>\n",
       "      <td>1.817315</td>\n",
       "      <td>1.869984</td>\n",
       "      <td>1.705150</td>\n",
       "      <td>1.499996</td>\n",
       "      <td>1.719958</td>\n",
       "    </tr>\n",
       "    <tr>\n",
       "      <th>20</th>\n",
       "      <td>1.853624</td>\n",
       "      <td>1.919508</td>\n",
       "      <td>1.917720</td>\n",
       "      <td>1.957207</td>\n",
       "      <td>1.771310</td>\n",
       "      <td>1.609719</td>\n",
       "      <td>1.804127</td>\n",
       "    </tr>\n",
       "    <tr>\n",
       "      <th>21</th>\n",
       "      <td>1.935984</td>\n",
       "      <td>1.984026</td>\n",
       "      <td>1.992219</td>\n",
       "      <td>2.033169</td>\n",
       "      <td>1.763310</td>\n",
       "      <td>1.607406</td>\n",
       "      <td>1.864264</td>\n",
       "    </tr>\n",
       "    <tr>\n",
       "      <th>22</th>\n",
       "      <td>1.923573</td>\n",
       "      <td>2.047891</td>\n",
       "      <td>2.027157</td>\n",
       "      <td>2.094186</td>\n",
       "      <td>1.784985</td>\n",
       "      <td>1.647803</td>\n",
       "      <td>1.899586</td>\n",
       "    </tr>\n",
       "    <tr>\n",
       "      <th>23</th>\n",
       "      <td>1.906433</td>\n",
       "      <td>2.036680</td>\n",
       "      <td>2.001022</td>\n",
       "      <td>2.046171</td>\n",
       "      <td>1.834027</td>\n",
       "      <td>1.682004</td>\n",
       "      <td>2.020514</td>\n",
       "    </tr>\n",
       "  </tbody>\n",
       "</table>\n",
       "</div>"
      ],
      "text/plain": [
       "day_type_num         0         1         2         3         4         5  \\\n",
       "day_type        Monday   Tuesday Wednesday  Thursday    Friday  Saturday   \n",
       "hour                                                                       \n",
       "0             1.868810  2.069789  1.937182  1.919586  1.808906  1.809387   \n",
       "1             1.777896  1.849468  1.710185  1.719776  1.708161  1.775951   \n",
       "2             1.567702  1.514694  1.556959  1.592189  1.644890  1.709116   \n",
       "3             1.509179  1.518190  1.526406  1.520986  1.593999  1.649607   \n",
       "4             1.912893  1.908687  1.847636  1.949298  1.684820  1.623444   \n",
       "5             2.309819  2.124532  2.073214  2.154669  2.054411  2.069384   \n",
       "6             1.869640  1.676417  1.693694  1.714574  1.830827  2.103297   \n",
       "7             1.767776  1.668017  1.655622  1.648753  1.649013  1.717711   \n",
       "8             1.821590  1.789710  1.761570  1.750933  1.745247  1.507313   \n",
       "9             1.830657  1.818142  1.805315  1.789742  1.723751  1.392686   \n",
       "10            1.798919  1.826136  1.782228  1.759150  1.679881  1.388372   \n",
       "11            1.706533  1.775347  1.764185  1.733477  1.629896  1.355039   \n",
       "12            1.678776  1.754316  1.724078  1.741840  1.631099  1.388681   \n",
       "13            1.688428  1.733588  1.785460  1.817279  1.657984  1.404690   \n",
       "14            1.725805  1.780841  1.811545  1.875107  1.697639  1.481731   \n",
       "15            1.684494  1.752857  1.826045  1.887527  1.709615  1.491289   \n",
       "16            1.794332  1.876797  1.910153  1.912011  1.766112  1.511060   \n",
       "17            1.773962  1.850862  1.830316  1.890588  1.752214  1.535895   \n",
       "18            1.722814  1.811558  1.809178  1.832345  1.721130  1.477761   \n",
       "19            1.724261  1.845274  1.817315  1.869984  1.705150  1.499996   \n",
       "20            1.853624  1.919508  1.917720  1.957207  1.771310  1.609719   \n",
       "21            1.935984  1.984026  1.992219  2.033169  1.763310  1.607406   \n",
       "22            1.923573  2.047891  2.027157  2.094186  1.784985  1.647803   \n",
       "23            1.906433  2.036680  2.001022  2.046171  1.834027  1.682004   \n",
       "\n",
       "day_type_num         6  \n",
       "day_type        Sunday  \n",
       "hour                    \n",
       "0             1.691180  \n",
       "1             1.697169  \n",
       "2             1.685834  \n",
       "3             1.653725  \n",
       "4             1.565108  \n",
       "5             1.863573  \n",
       "6             2.086489  \n",
       "7             1.771542  \n",
       "8             1.508338  \n",
       "9             1.432967  \n",
       "10            1.420331  \n",
       "11            1.442443  \n",
       "12            1.504933  \n",
       "13            1.540802  \n",
       "14            1.649287  \n",
       "15            1.658668  \n",
       "16            1.720147  \n",
       "17            1.739920  \n",
       "18            1.692958  \n",
       "19            1.719958  \n",
       "20            1.804127  \n",
       "21            1.864264  \n",
       "22            1.899586  \n",
       "23            2.020514  "
      ]
     },
     "execution_count": 116,
     "metadata": {},
     "output_type": "execute_result"
    }
   ],
   "source": [
    "hour_weekday_tip = df.pivot_table(\n",
    "                        index='hour', \n",
    "                        columns=['day_type_num','day_type'], \n",
    "                        values='tip_amount', \n",
    "                        aggfunc=mean).fillna(0).applymap(float)\n",
    "hour_weekday_tip"
   ]
  },
  {
   "cell_type": "markdown",
   "metadata": {},
   "source": [
    " "
   ]
  },
  {
   "cell_type": "code",
   "execution_count": 117,
   "metadata": {},
   "outputs": [
    {
     "data": {
      "image/png": "[encoded data removed]",
      "text/plain": [
       "<matplotlib.figure.Figure at 0x81761588>"
      ]
     },
     "metadata": {},
     "output_type": "display_data"
    }
   ],
   "source": [
    "pyplot.figure(figsize=(10, 16))\n",
    "sns.heatmap(hour_weekday_tip, annot=True, fmt=\".2f\");"
   ]
  },
  {
   "cell_type": "code",
   "execution_count": null,
   "metadata": {
    "collapsed": true
   },
   "outputs": [],
   "source": []
  }
 ],
 "metadata": {
  "anaconda-cloud": {},
  "kernelspec": {
   "display_name": "Python 3",
   "language": "python",
   "name": "python3"
  },
  "language_info": {
   "codemirror_mode": {
    "name": "ipython",
    "version": 3
   },
   "file_extension": ".py",
   "mimetype": "text/x-python",
   "name": "python",
   "nbconvert_exporter": "python",
   "pygments_lexer": "ipython3",
   "version": "3.6.1"
  }
 },
 "nbformat": 4,
 "nbformat_minor": 1
}
