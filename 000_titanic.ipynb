{
 "cells": [
  {
   "cell_type": "markdown",
   "metadata": {},
   "source": [
    "# Titanic: Machine Learning from Disaster"
   ]
  },
  {
   "cell_type": "markdown",
   "metadata": {
    "collapsed": true
   },
   "source": [
    " <https://www.kaggle.com/c/titanic>"
   ]
  },
  {
   "cell_type": "code",
   "execution_count": 1,
   "metadata": {
    "collapsed": true
   },
   "outputs": [],
   "source": [
    "import sklearn\n",
    "import pandas as pd\n",
    "import numpy as np"
   ]
  },
  {
   "cell_type": "code",
   "execution_count": 2,
   "metadata": {
    "collapsed": true
   },
   "outputs": [],
   "source": [
    "% matplotlib inline"
   ]
  },
  {
   "cell_type": "code",
   "execution_count": 3,
   "metadata": {
    "collapsed": true
   },
   "outputs": [],
   "source": [
    "train = pd.read_csv('./titanic/train.csv')\n",
    "test = pd.read_csv('./titanic/test.csv')"
   ]
  },
  {
   "cell_type": "code",
   "execution_count": 4,
   "metadata": {},
   "outputs": [
    {
     "data": {
      "text/html": [
       "<div>\n",
       "<style>\n",
       "    .dataframe thead tr:only-child th {\n",
       "        text-align: right;\n",
       "    }\n",
       "\n",
       "    .dataframe thead th {\n",
       "        text-align: left;\n",
       "    }\n",
       "\n",
       "    .dataframe tbody tr th {\n",
       "        vertical-align: top;\n",
       "    }\n",
       "</style>\n",
       "<table border=\"1\" class=\"dataframe\">\n",
       "  <thead>\n",
       "    <tr style=\"text-align: right;\">\n",
       "      <th></th>\n",
       "      <th>PassengerId</th>\n",
       "      <th>Survived</th>\n",
       "      <th>Pclass</th>\n",
       "      <th>Name</th>\n",
       "      <th>Sex</th>\n",
       "      <th>Age</th>\n",
       "      <th>SibSp</th>\n",
       "      <th>Parch</th>\n",
       "      <th>Ticket</th>\n",
       "      <th>Fare</th>\n",
       "      <th>Cabin</th>\n",
       "      <th>Embarked</th>\n",
       "    </tr>\n",
       "  </thead>\n",
       "  <tbody>\n",
       "    <tr>\n",
       "      <th>0</th>\n",
       "      <td>1</td>\n",
       "      <td>0</td>\n",
       "      <td>3</td>\n",
       "      <td>Braund, Mr. Owen Harris</td>\n",
       "      <td>male</td>\n",
       "      <td>22.0</td>\n",
       "      <td>1</td>\n",
       "      <td>0</td>\n",
       "      <td>A/5 21171</td>\n",
       "      <td>7.2500</td>\n",
       "      <td>NaN</td>\n",
       "      <td>S</td>\n",
       "    </tr>\n",
       "    <tr>\n",
       "      <th>1</th>\n",
       "      <td>2</td>\n",
       "      <td>1</td>\n",
       "      <td>1</td>\n",
       "      <td>Cumings, Mrs. John Bradley (Florence Briggs Th...</td>\n",
       "      <td>female</td>\n",
       "      <td>38.0</td>\n",
       "      <td>1</td>\n",
       "      <td>0</td>\n",
       "      <td>PC 17599</td>\n",
       "      <td>71.2833</td>\n",
       "      <td>C85</td>\n",
       "      <td>C</td>\n",
       "    </tr>\n",
       "    <tr>\n",
       "      <th>2</th>\n",
       "      <td>3</td>\n",
       "      <td>1</td>\n",
       "      <td>3</td>\n",
       "      <td>Heikkinen, Miss. Laina</td>\n",
       "      <td>female</td>\n",
       "      <td>26.0</td>\n",
       "      <td>0</td>\n",
       "      <td>0</td>\n",
       "      <td>STON/O2. 3101282</td>\n",
       "      <td>7.9250</td>\n",
       "      <td>NaN</td>\n",
       "      <td>S</td>\n",
       "    </tr>\n",
       "    <tr>\n",
       "      <th>3</th>\n",
       "      <td>4</td>\n",
       "      <td>1</td>\n",
       "      <td>1</td>\n",
       "      <td>Futrelle, Mrs. Jacques Heath (Lily May Peel)</td>\n",
       "      <td>female</td>\n",
       "      <td>35.0</td>\n",
       "      <td>1</td>\n",
       "      <td>0</td>\n",
       "      <td>113803</td>\n",
       "      <td>53.1000</td>\n",
       "      <td>C123</td>\n",
       "      <td>S</td>\n",
       "    </tr>\n",
       "    <tr>\n",
       "      <th>4</th>\n",
       "      <td>5</td>\n",
       "      <td>0</td>\n",
       "      <td>3</td>\n",
       "      <td>Allen, Mr. William Henry</td>\n",
       "      <td>male</td>\n",
       "      <td>35.0</td>\n",
       "      <td>0</td>\n",
       "      <td>0</td>\n",
       "      <td>373450</td>\n",
       "      <td>8.0500</td>\n",
       "      <td>NaN</td>\n",
       "      <td>S</td>\n",
       "    </tr>\n",
       "  </tbody>\n",
       "</table>\n",
       "</div>"
      ],
      "text/plain": [
       "   PassengerId  Survived  Pclass  \\\n",
       "0            1         0       3   \n",
       "1            2         1       1   \n",
       "2            3         1       3   \n",
       "3            4         1       1   \n",
       "4            5         0       3   \n",
       "\n",
       "                                                Name     Sex   Age  SibSp  \\\n",
       "0                            Braund, Mr. Owen Harris    male  22.0      1   \n",
       "1  Cumings, Mrs. John Bradley (Florence Briggs Th...  female  38.0      1   \n",
       "2                             Heikkinen, Miss. Laina  female  26.0      0   \n",
       "3       Futrelle, Mrs. Jacques Heath (Lily May Peel)  female  35.0      1   \n",
       "4                           Allen, Mr. William Henry    male  35.0      0   \n",
       "\n",
       "   Parch            Ticket     Fare Cabin Embarked  \n",
       "0      0         A/5 21171   7.2500   NaN        S  \n",
       "1      0          PC 17599  71.2833   C85        C  \n",
       "2      0  STON/O2. 3101282   7.9250   NaN        S  \n",
       "3      0            113803  53.1000  C123        S  \n",
       "4      0            373450   8.0500   NaN        S  "
      ]
     },
     "execution_count": 4,
     "metadata": {},
     "output_type": "execute_result"
    }
   ],
   "source": [
    "train.head()"
   ]
  },
  {
   "cell_type": "code",
   "execution_count": 5,
   "metadata": {
    "scrolled": true
   },
   "outputs": [
    {
     "data": {
      "text/html": [
       "<div>\n",
       "<style>\n",
       "    .dataframe thead tr:only-child th {\n",
       "        text-align: right;\n",
       "    }\n",
       "\n",
       "    .dataframe thead th {\n",
       "        text-align: left;\n",
       "    }\n",
       "\n",
       "    .dataframe tbody tr th {\n",
       "        vertical-align: top;\n",
       "    }\n",
       "</style>\n",
       "<table border=\"1\" class=\"dataframe\">\n",
       "  <thead>\n",
       "    <tr style=\"text-align: right;\">\n",
       "      <th></th>\n",
       "      <th>PassengerId</th>\n",
       "      <th>Pclass</th>\n",
       "      <th>Name</th>\n",
       "      <th>Sex</th>\n",
       "      <th>Age</th>\n",
       "      <th>SibSp</th>\n",
       "      <th>Parch</th>\n",
       "      <th>Ticket</th>\n",
       "      <th>Fare</th>\n",
       "      <th>Cabin</th>\n",
       "      <th>Embarked</th>\n",
       "    </tr>\n",
       "  </thead>\n",
       "  <tbody>\n",
       "    <tr>\n",
       "      <th>0</th>\n",
       "      <td>892</td>\n",
       "      <td>3</td>\n",
       "      <td>Kelly, Mr. James</td>\n",
       "      <td>male</td>\n",
       "      <td>34.5</td>\n",
       "      <td>0</td>\n",
       "      <td>0</td>\n",
       "      <td>330911</td>\n",
       "      <td>7.8292</td>\n",
       "      <td>NaN</td>\n",
       "      <td>Q</td>\n",
       "    </tr>\n",
       "    <tr>\n",
       "      <th>1</th>\n",
       "      <td>893</td>\n",
       "      <td>3</td>\n",
       "      <td>Wilkes, Mrs. James (Ellen Needs)</td>\n",
       "      <td>female</td>\n",
       "      <td>47.0</td>\n",
       "      <td>1</td>\n",
       "      <td>0</td>\n",
       "      <td>363272</td>\n",
       "      <td>7.0000</td>\n",
       "      <td>NaN</td>\n",
       "      <td>S</td>\n",
       "    </tr>\n",
       "    <tr>\n",
       "      <th>2</th>\n",
       "      <td>894</td>\n",
       "      <td>2</td>\n",
       "      <td>Myles, Mr. Thomas Francis</td>\n",
       "      <td>male</td>\n",
       "      <td>62.0</td>\n",
       "      <td>0</td>\n",
       "      <td>0</td>\n",
       "      <td>240276</td>\n",
       "      <td>9.6875</td>\n",
       "      <td>NaN</td>\n",
       "      <td>Q</td>\n",
       "    </tr>\n",
       "    <tr>\n",
       "      <th>3</th>\n",
       "      <td>895</td>\n",
       "      <td>3</td>\n",
       "      <td>Wirz, Mr. Albert</td>\n",
       "      <td>male</td>\n",
       "      <td>27.0</td>\n",
       "      <td>0</td>\n",
       "      <td>0</td>\n",
       "      <td>315154</td>\n",
       "      <td>8.6625</td>\n",
       "      <td>NaN</td>\n",
       "      <td>S</td>\n",
       "    </tr>\n",
       "    <tr>\n",
       "      <th>4</th>\n",
       "      <td>896</td>\n",
       "      <td>3</td>\n",
       "      <td>Hirvonen, Mrs. Alexander (Helga E Lindqvist)</td>\n",
       "      <td>female</td>\n",
       "      <td>22.0</td>\n",
       "      <td>1</td>\n",
       "      <td>1</td>\n",
       "      <td>3101298</td>\n",
       "      <td>12.2875</td>\n",
       "      <td>NaN</td>\n",
       "      <td>S</td>\n",
       "    </tr>\n",
       "  </tbody>\n",
       "</table>\n",
       "</div>"
      ],
      "text/plain": [
       "   PassengerId  Pclass                                          Name     Sex  \\\n",
       "0          892       3                              Kelly, Mr. James    male   \n",
       "1          893       3              Wilkes, Mrs. James (Ellen Needs)  female   \n",
       "2          894       2                     Myles, Mr. Thomas Francis    male   \n",
       "3          895       3                              Wirz, Mr. Albert    male   \n",
       "4          896       3  Hirvonen, Mrs. Alexander (Helga E Lindqvist)  female   \n",
       "\n",
       "    Age  SibSp  Parch   Ticket     Fare Cabin Embarked  \n",
       "0  34.5      0      0   330911   7.8292   NaN        Q  \n",
       "1  47.0      1      0   363272   7.0000   NaN        S  \n",
       "2  62.0      0      0   240276   9.6875   NaN        Q  \n",
       "3  27.0      0      0   315154   8.6625   NaN        S  \n",
       "4  22.0      1      1  3101298  12.2875   NaN        S  "
      ]
     },
     "execution_count": 5,
     "metadata": {},
     "output_type": "execute_result"
    }
   ],
   "source": [
    "test.head()"
   ]
  },
  {
   "cell_type": "code",
   "execution_count": 6,
   "metadata": {
    "collapsed": true
   },
   "outputs": [],
   "source": [
    "Xtrain = train.drop(['PassengerId', 'Survived', 'Cabin', 'Ticket'], axis=1)\n",
    "Xtest = test.drop(['PassengerId', 'Cabin', 'Ticket'], axis=1)\n",
    "Xtrain['is_test'] = False\n",
    "Xtest['is_test'] = True\n",
    "X = pd.concat([Xtrain, Xtest], axis=0)\n",
    "X.index = range(len(X))\n",
    "X.columns = X.columns.str.lower()"
   ]
  },
  {
   "cell_type": "code",
   "execution_count": 7,
   "metadata": {
    "scrolled": true
   },
   "outputs": [
    {
     "data": {
      "text/plain": [
       "pclass        0\n",
       "name          0\n",
       "sex           0\n",
       "age         263\n",
       "sibsp         0\n",
       "parch         0\n",
       "fare          1\n",
       "embarked      2\n",
       "is_test       0\n",
       "dtype: int64"
      ]
     },
     "execution_count": 7,
     "metadata": {},
     "output_type": "execute_result"
    }
   ],
   "source": [
    "X.isnull().sum()"
   ]
  },
  {
   "cell_type": "markdown",
   "metadata": {},
   "source": [
    "# Работаем с данными"
   ]
  },
  {
   "cell_type": "code",
   "execution_count": 8,
   "metadata": {
    "collapsed": true
   },
   "outputs": [],
   "source": [
    "X = pd.get_dummies(X, columns=['sex', 'pclass', 'embarked'])"
   ]
  },
  {
   "cell_type": "code",
   "execution_count": 9,
   "metadata": {
    "scrolled": false
   },
   "outputs": [
    {
     "data": {
      "text/html": [
       "<div>\n",
       "<style>\n",
       "    .dataframe thead tr:only-child th {\n",
       "        text-align: right;\n",
       "    }\n",
       "\n",
       "    .dataframe thead th {\n",
       "        text-align: left;\n",
       "    }\n",
       "\n",
       "    .dataframe tbody tr th {\n",
       "        vertical-align: top;\n",
       "    }\n",
       "</style>\n",
       "<table border=\"1\" class=\"dataframe\">\n",
       "  <thead>\n",
       "    <tr style=\"text-align: right;\">\n",
       "      <th></th>\n",
       "      <th>name</th>\n",
       "      <th>age</th>\n",
       "      <th>sibsp</th>\n",
       "      <th>parch</th>\n",
       "      <th>fare</th>\n",
       "      <th>is_test</th>\n",
       "      <th>sex_female</th>\n",
       "      <th>sex_male</th>\n",
       "      <th>pclass_1</th>\n",
       "      <th>pclass_2</th>\n",
       "      <th>pclass_3</th>\n",
       "      <th>embarked_C</th>\n",
       "      <th>embarked_Q</th>\n",
       "      <th>embarked_S</th>\n",
       "    </tr>\n",
       "  </thead>\n",
       "  <tbody>\n",
       "    <tr>\n",
       "      <th>0</th>\n",
       "      <td>Braund, Mr. Owen Harris</td>\n",
       "      <td>22.0</td>\n",
       "      <td>1</td>\n",
       "      <td>0</td>\n",
       "      <td>7.2500</td>\n",
       "      <td>False</td>\n",
       "      <td>0</td>\n",
       "      <td>1</td>\n",
       "      <td>0</td>\n",
       "      <td>0</td>\n",
       "      <td>1</td>\n",
       "      <td>0</td>\n",
       "      <td>0</td>\n",
       "      <td>1</td>\n",
       "    </tr>\n",
       "    <tr>\n",
       "      <th>1</th>\n",
       "      <td>Cumings, Mrs. John Bradley (Florence Briggs Th...</td>\n",
       "      <td>38.0</td>\n",
       "      <td>1</td>\n",
       "      <td>0</td>\n",
       "      <td>71.2833</td>\n",
       "      <td>False</td>\n",
       "      <td>1</td>\n",
       "      <td>0</td>\n",
       "      <td>1</td>\n",
       "      <td>0</td>\n",
       "      <td>0</td>\n",
       "      <td>1</td>\n",
       "      <td>0</td>\n",
       "      <td>0</td>\n",
       "    </tr>\n",
       "    <tr>\n",
       "      <th>2</th>\n",
       "      <td>Heikkinen, Miss. Laina</td>\n",
       "      <td>26.0</td>\n",
       "      <td>0</td>\n",
       "      <td>0</td>\n",
       "      <td>7.9250</td>\n",
       "      <td>False</td>\n",
       "      <td>1</td>\n",
       "      <td>0</td>\n",
       "      <td>0</td>\n",
       "      <td>0</td>\n",
       "      <td>1</td>\n",
       "      <td>0</td>\n",
       "      <td>0</td>\n",
       "      <td>1</td>\n",
       "    </tr>\n",
       "    <tr>\n",
       "      <th>3</th>\n",
       "      <td>Futrelle, Mrs. Jacques Heath (Lily May Peel)</td>\n",
       "      <td>35.0</td>\n",
       "      <td>1</td>\n",
       "      <td>0</td>\n",
       "      <td>53.1000</td>\n",
       "      <td>False</td>\n",
       "      <td>1</td>\n",
       "      <td>0</td>\n",
       "      <td>1</td>\n",
       "      <td>0</td>\n",
       "      <td>0</td>\n",
       "      <td>0</td>\n",
       "      <td>0</td>\n",
       "      <td>1</td>\n",
       "    </tr>\n",
       "    <tr>\n",
       "      <th>4</th>\n",
       "      <td>Allen, Mr. William Henry</td>\n",
       "      <td>35.0</td>\n",
       "      <td>0</td>\n",
       "      <td>0</td>\n",
       "      <td>8.0500</td>\n",
       "      <td>False</td>\n",
       "      <td>0</td>\n",
       "      <td>1</td>\n",
       "      <td>0</td>\n",
       "      <td>0</td>\n",
       "      <td>1</td>\n",
       "      <td>0</td>\n",
       "      <td>0</td>\n",
       "      <td>1</td>\n",
       "    </tr>\n",
       "  </tbody>\n",
       "</table>\n",
       "</div>"
      ],
      "text/plain": [
       "                                                name   age  sibsp  parch  \\\n",
       "0                            Braund, Mr. Owen Harris  22.0      1      0   \n",
       "1  Cumings, Mrs. John Bradley (Florence Briggs Th...  38.0      1      0   \n",
       "2                             Heikkinen, Miss. Laina  26.0      0      0   \n",
       "3       Futrelle, Mrs. Jacques Heath (Lily May Peel)  35.0      1      0   \n",
       "4                           Allen, Mr. William Henry  35.0      0      0   \n",
       "\n",
       "      fare  is_test  sex_female  sex_male  pclass_1  pclass_2  pclass_3  \\\n",
       "0   7.2500    False           0         1         0         0         1   \n",
       "1  71.2833    False           1         0         1         0         0   \n",
       "2   7.9250    False           1         0         0         0         1   \n",
       "3  53.1000    False           1         0         1         0         0   \n",
       "4   8.0500    False           0         1         0         0         1   \n",
       "\n",
       "   embarked_C  embarked_Q  embarked_S  \n",
       "0           0           0           1  \n",
       "1           1           0           0  \n",
       "2           0           0           1  \n",
       "3           0           0           1  \n",
       "4           0           0           1  "
      ]
     },
     "execution_count": 9,
     "metadata": {},
     "output_type": "execute_result"
    }
   ],
   "source": [
    "X.head()"
   ]
  },
  {
   "cell_type": "code",
   "execution_count": 10,
   "metadata": {
    "collapsed": true
   },
   "outputs": [],
   "source": [
    "X['family']=X['sibsp']+X['parch']"
   ]
  },
  {
   "cell_type": "code",
   "execution_count": 11,
   "metadata": {
    "collapsed": true
   },
   "outputs": [],
   "source": [
    "X['alone']=np.where (X['family']==0,1,0)"
   ]
  },
  {
   "cell_type": "code",
   "execution_count": 12,
   "metadata": {},
   "outputs": [
    {
     "data": {
      "text/plain": [
       "0     790\n",
       "1     235\n",
       "2     159\n",
       "3      43\n",
       "5      25\n",
       "4      22\n",
       "6      16\n",
       "10     11\n",
       "7       8\n",
       "Name: family, dtype: int64"
      ]
     },
     "execution_count": 12,
     "metadata": {},
     "output_type": "execute_result"
    }
   ],
   "source": [
    "X.family.value_counts()"
   ]
  },
  {
   "cell_type": "code",
   "execution_count": 13,
   "metadata": {
    "collapsed": true
   },
   "outputs": [],
   "source": [
    "X['kid']=np.where (X['age']<16,1,0)"
   ]
  },
  {
   "cell_type": "code",
   "execution_count": 14,
   "metadata": {
    "collapsed": true
   },
   "outputs": [],
   "source": [
    "X['with_sibling_spouse']=np.where(X['sibsp']>0,1,0)\n",
    "X['with_parent_or_child']=np.where(X['parch']>0,1,0)"
   ]
  },
  {
   "cell_type": "code",
   "execution_count": 15,
   "metadata": {
    "collapsed": true
   },
   "outputs": [],
   "source": [
    "X['female_with_spouse']=X['sex_female']*X['with_sibling_spouse']\n",
    "X['male_with_spouse']=X['sex_male']*X['with_sibling_spouse']"
   ]
  },
  {
   "cell_type": "code",
   "execution_count": 16,
   "metadata": {
    "collapsed": true
   },
   "outputs": [],
   "source": [
    "X['female_class1']=X['sex_female']*X['pclass_1']\n",
    "X['female_class2']=X['sex_female']*X['pclass_2']\n",
    "X['female_class3']=X['sex_female']*X['pclass_3']\n",
    "\n",
    "X['male_class1']=X['sex_male']*X['pclass_1']\n",
    "X['male_class2']=X['sex_male']*X['pclass_2']\n",
    "X['male_class3']=X['sex_male']*X['pclass_3']"
   ]
  },
  {
   "cell_type": "code",
   "execution_count": 17,
   "metadata": {
    "collapsed": true
   },
   "outputs": [],
   "source": [
    "X['big_family']=np.where(X['family']>3,1,0)"
   ]
  },
  {
   "cell_type": "code",
   "execution_count": 18,
   "metadata": {
    "collapsed": true
   },
   "outputs": [],
   "source": [
    "X['kid_big_family']=X['kid']*X['big_family']\n",
    "X['female_big_family']=X['sex_female']*X['big_family']\n",
    "X['male_big_family']=X['sex_male']*X['big_family']"
   ]
  },
  {
   "cell_type": "code",
   "execution_count": 19,
   "metadata": {
    "collapsed": true
   },
   "outputs": [],
   "source": [
    "X['kid_with_parents']= X['kid']* X['with_parent_or_child']"
   ]
  },
  {
   "cell_type": "code",
   "execution_count": 20,
   "metadata": {
    "scrolled": true
   },
   "outputs": [
    {
     "data": {
      "text/plain": [
       "Index(['name', 'age', 'sibsp', 'parch', 'fare', 'is_test', 'sex_female',\n",
       "       'sex_male', 'pclass_1', 'pclass_2', 'pclass_3', 'embarked_C',\n",
       "       'embarked_Q', 'embarked_S', 'family', 'alone', 'kid',\n",
       "       'with_sibling_spouse', 'with_parent_or_child', 'female_with_spouse',\n",
       "       'male_with_spouse', 'female_class1', 'female_class2', 'female_class3',\n",
       "       'male_class1', 'male_class2', 'male_class3', 'big_family',\n",
       "       'kid_big_family', 'female_big_family', 'male_big_family',\n",
       "       'kid_with_parents'],\n",
       "      dtype='object')"
      ]
     },
     "execution_count": 20,
     "metadata": {},
     "output_type": "execute_result"
    }
   ],
   "source": [
    "X.columns"
   ]
  },
  {
   "cell_type": "code",
   "execution_count": 29,
   "metadata": {},
   "outputs": [
    {
     "ename": "ValueError",
     "evalue": "labels ['name' 'sibsp' 'parch'] not contained in axis",
     "output_type": "error",
     "traceback": [
      "\u001b[0;31m---------------------------------------------------------------------------\u001b[0m",
      "\u001b[0;31mValueError\u001b[0m                                Traceback (most recent call last)",
      "\u001b[0;32m<ipython-input-29-712213137c25>\u001b[0m in \u001b[0;36m<module>\u001b[0;34m()\u001b[0m\n\u001b[0;32m----> 1\u001b[0;31m \u001b[0mX\u001b[0m\u001b[0;34m=\u001b[0m\u001b[0mX\u001b[0m\u001b[0;34m.\u001b[0m\u001b[0mdrop\u001b[0m\u001b[0;34m(\u001b[0m\u001b[0;34m[\u001b[0m\u001b[0;34m'name'\u001b[0m\u001b[0;34m,\u001b[0m\u001b[0;34m'sibsp'\u001b[0m\u001b[0;34m,\u001b[0m \u001b[0;34m'parch'\u001b[0m\u001b[0;34m]\u001b[0m\u001b[0;34m,\u001b[0m \u001b[0maxis\u001b[0m\u001b[0;34m=\u001b[0m\u001b[0;36m1\u001b[0m\u001b[0;34m)\u001b[0m\u001b[0;34m\u001b[0m\u001b[0m\n\u001b[0m\u001b[1;32m      2\u001b[0m \u001b[0mX\u001b[0m\u001b[0;34m[\u001b[0m\u001b[0;34m'age'\u001b[0m\u001b[0;34m]\u001b[0m\u001b[0;34m.\u001b[0m\u001b[0mfillna\u001b[0m\u001b[0;34m(\u001b[0m\u001b[0mX\u001b[0m\u001b[0;34m[\u001b[0m\u001b[0;34m'age'\u001b[0m\u001b[0;34m]\u001b[0m\u001b[0;34m.\u001b[0m\u001b[0mmean\u001b[0m\u001b[0;34m(\u001b[0m\u001b[0;34m)\u001b[0m\u001b[0;34m,\u001b[0m \u001b[0minplace\u001b[0m\u001b[0;34m=\u001b[0m\u001b[0;32mTrue\u001b[0m\u001b[0;34m)\u001b[0m\u001b[0;34m\u001b[0m\u001b[0m\n\u001b[1;32m      3\u001b[0m \u001b[0mX\u001b[0m\u001b[0;34m[\u001b[0m\u001b[0;34m'fare'\u001b[0m\u001b[0;34m]\u001b[0m\u001b[0;34m.\u001b[0m\u001b[0mfillna\u001b[0m\u001b[0;34m(\u001b[0m\u001b[0mX\u001b[0m\u001b[0;34m[\u001b[0m\u001b[0;34m'fare'\u001b[0m\u001b[0;34m]\u001b[0m\u001b[0;34m.\u001b[0m\u001b[0mmean\u001b[0m\u001b[0;34m(\u001b[0m\u001b[0;34m)\u001b[0m\u001b[0;34m,\u001b[0m \u001b[0minplace\u001b[0m\u001b[0;34m=\u001b[0m\u001b[0;32mTrue\u001b[0m\u001b[0;34m)\u001b[0m\u001b[0;34m\u001b[0m\u001b[0m\n",
      "\u001b[0;32m/home/anna/anaconda3/lib/python3.6/site-packages/pandas/core/generic.py\u001b[0m in \u001b[0;36mdrop\u001b[0;34m(self, labels, axis, level, inplace, errors)\u001b[0m\n\u001b[1;32m   2048\u001b[0m                 \u001b[0mnew_axis\u001b[0m \u001b[0;34m=\u001b[0m \u001b[0maxis\u001b[0m\u001b[0;34m.\u001b[0m\u001b[0mdrop\u001b[0m\u001b[0;34m(\u001b[0m\u001b[0mlabels\u001b[0m\u001b[0;34m,\u001b[0m \u001b[0mlevel\u001b[0m\u001b[0;34m=\u001b[0m\u001b[0mlevel\u001b[0m\u001b[0;34m,\u001b[0m \u001b[0merrors\u001b[0m\u001b[0;34m=\u001b[0m\u001b[0merrors\u001b[0m\u001b[0;34m)\u001b[0m\u001b[0;34m\u001b[0m\u001b[0m\n\u001b[1;32m   2049\u001b[0m             \u001b[0;32melse\u001b[0m\u001b[0;34m:\u001b[0m\u001b[0;34m\u001b[0m\u001b[0m\n\u001b[0;32m-> 2050\u001b[0;31m                 \u001b[0mnew_axis\u001b[0m \u001b[0;34m=\u001b[0m \u001b[0maxis\u001b[0m\u001b[0;34m.\u001b[0m\u001b[0mdrop\u001b[0m\u001b[0;34m(\u001b[0m\u001b[0mlabels\u001b[0m\u001b[0;34m,\u001b[0m \u001b[0merrors\u001b[0m\u001b[0;34m=\u001b[0m\u001b[0merrors\u001b[0m\u001b[0;34m)\u001b[0m\u001b[0;34m\u001b[0m\u001b[0m\n\u001b[0m\u001b[1;32m   2051\u001b[0m             \u001b[0mdropped\u001b[0m \u001b[0;34m=\u001b[0m \u001b[0mself\u001b[0m\u001b[0;34m.\u001b[0m\u001b[0mreindex\u001b[0m\u001b[0;34m(\u001b[0m\u001b[0;34m**\u001b[0m\u001b[0;34m{\u001b[0m\u001b[0maxis_name\u001b[0m\u001b[0;34m:\u001b[0m \u001b[0mnew_axis\u001b[0m\u001b[0;34m}\u001b[0m\u001b[0;34m)\u001b[0m\u001b[0;34m\u001b[0m\u001b[0m\n\u001b[1;32m   2052\u001b[0m             \u001b[0;32mtry\u001b[0m\u001b[0;34m:\u001b[0m\u001b[0;34m\u001b[0m\u001b[0m\n",
      "\u001b[0;32m/home/anna/anaconda3/lib/python3.6/site-packages/pandas/core/indexes/base.py\u001b[0m in \u001b[0;36mdrop\u001b[0;34m(self, labels, errors)\u001b[0m\n\u001b[1;32m   3573\u001b[0m             \u001b[0;32mif\u001b[0m \u001b[0merrors\u001b[0m \u001b[0;34m!=\u001b[0m \u001b[0;34m'ignore'\u001b[0m\u001b[0;34m:\u001b[0m\u001b[0;34m\u001b[0m\u001b[0m\n\u001b[1;32m   3574\u001b[0m                 raise ValueError('labels %s not contained in axis' %\n\u001b[0;32m-> 3575\u001b[0;31m                                  labels[mask])\n\u001b[0m\u001b[1;32m   3576\u001b[0m             \u001b[0mindexer\u001b[0m \u001b[0;34m=\u001b[0m \u001b[0mindexer\u001b[0m\u001b[0;34m[\u001b[0m\u001b[0;34m~\u001b[0m\u001b[0mmask\u001b[0m\u001b[0;34m]\u001b[0m\u001b[0;34m\u001b[0m\u001b[0m\n\u001b[1;32m   3577\u001b[0m         \u001b[0;32mreturn\u001b[0m \u001b[0mself\u001b[0m\u001b[0;34m.\u001b[0m\u001b[0mdelete\u001b[0m\u001b[0;34m(\u001b[0m\u001b[0mindexer\u001b[0m\u001b[0;34m)\u001b[0m\u001b[0;34m\u001b[0m\u001b[0m\n",
      "\u001b[0;31mValueError\u001b[0m: labels ['name' 'sibsp' 'parch'] not contained in axis"
     ]
    }
   ],
   "source": [
    "X=X.drop(['name','sibsp', 'parch'], axis=1)\n"
   ]
  },
  {
   "cell_type": "code",
   "execution_count": 30,
   "metadata": {
    "collapsed": true
   },
   "outputs": [],
   "source": [
    "X['age'].fillna(X['age'].mean(), inplace=True)\n",
    "X['fare'].fillna(X['fare'].mean(), inplace=True)"
   ]
  },
  {
   "cell_type": "code",
   "execution_count": 31,
   "metadata": {},
   "outputs": [
    {
     "data": {
      "text/plain": [
       "age                     0\n",
       "fare                    0\n",
       "is_test                 0\n",
       "sex_female              0\n",
       "sex_male                0\n",
       "pclass_1                0\n",
       "pclass_2                0\n",
       "pclass_3                0\n",
       "embarked_C              0\n",
       "embarked_Q              0\n",
       "embarked_S              0\n",
       "family                  0\n",
       "alone                   0\n",
       "kid                     0\n",
       "with_sibling_spouse     0\n",
       "with_parent_or_child    0\n",
       "female_with_spouse      0\n",
       "male_with_spouse        0\n",
       "female_class1           0\n",
       "female_class2           0\n",
       "female_class3           0\n",
       "male_class1             0\n",
       "male_class2             0\n",
       "male_class3             0\n",
       "big_family              0\n",
       "kid_big_family          0\n",
       "female_big_family       0\n",
       "male_big_family         0\n",
       "kid_with_parents        0\n",
       "dtype: int64"
      ]
     },
     "execution_count": 31,
     "metadata": {},
     "output_type": "execute_result"
    }
   ],
   "source": [
    "X.isnull().sum()"
   ]
  },
  {
   "cell_type": "code",
   "execution_count": 32,
   "metadata": {
    "collapsed": true
   },
   "outputs": [],
   "source": [
    "y=train.Survived"
   ]
  },
  {
   "cell_type": "code",
   "execution_count": 33,
   "metadata": {
    "collapsed": true
   },
   "outputs": [],
   "source": [
    "X_cut=X[X['is_test']==0]\n",
    "X_cut=X_cut.drop(['is_test'],axis=1)"
   ]
  },
  {
   "cell_type": "code",
   "execution_count": 34,
   "metadata": {
    "collapsed": true
   },
   "outputs": [],
   "source": [
    "X_test=X[X['is_test']==1]\n",
    "X_test=X_test.drop(['is_test'],axis=1)"
   ]
  },
  {
   "cell_type": "code",
   "execution_count": 35,
   "metadata": {},
   "outputs": [
    {
     "data": {
      "text/plain": [
       "891"
      ]
     },
     "execution_count": 35,
     "metadata": {},
     "output_type": "execute_result"
    }
   ],
   "source": [
    "len(X_cut)"
   ]
  },
  {
   "cell_type": "markdown",
   "metadata": {},
   "source": [
    "## Logistic Regression"
   ]
  },
  {
   "cell_type": "code",
   "execution_count": 36,
   "metadata": {
    "collapsed": true
   },
   "outputs": [],
   "source": [
    "X_cut=X_cut.drop(['kid', 'male_with_spouse', 'female_with_spouse', 'family', 'kid_big_family'], axis=1)"
   ]
  },
  {
   "cell_type": "code",
   "execution_count": 37,
   "metadata": {
    "collapsed": true
   },
   "outputs": [],
   "source": [
    "# Fit logistic regression\n",
    "from sklearn.linear_model import LogisticRegression\n",
    "# LogisticRegression(penalty='l2', dual=False, tol=0.0001, C=1.0, \n",
    "#                    fit_intercept=True, intercept_scaling=1, class_weight=None, \n",
    "#                    random_state=None, solver='liblinear', max_iter=100,\n",
    "#                    multi_class='ovr', verbose=0, warm_start=False, n_jobs=1)"
   ]
  },
  {
   "cell_type": "code",
   "execution_count": 38,
   "metadata": {},
   "outputs": [],
   "source": [
    "model = LogisticRegression().fit(X_cut, y)"
   ]
  },
  {
   "cell_type": "code",
   "execution_count": 39,
   "metadata": {
    "scrolled": true
   },
   "outputs": [
    {
     "data": {
      "text/plain": [
       "numpy.ndarray"
      ]
     },
     "execution_count": 39,
     "metadata": {},
     "output_type": "execute_result"
    }
   ],
   "source": [
    "type(model.coef_[0])"
   ]
  },
  {
   "cell_type": "code",
   "execution_count": 40,
   "metadata": {
    "collapsed": true
   },
   "outputs": [],
   "source": [
    "import matplotlib.pyplot as plt"
   ]
  },
  {
   "cell_type": "code",
   "execution_count": 41,
   "metadata": {},
   "outputs": [
    {
     "data": {
      "text/plain": [
       "([<matplotlib.axis.YTick at 0x7f11d539c9e8>,\n",
       "  <matplotlib.axis.YTick at 0x7f11d539c898>,\n",
       "  <matplotlib.axis.YTick at 0x7f11d5395f60>,\n",
       "  <matplotlib.axis.YTick at 0x7f11d52dcd30>,\n",
       "  <matplotlib.axis.YTick at 0x7f11d52eb748>,\n",
       "  <matplotlib.axis.YTick at 0x7f11d52f0160>,\n",
       "  <matplotlib.axis.YTick at 0x7f11d53b1a58>,\n",
       "  <matplotlib.axis.YTick at 0x7f11d53a6518>,\n",
       "  <matplotlib.axis.YTick at 0x7f11d5395e48>,\n",
       "  <matplotlib.axis.YTick at 0x7f11d53884a8>,\n",
       "  <matplotlib.axis.YTick at 0x7f11d52f0cc0>,\n",
       "  <matplotlib.axis.YTick at 0x7f11d5278518>,\n",
       "  <matplotlib.axis.YTick at 0x7f11d5278e80>,\n",
       "  <matplotlib.axis.YTick at 0x7f11d527d898>,\n",
       "  <matplotlib.axis.YTick at 0x7f11d52822b0>,\n",
       "  <matplotlib.axis.YTick at 0x7f11d5282c88>,\n",
       "  <matplotlib.axis.YTick at 0x7f11d52876a0>,\n",
       "  <matplotlib.axis.YTick at 0x7f11d528e0b8>,\n",
       "  <matplotlib.axis.YTick at 0x7f11d528ea90>,\n",
       "  <matplotlib.axis.YTick at 0x7f11d52934a8>,\n",
       "  <matplotlib.axis.YTick at 0x7f11d5293e80>,\n",
       "  <matplotlib.axis.YTick at 0x7f11d529b898>,\n",
       "  <matplotlib.axis.YTick at 0x7f11d52a22b0>],\n",
       " <a list of 23 Text yticklabel objects>)"
      ]
     },
     "execution_count": 41,
     "metadata": {},
     "output_type": "execute_result"
    },
    {
     "data": {
      "image/png": "[encoded data removed]",
      "text/plain": [
       "<matplotlib.figure.Figure at 0x7f11d77b4048>"
      ]
     },
     "metadata": {},
     "output_type": "display_data"
    }
   ],
   "source": [
    "plt.barh( np.arange(len(model.coef_[0])), model.coef_[0])\n",
    "plt.yticks(np.arange(len(X_cut.columns)),X_cut.columns)"
   ]
  },
  {
   "cell_type": "markdown",
   "metadata": {},
   "source": [
    "## Estimate quality"
   ]
  },
  {
   "cell_type": "code",
   "execution_count": 42,
   "metadata": {},
   "outputs": [
    {
     "name": "stdout",
     "output_type": "stream",
     "text": [
      "0.829405162738\n"
     ]
    }
   ],
   "source": [
    "# Estimate quality\n",
    "from sklearn.metrics import accuracy_score\n",
    "# accuracy_score(y_true, y_pred, normalize=True, sample_weight=None)\n",
    "predicted = model.predict(X_cut)\n",
    "print (accuracy_score (y, predicted))"
   ]
  },
  {
   "cell_type": "markdown",
   "metadata": {},
   "source": [
    "## Create submission "
   ]
  },
  {
   "cell_type": "code",
   "execution_count": 43,
   "metadata": {
    "collapsed": true
   },
   "outputs": [],
   "source": [
    "X_test=X_test.drop(['kid', 'male_with_spouse', 'female_with_spouse', 'family','kid_big_family'], axis=1)\n",
    "predicted = model.predict(X_test)"
   ]
  },
  {
   "cell_type": "code",
   "execution_count": 44,
   "metadata": {
    "collapsed": true
   },
   "outputs": [],
   "source": [
    "with open('submission.csv', 'w') as out:\n",
    "    out.write('PassengerId,Survived\\n')\n",
    "    for passenger, y in zip(test['PassengerId'], predicted):\n",
    "        out.write('%s,%s\\n' % (passenger, y))"
   ]
  },
  {
   "cell_type": "markdown",
   "metadata": {
    "collapsed": true
   },
   "source": [
    "# Кросс-валидация"
   ]
  },
  {
   "cell_type": "code",
   "execution_count": 45,
   "metadata": {
    "collapsed": true
   },
   "outputs": [],
   "source": [
    "y=train.Survived"
   ]
  },
  {
   "cell_type": "code",
   "execution_count": 46,
   "metadata": {
    "collapsed": true
   },
   "outputs": [],
   "source": [
    "from sklearn.metrics import make_scorer\n",
    "from sklearn.model_selection import KFold\n",
    "from sklearn.model_selection import cross_val_score"
   ]
  },
  {
   "cell_type": "code",
   "execution_count": 47,
   "metadata": {
    "collapsed": true
   },
   "outputs": [],
   "source": [
    "\n",
    "#\n",
    "#   KFold(n_splits=3, shuffle=False, random_state=None)\n",
    "#\n",
    "#   cross_val_score(estimator, X, y=None, groups=None, scoring=None,\n",
    "#                   cv=None, n_jobs=1, verbose=0, fit_params=None, \n",
    "#                   pre_dispatch='2*n_jobs')\n",
    "#\n",
    "\n",
    "\n",
    "kfold = KFold(n_splits=3, shuffle=True, random_state=123)\n",
    "\n",
    "scores = cross_val_score(LogisticRegression(),\n",
    "                         X_cut, y, groups=None,\n",
    "                         scoring = 'accuracy',\n",
    "                         cv = kfold)"
   ]
  },
  {
   "cell_type": "code",
   "execution_count": 48,
   "metadata": {},
   "outputs": [
    {
     "name": "stdout",
     "output_type": "stream",
     "text": [
      "[ 0.84175084  0.7979798   0.79124579]\n",
      "0.810325476992\n"
     ]
    }
   ],
   "source": [
    "print (scores)\n",
    "print (np.average(scores))"
   ]
  },
  {
   "cell_type": "markdown",
   "metadata": {},
   "source": [
    "# Подбор гиперпараметров"
   ]
  },
  {
   "cell_type": "code",
   "execution_count": 49,
   "metadata": {
    "collapsed": true
   },
   "outputs": [],
   "source": [
    "# GridSearch\n",
    "from sklearn.linear_model import Ridge\n",
    "from sklearn.model_selection import GridSearchCV\n",
    "# \n",
    "#   Ridge(alpha=1.0, fit_intercept=True, normalize=False, \n",
    "#         copy_X=True, max_iter=None, tol=0.001, \n",
    "#         solver='auto', random_state=None)\n",
    "#\n",
    "#   GridSearchCV(estimator, param_grid, scoring=None, fit_params=None,\n",
    "#                n_jobs=1, iid=True, refit=True, cv=None, verbose=0, \n",
    "#                pre_dispatch='2*n_jobs', error_score='raise', return_train_score=True) "
   ]
  },
  {
   "cell_type": "code",
   "execution_count": 50,
   "metadata": {},
   "outputs": [
    {
     "data": {
      "text/plain": [
       "<bound method BaseEstimator.get_params of LogisticRegression(C=1.0, class_weight=None, dual=False, fit_intercept=True,\n",
       "          intercept_scaling=1, max_iter=100, multi_class='ovr', n_jobs=1,\n",
       "          penalty='l2', random_state=None, solver='liblinear', tol=0.0001,\n",
       "          verbose=0, warm_start=False)>"
      ]
     },
     "execution_count": 50,
     "metadata": {},
     "output_type": "execute_result"
    }
   ],
   "source": [
    "model.get_params"
   ]
  },
  {
   "cell_type": "code",
   "execution_count": 51,
   "metadata": {
    "collapsed": true
   },
   "outputs": [],
   "source": [
    "param_grid = [\n",
    "  {'C': [0.01, 0.1, 1, 10, 100, 1000, 10000]} ]\n",
    "\n",
    "grid = GridSearchCV(LogisticRegression(), param_grid, \n",
    "                    scoring='accuracy',\n",
    "                    cv=kfold)"
   ]
  },
  {
   "cell_type": "code",
   "execution_count": 52,
   "metadata": {
    "collapsed": true
   },
   "outputs": [],
   "source": [
    "model_grid_search = grid.fit(X_cut, y)"
   ]
  },
  {
   "cell_type": "code",
   "execution_count": 53,
   "metadata": {},
   "outputs": [
    {
     "data": {
      "text/plain": [
       "{'mean_fit_time': array([ 0.02881074,  0.02383566,  0.02700861,  0.02894012,  0.01740082,\n",
       "         0.03975026,  0.02423493]),\n",
       " 'mean_score_time': array([ 0.00524759,  0.00601816,  0.00347098,  0.01332362,  0.00271765,\n",
       "         0.0071578 ,  0.00524124]),\n",
       " 'mean_test_score': array([ 0.76094276,  0.8013468 ,  0.81032548,  0.81593715,  0.81593715,\n",
       "         0.81593715,  0.81593715]),\n",
       " 'mean_train_score': array([ 0.77104377,  0.81257015,  0.82996633,  0.8338945 ,  0.83333333,\n",
       "         0.83333333,  0.83333333]),\n",
       " 'param_C': masked_array(data = [0.01 0.1 1 10 100 1000 10000],\n",
       "              mask = [False False False False False False False],\n",
       "        fill_value = ?),\n",
       " 'params': ({'C': 0.01},\n",
       "  {'C': 0.1},\n",
       "  {'C': 1},\n",
       "  {'C': 10},\n",
       "  {'C': 100},\n",
       "  {'C': 1000},\n",
       "  {'C': 10000}),\n",
       " 'rank_test_score': array([7, 6, 5, 1, 1, 1, 1], dtype=int32),\n",
       " 'split0_test_score': array([ 0.77441077,  0.81818182,  0.84175084,  0.83838384,  0.83838384,\n",
       "         0.83838384,  0.83838384]),\n",
       " 'split0_train_score': array([ 0.76094276,  0.7979798 ,  0.82659933,  0.82323232,  0.82323232,\n",
       "         0.82323232,  0.82323232]),\n",
       " 'split1_test_score': array([ 0.76094276,  0.8047138 ,  0.7979798 ,  0.79461279,  0.79461279,\n",
       "         0.79461279,  0.79461279]),\n",
       " 'split1_train_score': array([ 0.78114478,  0.82323232,  0.83333333,  0.83670034,  0.83670034,\n",
       "         0.83670034,  0.83670034]),\n",
       " 'split2_test_score': array([ 0.74747475,  0.78114478,  0.79124579,  0.81481481,  0.81481481,\n",
       "         0.81481481,  0.81481481]),\n",
       " 'split2_train_score': array([ 0.77104377,  0.81649832,  0.82996633,  0.84175084,  0.84006734,\n",
       "         0.84006734,  0.84006734]),\n",
       " 'std_fit_time': array([ 0.01492138,  0.00989508,  0.00682133,  0.01038953,  0.00194198,\n",
       "         0.00915018,  0.00255166]),\n",
       " 'std_score_time': array([ 0.00175893,  0.00280026,  0.00195944,  0.00765776,  0.00022258,\n",
       "         0.00394195,  0.00411938]),\n",
       " 'std_test_score': array([ 0.01099659,  0.0153066 ,  0.0223905 ,  0.01788707,  0.01788707,\n",
       "         0.01788707,  0.01788707]),\n",
       " 'std_train_score': array([ 0.00824744,  0.01067693,  0.00274915,  0.00781616,  0.00727356,\n",
       "         0.00727356,  0.00727356])}"
      ]
     },
     "execution_count": 53,
     "metadata": {},
     "output_type": "execute_result"
    }
   ],
   "source": [
    "model_grid_search.cv_results_"
   ]
  },
  {
   "cell_type": "markdown",
   "metadata": {},
   "source": [
    "### видно, что при С=1 улучшение точности параметров на тестовой выборке максимальное, затем точность сильно не изменяется."
   ]
  },
  {
   "cell_type": "markdown",
   "metadata": {},
   "source": [
    "# Desicion Tree"
   ]
  },
  {
   "cell_type": "code",
   "execution_count": 54,
   "metadata": {
    "collapsed": true
   },
   "outputs": [],
   "source": [
    "from sklearn.tree import DecisionTreeClassifier\n",
    "clf = DecisionTreeClassifier(max_depth=3)"
   ]
  },
  {
   "cell_type": "code",
   "execution_count": 55,
   "metadata": {},
   "outputs": [
    {
     "data": {
      "text/plain": [
       "DecisionTreeClassifier(class_weight=None, criterion='gini', max_depth=3,\n",
       "            max_features=None, max_leaf_nodes=None,\n",
       "            min_impurity_split=1e-07, min_samples_leaf=1,\n",
       "            min_samples_split=2, min_weight_fraction_leaf=0.0,\n",
       "            presort=False, random_state=None, splitter='best')"
      ]
     },
     "execution_count": 55,
     "metadata": {},
     "output_type": "execute_result"
    }
   ],
   "source": [
    "clf.fit(X_cut, y)"
   ]
  },
  {
   "cell_type": "code",
   "execution_count": 56,
   "metadata": {
    "collapsed": true,
    "scrolled": true
   },
   "outputs": [],
   "source": [
    "predicted = clf.predict(X_test)"
   ]
  },
  {
   "cell_type": "code",
   "execution_count": 57,
   "metadata": {
    "collapsed": true
   },
   "outputs": [],
   "source": [
    "with open('submission.csv', 'w') as out:\n",
    "    out.write('PassengerId,Survived\\n')\n",
    "    for passenger, prediction in zip(test['PassengerId'], predicted):\n",
    "        out.write('%s,%s\\n' % (passenger, prediction))"
   ]
  },
  {
   "cell_type": "code",
   "execution_count": 58,
   "metadata": {
    "collapsed": true
   },
   "outputs": [],
   "source": [
    "param_grid = [\n",
    "  {'max_depth': [1,2,3,4,5,6,7,8,9,10]} ]\n",
    "\n",
    "grid_tree = GridSearchCV(DecisionTreeClassifier(), param_grid, \n",
    "                    scoring='accuracy',\n",
    "                    cv=kfold)"
   ]
  },
  {
   "cell_type": "code",
   "execution_count": 59,
   "metadata": {
    "collapsed": true
   },
   "outputs": [],
   "source": [
    "tree_grid_search = grid_tree.fit(X_cut, y)"
   ]
  },
  {
   "cell_type": "code",
   "execution_count": 60,
   "metadata": {
    "scrolled": true
   },
   "outputs": [
    {
     "data": {
      "text/plain": [
       "{'mean_fit_time': array([ 0.00733511,  0.00716249,  0.00888896,  0.01150107,  0.0084041 ,\n",
       "         0.0089577 ,  0.00873645,  0.00930206,  0.00886003,  0.00886544]),\n",
       " 'mean_score_time': array([ 0.00477926,  0.0022711 ,  0.00443904,  0.00471703,  0.00216778,\n",
       "         0.00211   ,  0.00214958,  0.0022095 ,  0.00203753,  0.00199699]),\n",
       " 'mean_test_score': array([ 0.78675645,  0.77441077,  0.81705948,  0.80022447,  0.79573513,\n",
       "         0.80022447,  0.79236813,  0.79685746,  0.78451178,  0.78226712]),\n",
       " 'mean_train_score': array([ 0.78675645,  0.79573513,  0.82716049,  0.84287318,  0.85465769,\n",
       "         0.87766554,  0.88496072,  0.90965208,  0.9298541 ,  0.94332211]),\n",
       " 'param_max_depth': masked_array(data = [1 2 3 4 5 6 7 8 9 10],\n",
       "              mask = [False False False False False False False False False False],\n",
       "        fill_value = ?),\n",
       " 'params': ({'max_depth': 1},\n",
       "  {'max_depth': 2},\n",
       "  {'max_depth': 3},\n",
       "  {'max_depth': 4},\n",
       "  {'max_depth': 5},\n",
       "  {'max_depth': 6},\n",
       "  {'max_depth': 7},\n",
       "  {'max_depth': 8},\n",
       "  {'max_depth': 9},\n",
       "  {'max_depth': 10}),\n",
       " 'rank_test_score': array([ 7, 10,  1,  2,  5,  2,  6,  4,  8,  9], dtype=int32),\n",
       " 'split0_test_score': array([ 0.8013468 ,  0.79461279,  0.83838384,  0.83164983,  0.80808081,\n",
       "         0.83501684,  0.80808081,  0.83501684,  0.82828283,  0.8013468 ]),\n",
       " 'split0_train_score': array([ 0.77946128,  0.79124579,  0.82323232,  0.83501684,  0.84175084,\n",
       "         0.87205387,  0.87710438,  0.90572391,  0.92929293,  0.94444444]),\n",
       " 'split1_test_score': array([ 0.76767677,  0.76767677,  0.78451178,  0.79124579,  0.78451178,\n",
       "         0.76094276,  0.78451178,  0.76767677,  0.76094276,  0.78114478]),\n",
       " 'split1_train_score': array([ 0.7962963 ,  0.7962963 ,  0.83838384,  0.85353535,  0.86026936,\n",
       "         0.87878788,  0.88720539,  0.91750842,  0.94107744,  0.94781145]),\n",
       " 'split2_test_score': array([ 0.79124579,  0.76094276,  0.82828283,  0.77777778,  0.79461279,\n",
       "         0.8047138 ,  0.78451178,  0.78787879,  0.76430976,  0.76430976]),\n",
       " 'split2_train_score': array([ 0.78451178,  0.7996633 ,  0.81986532,  0.84006734,  0.86195286,\n",
       "         0.88215488,  0.89057239,  0.90572391,  0.91919192,  0.93771044]),\n",
       " 'std_fit_time': array([ 0.00056293,  0.0001567 ,  0.00160033,  0.00359796,  0.00013968,\n",
       "         0.0001442 ,  0.0002222 ,  0.00017229,  0.00035158,  0.00017039]),\n",
       " 'std_score_time': array([  3.94914145e-03,   4.07018077e-04,   3.35434212e-03,\n",
       "          1.78702288e-03,   1.42007616e-04,   6.69649276e-05,\n",
       "          1.35489316e-04,   1.08886461e-04,   1.40319411e-04,\n",
       "          4.93628189e-06]),\n",
       " 'std_test_score': array([ 0.01410753,  0.01454712,  0.02338122,  0.02289122,  0.00965469,\n",
       "         0.03040677,  0.01111054,  0.02821505,  0.03098131,  0.01514112]),\n",
       " 'std_train_score': array([ 0.00705376,  0.00345927,  0.00805426,  0.00781616,  0.00915236,\n",
       "         0.00419939,  0.00572281,  0.00555527,  0.00894353,  0.00419939])}"
      ]
     },
     "execution_count": 60,
     "metadata": {},
     "output_type": "execute_result"
    }
   ],
   "source": [
    "tree_grid_search.cv_results_"
   ]
  },
  {
   "cell_type": "code",
   "execution_count": 61,
   "metadata": {},
   "outputs": [
    {
     "data": {
      "text/plain": [
       "([<matplotlib.axis.YTick at 0x7f11d52a2438>,\n",
       "  <matplotlib.axis.YTick at 0x7f11d52458d0>,\n",
       "  <matplotlib.axis.YTick at 0x7f11d496ce48>,\n",
       "  <matplotlib.axis.YTick at 0x7f11d423e898>,\n",
       "  <matplotlib.axis.YTick at 0x7f11d42432b0>,\n",
       "  <matplotlib.axis.YTick at 0x7f11d4243c88>,\n",
       "  <matplotlib.axis.YTick at 0x7f11d424a6a0>,\n",
       "  <matplotlib.axis.YTick at 0x7f11d42500b8>,\n",
       "  <matplotlib.axis.YTick at 0x7f11d4250a90>,\n",
       "  <matplotlib.axis.YTick at 0x7f11d42584a8>,\n",
       "  <matplotlib.axis.YTick at 0x7f11d4258e80>,\n",
       "  <matplotlib.axis.YTick at 0x7f11d425c898>,\n",
       "  <matplotlib.axis.YTick at 0x7f11d42632b0>,\n",
       "  <matplotlib.axis.YTick at 0x7f11d4263c88>,\n",
       "  <matplotlib.axis.YTick at 0x7f11d426b6a0>,\n",
       "  <matplotlib.axis.YTick at 0x7f11d42700b8>,\n",
       "  <matplotlib.axis.YTick at 0x7f11d4270a90>,\n",
       "  <matplotlib.axis.YTick at 0x7f11d42794a8>,\n",
       "  <matplotlib.axis.YTick at 0x7f11d4279e80>,\n",
       "  <matplotlib.axis.YTick at 0x7f11d41fe898>,\n",
       "  <matplotlib.axis.YTick at 0x7f11d42052b0>,\n",
       "  <matplotlib.axis.YTick at 0x7f11d4205c88>,\n",
       "  <matplotlib.axis.YTick at 0x7f11d420d6a0>],\n",
       " <a list of 23 Text yticklabel objects>)"
      ]
     },
     "execution_count": 61,
     "metadata": {},
     "output_type": "execute_result"
    },
    {
     "data": {
      "image/png": "[encoded data removed]",
      "text/plain": [
       "<matplotlib.figure.Figure at 0x7f11d5287320>"
      ]
     },
     "metadata": {},
     "output_type": "display_data"
    }
   ],
   "source": [
    "plt.barh(np.arange(len(clf.feature_importances_)), clf.feature_importances_)\n",
    "plt.yticks(np.arange(len(X_cut.columns)),X_cut.columns)"
   ]
  },
  {
   "cell_type": "markdown",
   "metadata": {},
   "source": [
    "# Random Forest Classifier"
   ]
  },
  {
   "cell_type": "code",
   "execution_count": 62,
   "metadata": {
    "collapsed": true
   },
   "outputs": [],
   "source": [
    "from sklearn.ensemble import RandomForestClassifier"
   ]
  },
  {
   "cell_type": "code",
   "execution_count": 70,
   "metadata": {
    "collapsed": true
   },
   "outputs": [],
   "source": [
    "frst_clf = RandomForestClassifier(n_estimators=1000, max_depth=6)"
   ]
  },
  {
   "cell_type": "code",
   "execution_count": 71,
   "metadata": {},
   "outputs": [
    {
     "data": {
      "text/plain": [
       "RandomForestClassifier(bootstrap=True, class_weight=None, criterion='gini',\n",
       "            max_depth=6, max_features='auto', max_leaf_nodes=None,\n",
       "            min_impurity_split=1e-07, min_samples_leaf=1,\n",
       "            min_samples_split=2, min_weight_fraction_leaf=0.0,\n",
       "            n_estimators=1000, n_jobs=1, oob_score=False,\n",
       "            random_state=None, verbose=0, warm_start=False)"
      ]
     },
     "execution_count": 71,
     "metadata": {},
     "output_type": "execute_result"
    }
   ],
   "source": [
    "frst_clf.fit(X_cut, y)"
   ]
  },
  {
   "cell_type": "code",
   "execution_count": 72,
   "metadata": {
    "collapsed": true
   },
   "outputs": [],
   "source": [
    "results=frst_clf.predict(X_test)"
   ]
  },
  {
   "cell_type": "code",
   "execution_count": 74,
   "metadata": {
    "collapsed": true
   },
   "outputs": [],
   "source": [
    "with open('submission.csv', 'w') as out:\n",
    "    out.write('PassengerId,Survived\\n')\n",
    "    for passenger, prediction in zip(test['PassengerId'], results):\n",
    "        out.write('%s,%s\\n' % (passenger, prediction))"
   ]
  },
  {
   "cell_type": "code",
   "execution_count": 69,
   "metadata": {},
   "outputs": [
    {
     "data": {
      "text/plain": [
       "{'mean_fit_time': array([ 6.00970308,  5.9301966 ,  6.24703034,  6.11448137,  6.07125449,\n",
       "         6.1429166 ,  6.20658159,  6.26407814,  6.36205252,  6.37208184]),\n",
       " 'mean_score_time': array([ 0.39578708,  0.3959221 ,  0.39052629,  0.45273479,  0.40457431,\n",
       "         0.41155092,  0.41823546,  0.42086871,  0.42578491,  0.4260242 ]),\n",
       " 'mean_test_score': array([ 0.77665544,  0.78226712,  0.80808081,  0.82042649,  0.82154882,\n",
       "         0.82603816,  0.82267116,  0.82154882,  0.81481481,  0.81144781]),\n",
       " 'mean_train_score': array([ 0.78170595,  0.79461279,  0.81986532,  0.83277217,  0.84848485,\n",
       "         0.86139169,  0.88945006,  0.91919192,  0.94163861,  0.95510662]),\n",
       " 'param_max_depth': masked_array(data = [1 2 3 4 5 6 7 8 9 10],\n",
       "              mask = [False False False False False False False False False False],\n",
       "        fill_value = ?),\n",
       " 'params': ({'max_depth': 1},\n",
       "  {'max_depth': 2},\n",
       "  {'max_depth': 3},\n",
       "  {'max_depth': 4},\n",
       "  {'max_depth': 5},\n",
       "  {'max_depth': 6},\n",
       "  {'max_depth': 7},\n",
       "  {'max_depth': 8},\n",
       "  {'max_depth': 9},\n",
       "  {'max_depth': 10}),\n",
       " 'rank_test_score': array([10,  9,  8,  5,  3,  1,  2,  3,  6,  7], dtype=int32),\n",
       " 'split0_test_score': array([ 0.7979798 ,  0.8013468 ,  0.83838384,  0.85185185,  0.84848485,\n",
       "         0.85185185,  0.84848485,  0.85521886,  0.85858586,  0.84175084]),\n",
       " 'split0_train_score': array([ 0.77609428,  0.77777778,  0.80808081,  0.82154882,  0.84343434,\n",
       "         0.85185185,  0.88383838,  0.90909091,  0.92929293,  0.94949495]),\n",
       " 'split1_test_score': array([ 0.77104377,  0.76767677,  0.78787879,  0.7979798 ,  0.8013468 ,\n",
       "         0.81144781,  0.8013468 ,  0.79461279,  0.78114478,  0.78451178]),\n",
       " 'split1_train_score': array([ 0.76936027,  0.79461279,  0.82491582,  0.83670034,  0.85521886,\n",
       "         0.86868687,  0.8989899 ,  0.92929293,  0.94781145,  0.96464646]),\n",
       " 'split2_test_score': array([ 0.76094276,  0.77777778,  0.7979798 ,  0.81144781,  0.81481481,\n",
       "         0.81481481,  0.81818182,  0.81481481,  0.8047138 ,  0.80808081]),\n",
       " 'split2_train_score': array([ 0.7996633 ,  0.81144781,  0.82659933,  0.84006734,  0.84680135,\n",
       "         0.86363636,  0.88552189,  0.91919192,  0.94781145,  0.95117845]),\n",
       " 'std_fit_time': array([ 0.12551631,  0.01169757,  0.29337023,  0.03352555,  0.03810509,\n",
       "         0.0331006 ,  0.02147047,  0.00553389,  0.02833844,  0.00501391]),\n",
       " 'std_score_time': array([ 0.00901217,  0.01173139,  0.00241343,  0.08273311,  0.00106588,\n",
       "         0.00149627,  0.00126198,  0.00184794,  0.00175082,  0.0012819 ]),\n",
       " 'std_test_score': array([ 0.01563231,  0.01410753,  0.02182068,  0.02289122,  0.01982438,\n",
       "         0.01830472,  0.01950409,  0.02519635,  0.03241196,  0.02348872]),\n",
       " 'std_train_score': array([ 0.01299196,  0.01374573,  0.0083612 ,  0.00805426,  0.00495609,\n",
       "         0.00705376,  0.00678061,  0.00824744,  0.00872971,  0.00678061])}"
      ]
     },
     "execution_count": 69,
     "metadata": {},
     "output_type": "execute_result"
    }
   ],
   "source": [
    "param_grid = [\n",
    "  {'max_depth': [1,2,3,4,5,6,7,8,9,10]} ]\n",
    "\n",
    "grid_forest = GridSearchCV(RandomForestClassifier(n_estimators=1000), param_grid, \n",
    "                    scoring='accuracy',\n",
    "                    cv=kfold)\n",
    "\n",
    "forest_grid_search = grid_forest.fit(X_cut, y)\n",
    "\n",
    "forest_grid_search.cv_results_"
   ]
  },
  {
   "cell_type": "code",
   "execution_count": 68,
   "metadata": {},
   "outputs": [
    {
     "data": {
      "text/plain": [
       "([<matplotlib.axis.YTick at 0x7f11d409d5f8>,\n",
       "  <matplotlib.axis.YTick at 0x7f11d409d940>,\n",
       "  <matplotlib.axis.YTick at 0x7f11d409d0b8>,\n",
       "  <matplotlib.axis.YTick at 0x7f11d406c780>,\n",
       "  <matplotlib.axis.YTick at 0x7f11d4073198>,\n",
       "  <matplotlib.axis.YTick at 0x7f11d4073b70>,\n",
       "  <matplotlib.axis.YTick at 0x7f11cfb90588>,\n",
       "  <matplotlib.axis.YTick at 0x7f11cfb90f60>,\n",
       "  <matplotlib.axis.YTick at 0x7f11cfb96978>,\n",
       "  <matplotlib.axis.YTick at 0x7f11cfb9e390>,\n",
       "  <matplotlib.axis.YTick at 0x7f11cfb9ed68>,\n",
       "  <matplotlib.axis.YTick at 0x7f11cfba2780>,\n",
       "  <matplotlib.axis.YTick at 0x7f11cfba8198>,\n",
       "  <matplotlib.axis.YTick at 0x7f11cfba8b70>,\n",
       "  <matplotlib.axis.YTick at 0x7f11cfbb0588>,\n",
       "  <matplotlib.axis.YTick at 0x7f11cfbb0f60>,\n",
       "  <matplotlib.axis.YTick at 0x7f11cfbb6978>,\n",
       "  <matplotlib.axis.YTick at 0x7f11cfbbd390>,\n",
       "  <matplotlib.axis.YTick at 0x7f11cfbbdd68>,\n",
       "  <matplotlib.axis.YTick at 0x7f11cfbc3780>,\n",
       "  <matplotlib.axis.YTick at 0x7f11cfbc8198>,\n",
       "  <matplotlib.axis.YTick at 0x7f11cfbc8b70>,\n",
       "  <matplotlib.axis.YTick at 0x7f11cfb51588>],\n",
       " <a list of 23 Text yticklabel objects>)"
      ]
     },
     "execution_count": 68,
     "metadata": {},
     "output_type": "execute_result"
    },
    {
     "data": {
      "image/png": "[encoded data removed]",
      "text/plain": [
       "<matplotlib.figure.Figure at 0x7f11d4083048>"
      ]
     },
     "metadata": {},
     "output_type": "display_data"
    }
   ],
   "source": [
    "plt.barh(np.arange(len(frst_clf.feature_importances_)), frst_clf.feature_importances_)\n",
    "plt.yticks(np.arange(len(X_cut.columns)),X_cut.columns)"
   ]
  },
  {
   "cell_type": "code",
   "execution_count": null,
   "metadata": {
    "collapsed": true
   },
   "outputs": [],
   "source": []
  }
 ],
 "metadata": {
  "kernelspec": {
   "display_name": "Python 3",
   "language": "python",
   "name": "python3"
  },
  "language_info": {
   "codemirror_mode": {
    "name": "ipython",
    "version": 3
   },
   "file_extension": ".py",
   "mimetype": "text/x-python",
   "name": "python",
   "nbconvert_exporter": "python",
   "pygments_lexer": "ipython3",
   "version": "3.6.1"
  }
 },
 "nbformat": 4,
 "nbformat_minor": 2
}
