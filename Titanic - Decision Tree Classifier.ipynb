{
 "cells": [
  {
   "cell_type": "markdown",
   "metadata": {},
   "source": [
    "# Titanic: Machine Learning from Disaster"
   ]
  },
  {
   "cell_type": "markdown",
   "metadata": {
    "collapsed": true
   },
   "source": [
    " <https://www.kaggle.com/c/titanic>"
   ]
  },
  {
   "cell_type": "code",
   "execution_count": 2,
   "metadata": {
    "collapsed": true
   },
   "outputs": [],
   "source": [
    "import sklearn\n",
    "import pandas as pd\n",
    "import numpy as np"
   ]
  },
  {
   "cell_type": "code",
   "execution_count": 3,
   "metadata": {
    "collapsed": true
   },
   "outputs": [],
   "source": [
    "% matplotlib inline"
   ]
  },
  {
   "cell_type": "code",
   "execution_count": 4,
   "metadata": {
    "collapsed": true
   },
   "outputs": [],
   "source": [
    "from matplotlib import pyplot as plt"
   ]
  },
  {
   "cell_type": "code",
   "execution_count": 5,
   "metadata": {
    "collapsed": true
   },
   "outputs": [],
   "source": [
    "train = pd.read_csv('./titanic/train.csv')\n",
    "test = pd.read_csv('./titanic/test.csv')"
   ]
  },
  {
   "cell_type": "code",
   "execution_count": 6,
   "metadata": {},
   "outputs": [
    {
     "data": {
      "text/html": [
       "<div>\n",
       "<style>\n",
       "    .dataframe thead tr:only-child th {\n",
       "        text-align: right;\n",
       "    }\n",
       "\n",
       "    .dataframe thead th {\n",
       "        text-align: left;\n",
       "    }\n",
       "\n",
       "    .dataframe tbody tr th {\n",
       "        vertical-align: top;\n",
       "    }\n",
       "</style>\n",
       "<table border=\"1\" class=\"dataframe\">\n",
       "  <thead>\n",
       "    <tr style=\"text-align: right;\">\n",
       "      <th></th>\n",
       "      <th>PassengerId</th>\n",
       "      <th>Survived</th>\n",
       "      <th>Pclass</th>\n",
       "      <th>Name</th>\n",
       "      <th>Sex</th>\n",
       "      <th>Age</th>\n",
       "      <th>SibSp</th>\n",
       "      <th>Parch</th>\n",
       "      <th>Ticket</th>\n",
       "      <th>Fare</th>\n",
       "      <th>Cabin</th>\n",
       "      <th>Embarked</th>\n",
       "    </tr>\n",
       "  </thead>\n",
       "  <tbody>\n",
       "    <tr>\n",
       "      <th>0</th>\n",
       "      <td>1</td>\n",
       "      <td>0</td>\n",
       "      <td>3</td>\n",
       "      <td>Braund, Mr. Owen Harris</td>\n",
       "      <td>male</td>\n",
       "      <td>22.0</td>\n",
       "      <td>1</td>\n",
       "      <td>0</td>\n",
       "      <td>A/5 21171</td>\n",
       "      <td>7.2500</td>\n",
       "      <td>NaN</td>\n",
       "      <td>S</td>\n",
       "    </tr>\n",
       "    <tr>\n",
       "      <th>1</th>\n",
       "      <td>2</td>\n",
       "      <td>1</td>\n",
       "      <td>1</td>\n",
       "      <td>Cumings, Mrs. John Bradley (Florence Briggs Th...</td>\n",
       "      <td>female</td>\n",
       "      <td>38.0</td>\n",
       "      <td>1</td>\n",
       "      <td>0</td>\n",
       "      <td>PC 17599</td>\n",
       "      <td>71.2833</td>\n",
       "      <td>C85</td>\n",
       "      <td>C</td>\n",
       "    </tr>\n",
       "    <tr>\n",
       "      <th>2</th>\n",
       "      <td>3</td>\n",
       "      <td>1</td>\n",
       "      <td>3</td>\n",
       "      <td>Heikkinen, Miss. Laina</td>\n",
       "      <td>female</td>\n",
       "      <td>26.0</td>\n",
       "      <td>0</td>\n",
       "      <td>0</td>\n",
       "      <td>STON/O2. 3101282</td>\n",
       "      <td>7.9250</td>\n",
       "      <td>NaN</td>\n",
       "      <td>S</td>\n",
       "    </tr>\n",
       "    <tr>\n",
       "      <th>3</th>\n",
       "      <td>4</td>\n",
       "      <td>1</td>\n",
       "      <td>1</td>\n",
       "      <td>Futrelle, Mrs. Jacques Heath (Lily May Peel)</td>\n",
       "      <td>female</td>\n",
       "      <td>35.0</td>\n",
       "      <td>1</td>\n",
       "      <td>0</td>\n",
       "      <td>113803</td>\n",
       "      <td>53.1000</td>\n",
       "      <td>C123</td>\n",
       "      <td>S</td>\n",
       "    </tr>\n",
       "    <tr>\n",
       "      <th>4</th>\n",
       "      <td>5</td>\n",
       "      <td>0</td>\n",
       "      <td>3</td>\n",
       "      <td>Allen, Mr. William Henry</td>\n",
       "      <td>male</td>\n",
       "      <td>35.0</td>\n",
       "      <td>0</td>\n",
       "      <td>0</td>\n",
       "      <td>373450</td>\n",
       "      <td>8.0500</td>\n",
       "      <td>NaN</td>\n",
       "      <td>S</td>\n",
       "    </tr>\n",
       "  </tbody>\n",
       "</table>\n",
       "</div>"
      ],
      "text/plain": [
       "   PassengerId  Survived  Pclass  \\\n",
       "0            1         0       3   \n",
       "1            2         1       1   \n",
       "2            3         1       3   \n",
       "3            4         1       1   \n",
       "4            5         0       3   \n",
       "\n",
       "                                                Name     Sex   Age  SibSp  \\\n",
       "0                            Braund, Mr. Owen Harris    male  22.0      1   \n",
       "1  Cumings, Mrs. John Bradley (Florence Briggs Th...  female  38.0      1   \n",
       "2                             Heikkinen, Miss. Laina  female  26.0      0   \n",
       "3       Futrelle, Mrs. Jacques Heath (Lily May Peel)  female  35.0      1   \n",
       "4                           Allen, Mr. William Henry    male  35.0      0   \n",
       "\n",
       "   Parch            Ticket     Fare Cabin Embarked  \n",
       "0      0         A/5 21171   7.2500   NaN        S  \n",
       "1      0          PC 17599  71.2833   C85        C  \n",
       "2      0  STON/O2. 3101282   7.9250   NaN        S  \n",
       "3      0            113803  53.1000  C123        S  \n",
       "4      0            373450   8.0500   NaN        S  "
      ]
     },
     "execution_count": 6,
     "metadata": {},
     "output_type": "execute_result"
    }
   ],
   "source": [
    "train.head()"
   ]
  },
  {
   "cell_type": "code",
   "execution_count": 7,
   "metadata": {
    "scrolled": true
   },
   "outputs": [
    {
     "data": {
      "text/html": [
       "<div>\n",
       "<style>\n",
       "    .dataframe thead tr:only-child th {\n",
       "        text-align: right;\n",
       "    }\n",
       "\n",
       "    .dataframe thead th {\n",
       "        text-align: left;\n",
       "    }\n",
       "\n",
       "    .dataframe tbody tr th {\n",
       "        vertical-align: top;\n",
       "    }\n",
       "</style>\n",
       "<table border=\"1\" class=\"dataframe\">\n",
       "  <thead>\n",
       "    <tr style=\"text-align: right;\">\n",
       "      <th></th>\n",
       "      <th>PassengerId</th>\n",
       "      <th>Pclass</th>\n",
       "      <th>Name</th>\n",
       "      <th>Sex</th>\n",
       "      <th>Age</th>\n",
       "      <th>SibSp</th>\n",
       "      <th>Parch</th>\n",
       "      <th>Ticket</th>\n",
       "      <th>Fare</th>\n",
       "      <th>Cabin</th>\n",
       "      <th>Embarked</th>\n",
       "    </tr>\n",
       "  </thead>\n",
       "  <tbody>\n",
       "    <tr>\n",
       "      <th>0</th>\n",
       "      <td>892</td>\n",
       "      <td>3</td>\n",
       "      <td>Kelly, Mr. James</td>\n",
       "      <td>male</td>\n",
       "      <td>34.5</td>\n",
       "      <td>0</td>\n",
       "      <td>0</td>\n",
       "      <td>330911</td>\n",
       "      <td>7.8292</td>\n",
       "      <td>NaN</td>\n",
       "      <td>Q</td>\n",
       "    </tr>\n",
       "    <tr>\n",
       "      <th>1</th>\n",
       "      <td>893</td>\n",
       "      <td>3</td>\n",
       "      <td>Wilkes, Mrs. James (Ellen Needs)</td>\n",
       "      <td>female</td>\n",
       "      <td>47.0</td>\n",
       "      <td>1</td>\n",
       "      <td>0</td>\n",
       "      <td>363272</td>\n",
       "      <td>7.0000</td>\n",
       "      <td>NaN</td>\n",
       "      <td>S</td>\n",
       "    </tr>\n",
       "    <tr>\n",
       "      <th>2</th>\n",
       "      <td>894</td>\n",
       "      <td>2</td>\n",
       "      <td>Myles, Mr. Thomas Francis</td>\n",
       "      <td>male</td>\n",
       "      <td>62.0</td>\n",
       "      <td>0</td>\n",
       "      <td>0</td>\n",
       "      <td>240276</td>\n",
       "      <td>9.6875</td>\n",
       "      <td>NaN</td>\n",
       "      <td>Q</td>\n",
       "    </tr>\n",
       "    <tr>\n",
       "      <th>3</th>\n",
       "      <td>895</td>\n",
       "      <td>3</td>\n",
       "      <td>Wirz, Mr. Albert</td>\n",
       "      <td>male</td>\n",
       "      <td>27.0</td>\n",
       "      <td>0</td>\n",
       "      <td>0</td>\n",
       "      <td>315154</td>\n",
       "      <td>8.6625</td>\n",
       "      <td>NaN</td>\n",
       "      <td>S</td>\n",
       "    </tr>\n",
       "    <tr>\n",
       "      <th>4</th>\n",
       "      <td>896</td>\n",
       "      <td>3</td>\n",
       "      <td>Hirvonen, Mrs. Alexander (Helga E Lindqvist)</td>\n",
       "      <td>female</td>\n",
       "      <td>22.0</td>\n",
       "      <td>1</td>\n",
       "      <td>1</td>\n",
       "      <td>3101298</td>\n",
       "      <td>12.2875</td>\n",
       "      <td>NaN</td>\n",
       "      <td>S</td>\n",
       "    </tr>\n",
       "  </tbody>\n",
       "</table>\n",
       "</div>"
      ],
      "text/plain": [
       "   PassengerId  Pclass                                          Name     Sex  \\\n",
       "0          892       3                              Kelly, Mr. James    male   \n",
       "1          893       3              Wilkes, Mrs. James (Ellen Needs)  female   \n",
       "2          894       2                     Myles, Mr. Thomas Francis    male   \n",
       "3          895       3                              Wirz, Mr. Albert    male   \n",
       "4          896       3  Hirvonen, Mrs. Alexander (Helga E Lindqvist)  female   \n",
       "\n",
       "    Age  SibSp  Parch   Ticket     Fare Cabin Embarked  \n",
       "0  34.5      0      0   330911   7.8292   NaN        Q  \n",
       "1  47.0      1      0   363272   7.0000   NaN        S  \n",
       "2  62.0      0      0   240276   9.6875   NaN        Q  \n",
       "3  27.0      0      0   315154   8.6625   NaN        S  \n",
       "4  22.0      1      1  3101298  12.2875   NaN        S  "
      ]
     },
     "execution_count": 7,
     "metadata": {},
     "output_type": "execute_result"
    }
   ],
   "source": [
    "test.head()"
   ]
  },
  {
   "cell_type": "code",
   "execution_count": 8,
   "metadata": {
    "collapsed": true
   },
   "outputs": [],
   "source": [
    "Xtrain = train.drop(['PassengerId', 'Survived', 'Cabin', 'Ticket'], axis=1)\n",
    "Xtest = test.drop(['PassengerId', 'Cabin', 'Ticket'], axis=1)\n",
    "Xtrain['is_test'] = False\n",
    "Xtest['is_test'] = True\n",
    "X = pd.concat([Xtrain, Xtest], axis=0)\n",
    "X.index = range(len(X))\n",
    "X.columns = X.columns.str.lower()"
   ]
  },
  {
   "cell_type": "code",
   "execution_count": 9,
   "metadata": {
    "scrolled": true
   },
   "outputs": [
    {
     "data": {
      "text/plain": [
       "pclass        0\n",
       "name          0\n",
       "sex           0\n",
       "age         263\n",
       "sibsp         0\n",
       "parch         0\n",
       "fare          1\n",
       "embarked      2\n",
       "is_test       0\n",
       "dtype: int64"
      ]
     },
     "execution_count": 9,
     "metadata": {},
     "output_type": "execute_result"
    }
   ],
   "source": [
    "X.isnull().sum()"
   ]
  },
  {
   "cell_type": "markdown",
   "metadata": {},
   "source": [
    "# Работаем с данными"
   ]
  },
  {
   "cell_type": "code",
   "execution_count": 10,
   "metadata": {
    "collapsed": true
   },
   "outputs": [],
   "source": [
    "X = pd.get_dummies(X, columns=['sex', 'pclass', 'embarked'])"
   ]
  },
  {
   "cell_type": "code",
   "execution_count": 11,
   "metadata": {
    "scrolled": false
   },
   "outputs": [
    {
     "data": {
      "text/html": [
       "<div>\n",
       "<style>\n",
       "    .dataframe thead tr:only-child th {\n",
       "        text-align: right;\n",
       "    }\n",
       "\n",
       "    .dataframe thead th {\n",
       "        text-align: left;\n",
       "    }\n",
       "\n",
       "    .dataframe tbody tr th {\n",
       "        vertical-align: top;\n",
       "    }\n",
       "</style>\n",
       "<table border=\"1\" class=\"dataframe\">\n",
       "  <thead>\n",
       "    <tr style=\"text-align: right;\">\n",
       "      <th></th>\n",
       "      <th>name</th>\n",
       "      <th>age</th>\n",
       "      <th>sibsp</th>\n",
       "      <th>parch</th>\n",
       "      <th>fare</th>\n",
       "      <th>is_test</th>\n",
       "      <th>sex_female</th>\n",
       "      <th>sex_male</th>\n",
       "      <th>pclass_1</th>\n",
       "      <th>pclass_2</th>\n",
       "      <th>pclass_3</th>\n",
       "      <th>embarked_C</th>\n",
       "      <th>embarked_Q</th>\n",
       "      <th>embarked_S</th>\n",
       "    </tr>\n",
       "  </thead>\n",
       "  <tbody>\n",
       "    <tr>\n",
       "      <th>0</th>\n",
       "      <td>Braund, Mr. Owen Harris</td>\n",
       "      <td>22.0</td>\n",
       "      <td>1</td>\n",
       "      <td>0</td>\n",
       "      <td>7.2500</td>\n",
       "      <td>False</td>\n",
       "      <td>0</td>\n",
       "      <td>1</td>\n",
       "      <td>0</td>\n",
       "      <td>0</td>\n",
       "      <td>1</td>\n",
       "      <td>0</td>\n",
       "      <td>0</td>\n",
       "      <td>1</td>\n",
       "    </tr>\n",
       "    <tr>\n",
       "      <th>1</th>\n",
       "      <td>Cumings, Mrs. John Bradley (Florence Briggs Th...</td>\n",
       "      <td>38.0</td>\n",
       "      <td>1</td>\n",
       "      <td>0</td>\n",
       "      <td>71.2833</td>\n",
       "      <td>False</td>\n",
       "      <td>1</td>\n",
       "      <td>0</td>\n",
       "      <td>1</td>\n",
       "      <td>0</td>\n",
       "      <td>0</td>\n",
       "      <td>1</td>\n",
       "      <td>0</td>\n",
       "      <td>0</td>\n",
       "    </tr>\n",
       "    <tr>\n",
       "      <th>2</th>\n",
       "      <td>Heikkinen, Miss. Laina</td>\n",
       "      <td>26.0</td>\n",
       "      <td>0</td>\n",
       "      <td>0</td>\n",
       "      <td>7.9250</td>\n",
       "      <td>False</td>\n",
       "      <td>1</td>\n",
       "      <td>0</td>\n",
       "      <td>0</td>\n",
       "      <td>0</td>\n",
       "      <td>1</td>\n",
       "      <td>0</td>\n",
       "      <td>0</td>\n",
       "      <td>1</td>\n",
       "    </tr>\n",
       "    <tr>\n",
       "      <th>3</th>\n",
       "      <td>Futrelle, Mrs. Jacques Heath (Lily May Peel)</td>\n",
       "      <td>35.0</td>\n",
       "      <td>1</td>\n",
       "      <td>0</td>\n",
       "      <td>53.1000</td>\n",
       "      <td>False</td>\n",
       "      <td>1</td>\n",
       "      <td>0</td>\n",
       "      <td>1</td>\n",
       "      <td>0</td>\n",
       "      <td>0</td>\n",
       "      <td>0</td>\n",
       "      <td>0</td>\n",
       "      <td>1</td>\n",
       "    </tr>\n",
       "    <tr>\n",
       "      <th>4</th>\n",
       "      <td>Allen, Mr. William Henry</td>\n",
       "      <td>35.0</td>\n",
       "      <td>0</td>\n",
       "      <td>0</td>\n",
       "      <td>8.0500</td>\n",
       "      <td>False</td>\n",
       "      <td>0</td>\n",
       "      <td>1</td>\n",
       "      <td>0</td>\n",
       "      <td>0</td>\n",
       "      <td>1</td>\n",
       "      <td>0</td>\n",
       "      <td>0</td>\n",
       "      <td>1</td>\n",
       "    </tr>\n",
       "  </tbody>\n",
       "</table>\n",
       "</div>"
      ],
      "text/plain": [
       "                                                name   age  sibsp  parch  \\\n",
       "0                            Braund, Mr. Owen Harris  22.0      1      0   \n",
       "1  Cumings, Mrs. John Bradley (Florence Briggs Th...  38.0      1      0   \n",
       "2                             Heikkinen, Miss. Laina  26.0      0      0   \n",
       "3       Futrelle, Mrs. Jacques Heath (Lily May Peel)  35.0      1      0   \n",
       "4                           Allen, Mr. William Henry  35.0      0      0   \n",
       "\n",
       "      fare  is_test  sex_female  sex_male  pclass_1  pclass_2  pclass_3  \\\n",
       "0   7.2500    False           0         1         0         0         1   \n",
       "1  71.2833    False           1         0         1         0         0   \n",
       "2   7.9250    False           1         0         0         0         1   \n",
       "3  53.1000    False           1         0         1         0         0   \n",
       "4   8.0500    False           0         1         0         0         1   \n",
       "\n",
       "   embarked_C  embarked_Q  embarked_S  \n",
       "0           0           0           1  \n",
       "1           1           0           0  \n",
       "2           0           0           1  \n",
       "3           0           0           1  \n",
       "4           0           0           1  "
      ]
     },
     "execution_count": 11,
     "metadata": {},
     "output_type": "execute_result"
    }
   ],
   "source": [
    "X.head()"
   ]
  },
  {
   "cell_type": "code",
   "execution_count": 12,
   "metadata": {
    "collapsed": true
   },
   "outputs": [],
   "source": [
    "X['family']=X['sibsp']+X['parch']"
   ]
  },
  {
   "cell_type": "code",
   "execution_count": 13,
   "metadata": {
    "collapsed": true
   },
   "outputs": [],
   "source": [
    "X['alone']=np.where (X['family']==0,1,0)"
   ]
  },
  {
   "cell_type": "code",
   "execution_count": 14,
   "metadata": {},
   "outputs": [
    {
     "data": {
      "text/plain": [
       "0     790\n",
       "1     235\n",
       "2     159\n",
       "3      43\n",
       "5      25\n",
       "4      22\n",
       "6      16\n",
       "10     11\n",
       "7       8\n",
       "Name: family, dtype: int64"
      ]
     },
     "execution_count": 14,
     "metadata": {},
     "output_type": "execute_result"
    }
   ],
   "source": [
    "X.family.value_counts()"
   ]
  },
  {
   "cell_type": "code",
   "execution_count": 15,
   "metadata": {
    "collapsed": true
   },
   "outputs": [],
   "source": [
    "X['kid']=np.where (X['age']<16,1,0)"
   ]
  },
  {
   "cell_type": "code",
   "execution_count": 16,
   "metadata": {
    "collapsed": true
   },
   "outputs": [],
   "source": [
    "X['with_sibling_spouse']=np.where(X['sibsp']>0,1,0)\n",
    "X['with_parent_or_child']=np.where(X['parch']>0,1,0)"
   ]
  },
  {
   "cell_type": "code",
   "execution_count": 17,
   "metadata": {
    "collapsed": true
   },
   "outputs": [],
   "source": [
    "X['female_with_spouse']=X['sex_female']*X['with_sibling_spouse']\n",
    "X['male_with_spouse']=X['sex_male']*X['with_sibling_spouse']"
   ]
  },
  {
   "cell_type": "code",
   "execution_count": 18,
   "metadata": {
    "collapsed": true
   },
   "outputs": [],
   "source": [
    "X['female_class1']=X['sex_female']*X['pclass_1']\n",
    "X['female_class2']=X['sex_female']*X['pclass_2']\n",
    "X['female_class3']=X['sex_female']*X['pclass_3']\n",
    "\n",
    "X['male_class1']=X['sex_male']*X['pclass_1']\n",
    "X['male_class2']=X['sex_male']*X['pclass_2']\n",
    "X['male_class3']=X['sex_male']*X['pclass_3']"
   ]
  },
  {
   "cell_type": "code",
   "execution_count": 19,
   "metadata": {
    "collapsed": true
   },
   "outputs": [],
   "source": [
    "X['big_family']=np.where(X['family']>3,1,0)"
   ]
  },
  {
   "cell_type": "code",
   "execution_count": 20,
   "metadata": {
    "collapsed": true
   },
   "outputs": [],
   "source": [
    "X['kid_big_family']=X['kid']*X['big_family']\n",
    "X['female_big_family']=X['sex_female']*X['big_family']\n",
    "X['male_big_family']=X['sex_male']*X['big_family']"
   ]
  },
  {
   "cell_type": "code",
   "execution_count": 21,
   "metadata": {
    "collapsed": true
   },
   "outputs": [],
   "source": [
    "X['kid_with_parents']= X['kid']* X['with_parent_or_child']"
   ]
  },
  {
   "cell_type": "code",
   "execution_count": 22,
   "metadata": {
    "scrolled": true
   },
   "outputs": [
    {
     "data": {
      "text/plain": [
       "Index(['name', 'age', 'sibsp', 'parch', 'fare', 'is_test', 'sex_female',\n",
       "       'sex_male', 'pclass_1', 'pclass_2', 'pclass_3', 'embarked_C',\n",
       "       'embarked_Q', 'embarked_S', 'family', 'alone', 'kid',\n",
       "       'with_sibling_spouse', 'with_parent_or_child', 'female_with_spouse',\n",
       "       'male_with_spouse', 'female_class1', 'female_class2', 'female_class3',\n",
       "       'male_class1', 'male_class2', 'male_class3', 'big_family',\n",
       "       'kid_big_family', 'female_big_family', 'male_big_family',\n",
       "       'kid_with_parents'],\n",
       "      dtype='object')"
      ]
     },
     "execution_count": 22,
     "metadata": {},
     "output_type": "execute_result"
    }
   ],
   "source": [
    "X.columns"
   ]
  },
  {
   "cell_type": "code",
   "execution_count": 23,
   "metadata": {
    "collapsed": true
   },
   "outputs": [],
   "source": [
    "X=X.drop(['name','sibsp', 'parch'], axis=1)\n"
   ]
  },
  {
   "cell_type": "code",
   "execution_count": 24,
   "metadata": {
    "collapsed": true
   },
   "outputs": [],
   "source": [
    "X['age'].fillna(X['age'].mean(), inplace=True)\n",
    "X['fare'].fillna(X['fare'].mean(), inplace=True)"
   ]
  },
  {
   "cell_type": "code",
   "execution_count": 25,
   "metadata": {},
   "outputs": [
    {
     "data": {
      "text/plain": [
       "age                     0\n",
       "fare                    0\n",
       "is_test                 0\n",
       "sex_female              0\n",
       "sex_male                0\n",
       "pclass_1                0\n",
       "pclass_2                0\n",
       "pclass_3                0\n",
       "embarked_C              0\n",
       "embarked_Q              0\n",
       "embarked_S              0\n",
       "family                  0\n",
       "alone                   0\n",
       "kid                     0\n",
       "with_sibling_spouse     0\n",
       "with_parent_or_child    0\n",
       "female_with_spouse      0\n",
       "male_with_spouse        0\n",
       "female_class1           0\n",
       "female_class2           0\n",
       "female_class3           0\n",
       "male_class1             0\n",
       "male_class2             0\n",
       "male_class3             0\n",
       "big_family              0\n",
       "kid_big_family          0\n",
       "female_big_family       0\n",
       "male_big_family         0\n",
       "kid_with_parents        0\n",
       "dtype: int64"
      ]
     },
     "execution_count": 25,
     "metadata": {},
     "output_type": "execute_result"
    }
   ],
   "source": [
    "X.isnull().sum()"
   ]
  },
  {
   "cell_type": "code",
   "execution_count": 26,
   "metadata": {
    "collapsed": true
   },
   "outputs": [],
   "source": [
    "y=train.Survived"
   ]
  },
  {
   "cell_type": "code",
   "execution_count": 27,
   "metadata": {
    "collapsed": true
   },
   "outputs": [],
   "source": [
    "X_cut=X[X['is_test']==0]\n",
    "X_cut=X_cut.drop(['is_test'],axis=1)"
   ]
  },
  {
   "cell_type": "code",
   "execution_count": 28,
   "metadata": {
    "collapsed": true
   },
   "outputs": [],
   "source": [
    "X_test=X[X['is_test']==1]\n",
    "X_test=X_test.drop(['is_test'],axis=1)"
   ]
  },
  {
   "cell_type": "code",
   "execution_count": 29,
   "metadata": {},
   "outputs": [
    {
     "data": {
      "text/plain": [
       "891"
      ]
     },
     "execution_count": 29,
     "metadata": {},
     "output_type": "execute_result"
    }
   ],
   "source": [
    "len(X_cut)"
   ]
  },
  {
   "cell_type": "markdown",
   "metadata": {},
   "source": [
    "# Desicion Tree"
   ]
  },
  {
   "cell_type": "code",
   "execution_count": 30,
   "metadata": {
    "collapsed": true
   },
   "outputs": [],
   "source": [
    "from sklearn.tree import DecisionTreeClassifier\n",
    "clf = DecisionTreeClassifier(max_depth=3)"
   ]
  },
  {
   "cell_type": "code",
   "execution_count": 31,
   "metadata": {
    "scrolled": true
   },
   "outputs": [
    {
     "data": {
      "text/plain": [
       "DecisionTreeClassifier(class_weight=None, criterion='gini', max_depth=3,\n",
       "            max_features=None, max_leaf_nodes=None,\n",
       "            min_impurity_split=1e-07, min_samples_leaf=1,\n",
       "            min_samples_split=2, min_weight_fraction_leaf=0.0,\n",
       "            presort=False, random_state=None, splitter='best')"
      ]
     },
     "execution_count": 31,
     "metadata": {},
     "output_type": "execute_result"
    }
   ],
   "source": [
    "clf.fit(X_cut, y)"
   ]
  },
  {
   "cell_type": "code",
   "execution_count": 32,
   "metadata": {
    "collapsed": true
   },
   "outputs": [],
   "source": [
    "import graphviz"
   ]
  },
  {
   "cell_type": "code",
   "execution_count": 33,
   "metadata": {
    "collapsed": true
   },
   "outputs": [],
   "source": [
    "from sklearn.tree import export_graphviz\n",
    "\n",
    "def get_tree_dot_view(clf, feature_names=None, class_names=None):\n",
    "    print(export_graphviz(clf, out_file=None, filled=True, feature_names=feature_names, class_names=class_names))"
   ]
  },
  {
   "cell_type": "code",
   "execution_count": 34,
   "metadata": {
    "collapsed": true
   },
   "outputs": [],
   "source": [
    "train[\"result_labels\"] =np.where (train[\"Survived\"]==0,\"dead\",\"survived\")"
   ]
  },
  {
   "cell_type": "code",
   "execution_count": 35,
   "metadata": {
    "scrolled": true
   },
   "outputs": [
    {
     "name": "stdout",
     "output_type": "stream",
     "text": [
      "digraph Tree {\n",
      "node [shape=box, style=\"filled\", color=\"black\"] ;\n",
      "0 [label=\"sex_female <= 0.5\\ngini = 0.473\\nsamples = 891\\nvalue = [549, 342]\\nclass = dead\", fillcolor=\"#e5813960\"] ;\n",
      "1 [label=\"age <= 6.5\\ngini = 0.3064\\nsamples = 577\\nvalue = [468, 109]\\nclass = dead\", fillcolor=\"#e58139c4\"] ;\n",
      "0 -> 1 [labeldistance=2.5, labelangle=45, headlabel=\"True\"] ;\n",
      "2 [label=\"male_big_family <= 0.5\\ngini = 0.4444\\nsamples = 24\\nvalue = [8, 16]\\nclass = survived\", fillcolor=\"#399de57f\"] ;\n",
      "1 -> 2 ;\n",
      "3 [label=\"gini = 0.0\\nsamples = 15\\nvalue = [0, 15]\\nclass = survived\", fillcolor=\"#399de5ff\"] ;\n",
      "2 -> 3 ;\n",
      "4 [label=\"gini = 0.1975\\nsamples = 9\\nvalue = [8, 1]\\nclass = dead\", fillcolor=\"#e58139df\"] ;\n",
      "2 -> 4 ;\n",
      "5 [label=\"pclass_1 <= 0.5\\ngini = 0.2798\\nsamples = 553\\nvalue = [460, 93]\\nclass = dead\", fillcolor=\"#e58139cb\"] ;\n",
      "1 -> 5 ;\n",
      "6 [label=\"gini = 0.2043\\nsamples = 433\\nvalue = [383, 50]\\nclass = dead\", fillcolor=\"#e58139de\"] ;\n",
      "5 -> 6 ;\n",
      "7 [label=\"gini = 0.4599\\nsamples = 120\\nvalue = [77, 43]\\nclass = dead\", fillcolor=\"#e5813971\"] ;\n",
      "5 -> 7 ;\n",
      "8 [label=\"female_class3 <= 0.5\\ngini = 0.3828\\nsamples = 314\\nvalue = [81, 233]\\nclass = survived\", fillcolor=\"#399de5a6\"] ;\n",
      "0 -> 8 [labeldistance=2.5, labelangle=-45, headlabel=\"False\"] ;\n",
      "9 [label=\"age <= 2.5\\ngini = 0.1003\\nsamples = 170\\nvalue = [9, 161]\\nclass = survived\", fillcolor=\"#399de5f1\"] ;\n",
      "8 -> 9 ;\n",
      "10 [label=\"gini = 0.5\\nsamples = 2\\nvalue = [1, 1]\\nclass = dead\", fillcolor=\"#e5813900\"] ;\n",
      "9 -> 10 ;\n",
      "11 [label=\"gini = 0.0907\\nsamples = 168\\nvalue = [8, 160]\\nclass = survived\", fillcolor=\"#399de5f2\"] ;\n",
      "9 -> 11 ;\n",
      "12 [label=\"big_family <= 0.5\\ngini = 0.5\\nsamples = 144\\nvalue = [72, 72]\\nclass = dead\", fillcolor=\"#e5813900\"] ;\n",
      "8 -> 12 ;\n",
      "13 [label=\"gini = 0.4839\\nsamples = 117\\nvalue = [48, 69]\\nclass = survived\", fillcolor=\"#399de54e\"] ;\n",
      "12 -> 13 ;\n",
      "14 [label=\"gini = 0.1975\\nsamples = 27\\nvalue = [24, 3]\\nclass = dead\", fillcolor=\"#e58139df\"] ;\n",
      "12 -> 14 ;\n",
      "}\n"
     ]
    }
   ],
   "source": [
    "dot_data = get_tree_dot_view(clf, feature_names=list(X_cut.columns), class_names=train[\"result_labels\"])"
   ]
  },
  {
   "cell_type": "markdown",
   "metadata": {},
   "source": [
    "<http://www.webgraphviz.com/>"
   ]
  },
  {
   "cell_type": "code",
   "execution_count": 36,
   "metadata": {},
   "outputs": [
    {
     "name": "stdout",
     "output_type": "stream",
     "text": [
      "Requirement already satisfied: pydotplus in /home/anna/anaconda3/envs/python3/lib/python3.6/site-packages\r\n",
      "Requirement already satisfied: pyparsing>=2.0.1 in /home/anna/anaconda3/envs/python3/lib/python3.6/site-packages (from pydotplus)\r\n"
     ]
    }
   ],
   "source": [
    "!pip install pydotplus"
   ]
  },
  {
   "cell_type": "code",
   "execution_count": 37,
   "metadata": {
    "collapsed": true
   },
   "outputs": [],
   "source": [
    "import pydotplus\n",
    "from IPython.display import Image "
   ]
  },
  {
   "cell_type": "code",
   "execution_count": 38,
   "metadata": {},
   "outputs": [
    {
     "ename": "TypeError",
     "evalue": "object of type 'NoneType' has no len()",
     "output_type": "error",
     "traceback": [
      "\u001b[0;31m---------------------------------------------------------------------------\u001b[0m",
      "\u001b[0;31mTypeError\u001b[0m                                 Traceback (most recent call last)",
      "\u001b[0;32m<ipython-input-38-5afbb77ca152>\u001b[0m in \u001b[0;36m<module>\u001b[0;34m()\u001b[0m\n\u001b[0;32m----> 1\u001b[0;31m \u001b[0mgraph\u001b[0m \u001b[0;34m=\u001b[0m \u001b[0mpydotplus\u001b[0m\u001b[0;34m.\u001b[0m\u001b[0mgraph_from_dot_data\u001b[0m\u001b[0;34m(\u001b[0m\u001b[0mdot_data\u001b[0m\u001b[0;34m)\u001b[0m\u001b[0;34m\u001b[0m\u001b[0m\n\u001b[0m\u001b[1;32m      2\u001b[0m \u001b[0mImage\u001b[0m\u001b[0;34m(\u001b[0m\u001b[0mgraph\u001b[0m\u001b[0;34m.\u001b[0m\u001b[0mcreate_png\u001b[0m\u001b[0;34m(\u001b[0m\u001b[0;34m)\u001b[0m\u001b[0;34m)\u001b[0m\u001b[0;34m\u001b[0m\u001b[0m\n",
      "\u001b[0;32m/home/anna/anaconda3/envs/python3/lib/python3.6/site-packages/pydotplus/graphviz.py\u001b[0m in \u001b[0;36mgraph_from_dot_data\u001b[0;34m(data)\u001b[0m\n\u001b[1;32m    300\u001b[0m     \"\"\"\n\u001b[1;32m    301\u001b[0m \u001b[0;34m\u001b[0m\u001b[0m\n\u001b[0;32m--> 302\u001b[0;31m     \u001b[0;32mreturn\u001b[0m \u001b[0mparser\u001b[0m\u001b[0;34m.\u001b[0m\u001b[0mparse_dot_data\u001b[0m\u001b[0;34m(\u001b[0m\u001b[0mdata\u001b[0m\u001b[0;34m)\u001b[0m\u001b[0;34m\u001b[0m\u001b[0m\n\u001b[0m\u001b[1;32m    303\u001b[0m \u001b[0;34m\u001b[0m\u001b[0m\n\u001b[1;32m    304\u001b[0m \u001b[0;34m\u001b[0m\u001b[0m\n",
      "\u001b[0;32m/home/anna/anaconda3/envs/python3/lib/python3.6/site-packages/pydotplus/parser.py\u001b[0m in \u001b[0;36mparse_dot_data\u001b[0;34m(data)\u001b[0m\n\u001b[1;32m    556\u001b[0m             \u001b[0mgraphparser\u001b[0m\u001b[0;34m.\u001b[0m\u001b[0mparseWithTabs\u001b[0m\u001b[0;34m(\u001b[0m\u001b[0;34m)\u001b[0m\u001b[0;34m\u001b[0m\u001b[0m\n\u001b[1;32m    557\u001b[0m \u001b[0;34m\u001b[0m\u001b[0m\n\u001b[0;32m--> 558\u001b[0;31m         \u001b[0mtokens\u001b[0m \u001b[0;34m=\u001b[0m \u001b[0mgraphparser\u001b[0m\u001b[0;34m.\u001b[0m\u001b[0mparseString\u001b[0m\u001b[0;34m(\u001b[0m\u001b[0mdata\u001b[0m\u001b[0;34m)\u001b[0m\u001b[0;34m\u001b[0m\u001b[0m\n\u001b[0m\u001b[1;32m    559\u001b[0m \u001b[0;34m\u001b[0m\u001b[0m\n\u001b[1;32m    560\u001b[0m         \u001b[0;32mif\u001b[0m \u001b[0mlen\u001b[0m\u001b[0;34m(\u001b[0m\u001b[0mtokens\u001b[0m\u001b[0;34m)\u001b[0m \u001b[0;34m==\u001b[0m \u001b[0;36m1\u001b[0m\u001b[0;34m:\u001b[0m\u001b[0;34m\u001b[0m\u001b[0m\n",
      "\u001b[0;32m/home/anna/anaconda3/envs/python3/lib/python3.6/site-packages/pyparsing.py\u001b[0m in \u001b[0;36mparseString\u001b[0;34m(self, instring, parseAll)\u001b[0m\n\u001b[1;32m   1204\u001b[0m             \u001b[0minstring\u001b[0m \u001b[0;34m=\u001b[0m \u001b[0minstring\u001b[0m\u001b[0;34m.\u001b[0m\u001b[0mexpandtabs\u001b[0m\u001b[0;34m(\u001b[0m\u001b[0;34m)\u001b[0m\u001b[0;34m\u001b[0m\u001b[0m\n\u001b[1;32m   1205\u001b[0m         \u001b[0;32mtry\u001b[0m\u001b[0;34m:\u001b[0m\u001b[0;34m\u001b[0m\u001b[0m\n\u001b[0;32m-> 1206\u001b[0;31m             \u001b[0mloc\u001b[0m\u001b[0;34m,\u001b[0m \u001b[0mtokens\u001b[0m \u001b[0;34m=\u001b[0m \u001b[0mself\u001b[0m\u001b[0;34m.\u001b[0m\u001b[0m_parse\u001b[0m\u001b[0;34m(\u001b[0m \u001b[0minstring\u001b[0m\u001b[0;34m,\u001b[0m \u001b[0;36m0\u001b[0m \u001b[0;34m)\u001b[0m\u001b[0;34m\u001b[0m\u001b[0m\n\u001b[0m\u001b[1;32m   1207\u001b[0m             \u001b[0;32mif\u001b[0m \u001b[0mparseAll\u001b[0m\u001b[0;34m:\u001b[0m\u001b[0;34m\u001b[0m\u001b[0m\n\u001b[1;32m   1208\u001b[0m                 \u001b[0mloc\u001b[0m \u001b[0;34m=\u001b[0m \u001b[0mself\u001b[0m\u001b[0;34m.\u001b[0m\u001b[0mpreParse\u001b[0m\u001b[0;34m(\u001b[0m \u001b[0minstring\u001b[0m\u001b[0;34m,\u001b[0m \u001b[0mloc\u001b[0m \u001b[0;34m)\u001b[0m\u001b[0;34m\u001b[0m\u001b[0m\n",
      "\u001b[0;32m/home/anna/anaconda3/envs/python3/lib/python3.6/site-packages/pyparsing.py\u001b[0m in \u001b[0;36m_parseCache\u001b[0;34m(self, instring, loc, doActions, callPreParse)\u001b[0m\n\u001b[1;32m   1135\u001b[0m         \u001b[0;32melse\u001b[0m\u001b[0;34m:\u001b[0m\u001b[0;34m\u001b[0m\u001b[0m\n\u001b[1;32m   1136\u001b[0m             \u001b[0;32mtry\u001b[0m\u001b[0;34m:\u001b[0m\u001b[0;34m\u001b[0m\u001b[0m\n\u001b[0;32m-> 1137\u001b[0;31m                 \u001b[0mvalue\u001b[0m \u001b[0;34m=\u001b[0m \u001b[0mself\u001b[0m\u001b[0;34m.\u001b[0m\u001b[0m_parseNoCache\u001b[0m\u001b[0;34m(\u001b[0m \u001b[0minstring\u001b[0m\u001b[0;34m,\u001b[0m \u001b[0mloc\u001b[0m\u001b[0;34m,\u001b[0m \u001b[0mdoActions\u001b[0m\u001b[0;34m,\u001b[0m \u001b[0mcallPreParse\u001b[0m \u001b[0;34m)\u001b[0m\u001b[0;34m\u001b[0m\u001b[0m\n\u001b[0m\u001b[1;32m   1138\u001b[0m                 \u001b[0mParserElement\u001b[0m\u001b[0;34m.\u001b[0m\u001b[0m_exprArgCache\u001b[0m\u001b[0;34m[\u001b[0m \u001b[0mlookup\u001b[0m \u001b[0;34m]\u001b[0m \u001b[0;34m=\u001b[0m \u001b[0;34m(\u001b[0m\u001b[0mvalue\u001b[0m\u001b[0;34m[\u001b[0m\u001b[0;36m0\u001b[0m\u001b[0;34m]\u001b[0m\u001b[0;34m,\u001b[0m\u001b[0mvalue\u001b[0m\u001b[0;34m[\u001b[0m\u001b[0;36m1\u001b[0m\u001b[0;34m]\u001b[0m\u001b[0;34m.\u001b[0m\u001b[0mcopy\u001b[0m\u001b[0;34m(\u001b[0m\u001b[0;34m)\u001b[0m\u001b[0;34m)\u001b[0m\u001b[0;34m\u001b[0m\u001b[0m\n\u001b[1;32m   1139\u001b[0m                 \u001b[0;32mreturn\u001b[0m \u001b[0mvalue\u001b[0m\u001b[0;34m\u001b[0m\u001b[0m\n",
      "\u001b[0;32m/home/anna/anaconda3/envs/python3/lib/python3.6/site-packages/pyparsing.py\u001b[0m in \u001b[0;36m_parseNoCache\u001b[0;34m(self, instring, loc, doActions, callPreParse)\u001b[0m\n\u001b[1;32m   1064\u001b[0m         \u001b[0;32melse\u001b[0m\u001b[0;34m:\u001b[0m\u001b[0;34m\u001b[0m\u001b[0m\n\u001b[1;32m   1065\u001b[0m             \u001b[0;32mif\u001b[0m \u001b[0mcallPreParse\u001b[0m \u001b[0;32mand\u001b[0m \u001b[0mself\u001b[0m\u001b[0;34m.\u001b[0m\u001b[0mcallPreparse\u001b[0m\u001b[0;34m:\u001b[0m\u001b[0;34m\u001b[0m\u001b[0m\n\u001b[0;32m-> 1066\u001b[0;31m                 \u001b[0mpreloc\u001b[0m \u001b[0;34m=\u001b[0m \u001b[0mself\u001b[0m\u001b[0;34m.\u001b[0m\u001b[0mpreParse\u001b[0m\u001b[0;34m(\u001b[0m \u001b[0minstring\u001b[0m\u001b[0;34m,\u001b[0m \u001b[0mloc\u001b[0m \u001b[0;34m)\u001b[0m\u001b[0;34m\u001b[0m\u001b[0m\n\u001b[0m\u001b[1;32m   1067\u001b[0m             \u001b[0;32melse\u001b[0m\u001b[0;34m:\u001b[0m\u001b[0;34m\u001b[0m\u001b[0m\n\u001b[1;32m   1068\u001b[0m                 \u001b[0mpreloc\u001b[0m \u001b[0;34m=\u001b[0m \u001b[0mloc\u001b[0m\u001b[0;34m\u001b[0m\u001b[0m\n",
      "\u001b[0;32m/home/anna/anaconda3/envs/python3/lib/python3.6/site-packages/pyparsing.py\u001b[0m in \u001b[0;36mpreParse\u001b[0;34m(self, instring, loc)\u001b[0m\n\u001b[1;32m   1021\u001b[0m     \u001b[0;32mdef\u001b[0m \u001b[0mpreParse\u001b[0m\u001b[0;34m(\u001b[0m \u001b[0mself\u001b[0m\u001b[0;34m,\u001b[0m \u001b[0minstring\u001b[0m\u001b[0;34m,\u001b[0m \u001b[0mloc\u001b[0m \u001b[0;34m)\u001b[0m\u001b[0;34m:\u001b[0m\u001b[0;34m\u001b[0m\u001b[0m\n\u001b[1;32m   1022\u001b[0m         \u001b[0;32mif\u001b[0m \u001b[0mself\u001b[0m\u001b[0;34m.\u001b[0m\u001b[0mignoreExprs\u001b[0m\u001b[0;34m:\u001b[0m\u001b[0;34m\u001b[0m\u001b[0m\n\u001b[0;32m-> 1023\u001b[0;31m             \u001b[0mloc\u001b[0m \u001b[0;34m=\u001b[0m \u001b[0mself\u001b[0m\u001b[0;34m.\u001b[0m\u001b[0m_skipIgnorables\u001b[0m\u001b[0;34m(\u001b[0m \u001b[0minstring\u001b[0m\u001b[0;34m,\u001b[0m \u001b[0mloc\u001b[0m \u001b[0;34m)\u001b[0m\u001b[0;34m\u001b[0m\u001b[0m\n\u001b[0m\u001b[1;32m   1024\u001b[0m \u001b[0;34m\u001b[0m\u001b[0m\n\u001b[1;32m   1025\u001b[0m         \u001b[0;32mif\u001b[0m \u001b[0mself\u001b[0m\u001b[0;34m.\u001b[0m\u001b[0mskipWhitespace\u001b[0m\u001b[0;34m:\u001b[0m\u001b[0;34m\u001b[0m\u001b[0m\n",
      "\u001b[0;32m/home/anna/anaconda3/envs/python3/lib/python3.6/site-packages/pyparsing.py\u001b[0m in \u001b[0;36m_skipIgnorables\u001b[0;34m(self, instring, loc)\u001b[0m\n\u001b[1;32m   1013\u001b[0m                 \u001b[0;32mtry\u001b[0m\u001b[0;34m:\u001b[0m\u001b[0;34m\u001b[0m\u001b[0m\n\u001b[1;32m   1014\u001b[0m                     \u001b[0;32mwhile\u001b[0m \u001b[0;36m1\u001b[0m\u001b[0;34m:\u001b[0m\u001b[0;34m\u001b[0m\u001b[0m\n\u001b[0;32m-> 1015\u001b[0;31m                         \u001b[0mloc\u001b[0m\u001b[0;34m,\u001b[0m\u001b[0mdummy\u001b[0m \u001b[0;34m=\u001b[0m \u001b[0me\u001b[0m\u001b[0;34m.\u001b[0m\u001b[0m_parse\u001b[0m\u001b[0;34m(\u001b[0m \u001b[0minstring\u001b[0m\u001b[0;34m,\u001b[0m \u001b[0mloc\u001b[0m \u001b[0;34m)\u001b[0m\u001b[0;34m\u001b[0m\u001b[0m\n\u001b[0m\u001b[1;32m   1016\u001b[0m                         \u001b[0mexprsFound\u001b[0m \u001b[0;34m=\u001b[0m \u001b[0;32mTrue\u001b[0m\u001b[0;34m\u001b[0m\u001b[0m\n\u001b[1;32m   1017\u001b[0m                 \u001b[0;32mexcept\u001b[0m \u001b[0mParseException\u001b[0m\u001b[0;34m:\u001b[0m\u001b[0;34m\u001b[0m\u001b[0m\n",
      "\u001b[0;32m/home/anna/anaconda3/envs/python3/lib/python3.6/site-packages/pyparsing.py\u001b[0m in \u001b[0;36m_parseCache\u001b[0;34m(self, instring, loc, doActions, callPreParse)\u001b[0m\n\u001b[1;32m   1135\u001b[0m         \u001b[0;32melse\u001b[0m\u001b[0;34m:\u001b[0m\u001b[0;34m\u001b[0m\u001b[0m\n\u001b[1;32m   1136\u001b[0m             \u001b[0;32mtry\u001b[0m\u001b[0;34m:\u001b[0m\u001b[0;34m\u001b[0m\u001b[0m\n\u001b[0;32m-> 1137\u001b[0;31m                 \u001b[0mvalue\u001b[0m \u001b[0;34m=\u001b[0m \u001b[0mself\u001b[0m\u001b[0;34m.\u001b[0m\u001b[0m_parseNoCache\u001b[0m\u001b[0;34m(\u001b[0m \u001b[0minstring\u001b[0m\u001b[0;34m,\u001b[0m \u001b[0mloc\u001b[0m\u001b[0;34m,\u001b[0m \u001b[0mdoActions\u001b[0m\u001b[0;34m,\u001b[0m \u001b[0mcallPreParse\u001b[0m \u001b[0;34m)\u001b[0m\u001b[0;34m\u001b[0m\u001b[0m\n\u001b[0m\u001b[1;32m   1138\u001b[0m                 \u001b[0mParserElement\u001b[0m\u001b[0;34m.\u001b[0m\u001b[0m_exprArgCache\u001b[0m\u001b[0;34m[\u001b[0m \u001b[0mlookup\u001b[0m \u001b[0;34m]\u001b[0m \u001b[0;34m=\u001b[0m \u001b[0;34m(\u001b[0m\u001b[0mvalue\u001b[0m\u001b[0;34m[\u001b[0m\u001b[0;36m0\u001b[0m\u001b[0;34m]\u001b[0m\u001b[0;34m,\u001b[0m\u001b[0mvalue\u001b[0m\u001b[0;34m[\u001b[0m\u001b[0;36m1\u001b[0m\u001b[0;34m]\u001b[0m\u001b[0;34m.\u001b[0m\u001b[0mcopy\u001b[0m\u001b[0;34m(\u001b[0m\u001b[0;34m)\u001b[0m\u001b[0;34m)\u001b[0m\u001b[0;34m\u001b[0m\u001b[0m\n\u001b[1;32m   1139\u001b[0m                 \u001b[0;32mreturn\u001b[0m \u001b[0mvalue\u001b[0m\u001b[0;34m\u001b[0m\u001b[0m\n",
      "\u001b[0;32m/home/anna/anaconda3/envs/python3/lib/python3.6/site-packages/pyparsing.py\u001b[0m in \u001b[0;36m_parseNoCache\u001b[0;34m(self, instring, loc, doActions, callPreParse)\u001b[0m\n\u001b[1;32m   1070\u001b[0m             \u001b[0;32mif\u001b[0m \u001b[0mself\u001b[0m\u001b[0;34m.\u001b[0m\u001b[0mmayIndexError\u001b[0m \u001b[0;32mor\u001b[0m \u001b[0mloc\u001b[0m \u001b[0;34m>=\u001b[0m \u001b[0mlen\u001b[0m\u001b[0;34m(\u001b[0m\u001b[0minstring\u001b[0m\u001b[0;34m)\u001b[0m\u001b[0;34m:\u001b[0m\u001b[0;34m\u001b[0m\u001b[0m\n\u001b[1;32m   1071\u001b[0m                 \u001b[0;32mtry\u001b[0m\u001b[0;34m:\u001b[0m\u001b[0;34m\u001b[0m\u001b[0m\n\u001b[0;32m-> 1072\u001b[0;31m                     \u001b[0mloc\u001b[0m\u001b[0;34m,\u001b[0m\u001b[0mtokens\u001b[0m \u001b[0;34m=\u001b[0m \u001b[0mself\u001b[0m\u001b[0;34m.\u001b[0m\u001b[0mparseImpl\u001b[0m\u001b[0;34m(\u001b[0m \u001b[0minstring\u001b[0m\u001b[0;34m,\u001b[0m \u001b[0mpreloc\u001b[0m\u001b[0;34m,\u001b[0m \u001b[0mdoActions\u001b[0m \u001b[0;34m)\u001b[0m\u001b[0;34m\u001b[0m\u001b[0m\n\u001b[0m\u001b[1;32m   1073\u001b[0m                 \u001b[0;32mexcept\u001b[0m \u001b[0mIndexError\u001b[0m\u001b[0;34m:\u001b[0m\u001b[0;34m\u001b[0m\u001b[0m\n\u001b[1;32m   1074\u001b[0m                     \u001b[0;32mraise\u001b[0m \u001b[0mParseException\u001b[0m\u001b[0;34m(\u001b[0m \u001b[0minstring\u001b[0m\u001b[0;34m,\u001b[0m \u001b[0mlen\u001b[0m\u001b[0;34m(\u001b[0m\u001b[0minstring\u001b[0m\u001b[0;34m)\u001b[0m\u001b[0;34m,\u001b[0m \u001b[0mself\u001b[0m\u001b[0;34m.\u001b[0m\u001b[0merrmsg\u001b[0m\u001b[0;34m,\u001b[0m \u001b[0mself\u001b[0m \u001b[0;34m)\u001b[0m\u001b[0;34m\u001b[0m\u001b[0m\n",
      "\u001b[0;32m/home/anna/anaconda3/envs/python3/lib/python3.6/site-packages/pyparsing.py\u001b[0m in \u001b[0;36mparseImpl\u001b[0;34m(self, instring, loc, doActions)\u001b[0m\n\u001b[1;32m   2799\u001b[0m     \u001b[0;32mdef\u001b[0m \u001b[0mparseImpl\u001b[0m\u001b[0;34m(\u001b[0m \u001b[0mself\u001b[0m\u001b[0;34m,\u001b[0m \u001b[0minstring\u001b[0m\u001b[0;34m,\u001b[0m \u001b[0mloc\u001b[0m\u001b[0;34m,\u001b[0m \u001b[0mdoActions\u001b[0m\u001b[0;34m=\u001b[0m\u001b[0;32mTrue\u001b[0m \u001b[0;34m)\u001b[0m\u001b[0;34m:\u001b[0m\u001b[0;34m\u001b[0m\u001b[0m\n\u001b[1;32m   2800\u001b[0m         \u001b[0;32mif\u001b[0m \u001b[0mself\u001b[0m\u001b[0;34m.\u001b[0m\u001b[0mexpr\u001b[0m \u001b[0;32mis\u001b[0m \u001b[0;32mnot\u001b[0m \u001b[0;32mNone\u001b[0m\u001b[0;34m:\u001b[0m\u001b[0;34m\u001b[0m\u001b[0m\n\u001b[0;32m-> 2801\u001b[0;31m             \u001b[0;32mreturn\u001b[0m \u001b[0mself\u001b[0m\u001b[0;34m.\u001b[0m\u001b[0mexpr\u001b[0m\u001b[0;34m.\u001b[0m\u001b[0m_parse\u001b[0m\u001b[0;34m(\u001b[0m \u001b[0minstring\u001b[0m\u001b[0;34m,\u001b[0m \u001b[0mloc\u001b[0m\u001b[0;34m,\u001b[0m \u001b[0mdoActions\u001b[0m\u001b[0;34m,\u001b[0m \u001b[0mcallPreParse\u001b[0m\u001b[0;34m=\u001b[0m\u001b[0;32mFalse\u001b[0m \u001b[0;34m)\u001b[0m\u001b[0;34m\u001b[0m\u001b[0m\n\u001b[0m\u001b[1;32m   2802\u001b[0m         \u001b[0;32melse\u001b[0m\u001b[0;34m:\u001b[0m\u001b[0;34m\u001b[0m\u001b[0m\n\u001b[1;32m   2803\u001b[0m             \u001b[0;32mraise\u001b[0m \u001b[0mParseException\u001b[0m\u001b[0;34m(\u001b[0m\u001b[0;34m\"\"\u001b[0m\u001b[0;34m,\u001b[0m\u001b[0mloc\u001b[0m\u001b[0;34m,\u001b[0m\u001b[0mself\u001b[0m\u001b[0;34m.\u001b[0m\u001b[0merrmsg\u001b[0m\u001b[0;34m,\u001b[0m\u001b[0mself\u001b[0m\u001b[0;34m)\u001b[0m\u001b[0;34m\u001b[0m\u001b[0m\n",
      "\u001b[0;32m/home/anna/anaconda3/envs/python3/lib/python3.6/site-packages/pyparsing.py\u001b[0m in \u001b[0;36m_parseCache\u001b[0;34m(self, instring, loc, doActions, callPreParse)\u001b[0m\n\u001b[1;32m   1135\u001b[0m         \u001b[0;32melse\u001b[0m\u001b[0;34m:\u001b[0m\u001b[0;34m\u001b[0m\u001b[0m\n\u001b[1;32m   1136\u001b[0m             \u001b[0;32mtry\u001b[0m\u001b[0;34m:\u001b[0m\u001b[0;34m\u001b[0m\u001b[0m\n\u001b[0;32m-> 1137\u001b[0;31m                 \u001b[0mvalue\u001b[0m \u001b[0;34m=\u001b[0m \u001b[0mself\u001b[0m\u001b[0;34m.\u001b[0m\u001b[0m_parseNoCache\u001b[0m\u001b[0;34m(\u001b[0m \u001b[0minstring\u001b[0m\u001b[0;34m,\u001b[0m \u001b[0mloc\u001b[0m\u001b[0;34m,\u001b[0m \u001b[0mdoActions\u001b[0m\u001b[0;34m,\u001b[0m \u001b[0mcallPreParse\u001b[0m \u001b[0;34m)\u001b[0m\u001b[0;34m\u001b[0m\u001b[0m\n\u001b[0m\u001b[1;32m   1138\u001b[0m                 \u001b[0mParserElement\u001b[0m\u001b[0;34m.\u001b[0m\u001b[0m_exprArgCache\u001b[0m\u001b[0;34m[\u001b[0m \u001b[0mlookup\u001b[0m \u001b[0;34m]\u001b[0m \u001b[0;34m=\u001b[0m \u001b[0;34m(\u001b[0m\u001b[0mvalue\u001b[0m\u001b[0;34m[\u001b[0m\u001b[0;36m0\u001b[0m\u001b[0;34m]\u001b[0m\u001b[0;34m,\u001b[0m\u001b[0mvalue\u001b[0m\u001b[0;34m[\u001b[0m\u001b[0;36m1\u001b[0m\u001b[0;34m]\u001b[0m\u001b[0;34m.\u001b[0m\u001b[0mcopy\u001b[0m\u001b[0;34m(\u001b[0m\u001b[0;34m)\u001b[0m\u001b[0;34m)\u001b[0m\u001b[0;34m\u001b[0m\u001b[0m\n\u001b[1;32m   1139\u001b[0m                 \u001b[0;32mreturn\u001b[0m \u001b[0mvalue\u001b[0m\u001b[0;34m\u001b[0m\u001b[0m\n",
      "\u001b[0;32m/home/anna/anaconda3/envs/python3/lib/python3.6/site-packages/pyparsing.py\u001b[0m in \u001b[0;36m_parseNoCache\u001b[0;34m(self, instring, loc, doActions, callPreParse)\u001b[0m\n\u001b[1;32m   1070\u001b[0m             \u001b[0;32mif\u001b[0m \u001b[0mself\u001b[0m\u001b[0;34m.\u001b[0m\u001b[0mmayIndexError\u001b[0m \u001b[0;32mor\u001b[0m \u001b[0mloc\u001b[0m \u001b[0;34m>=\u001b[0m \u001b[0mlen\u001b[0m\u001b[0;34m(\u001b[0m\u001b[0minstring\u001b[0m\u001b[0;34m)\u001b[0m\u001b[0;34m:\u001b[0m\u001b[0;34m\u001b[0m\u001b[0m\n\u001b[1;32m   1071\u001b[0m                 \u001b[0;32mtry\u001b[0m\u001b[0;34m:\u001b[0m\u001b[0;34m\u001b[0m\u001b[0m\n\u001b[0;32m-> 1072\u001b[0;31m                     \u001b[0mloc\u001b[0m\u001b[0;34m,\u001b[0m\u001b[0mtokens\u001b[0m \u001b[0;34m=\u001b[0m \u001b[0mself\u001b[0m\u001b[0;34m.\u001b[0m\u001b[0mparseImpl\u001b[0m\u001b[0;34m(\u001b[0m \u001b[0minstring\u001b[0m\u001b[0;34m,\u001b[0m \u001b[0mpreloc\u001b[0m\u001b[0;34m,\u001b[0m \u001b[0mdoActions\u001b[0m \u001b[0;34m)\u001b[0m\u001b[0;34m\u001b[0m\u001b[0m\n\u001b[0m\u001b[1;32m   1073\u001b[0m                 \u001b[0;32mexcept\u001b[0m \u001b[0mIndexError\u001b[0m\u001b[0;34m:\u001b[0m\u001b[0;34m\u001b[0m\u001b[0m\n\u001b[1;32m   1074\u001b[0m                     \u001b[0;32mraise\u001b[0m \u001b[0mParseException\u001b[0m\u001b[0;34m(\u001b[0m \u001b[0minstring\u001b[0m\u001b[0;34m,\u001b[0m \u001b[0mlen\u001b[0m\u001b[0;34m(\u001b[0m\u001b[0minstring\u001b[0m\u001b[0;34m)\u001b[0m\u001b[0;34m,\u001b[0m \u001b[0mself\u001b[0m\u001b[0;34m.\u001b[0m\u001b[0merrmsg\u001b[0m\u001b[0;34m,\u001b[0m \u001b[0mself\u001b[0m \u001b[0;34m)\u001b[0m\u001b[0;34m\u001b[0m\u001b[0m\n",
      "\u001b[0;32m/home/anna/anaconda3/envs/python3/lib/python3.6/site-packages/pyparsing.py\u001b[0m in \u001b[0;36mparseImpl\u001b[0;34m(self, instring, loc, doActions)\u001b[0m\n\u001b[1;32m   2656\u001b[0m         \u001b[0;32mfor\u001b[0m \u001b[0me\u001b[0m \u001b[0;32min\u001b[0m \u001b[0mself\u001b[0m\u001b[0;34m.\u001b[0m\u001b[0mexprs\u001b[0m\u001b[0;34m:\u001b[0m\u001b[0;34m\u001b[0m\u001b[0m\n\u001b[1;32m   2657\u001b[0m             \u001b[0;32mtry\u001b[0m\u001b[0;34m:\u001b[0m\u001b[0;34m\u001b[0m\u001b[0m\n\u001b[0;32m-> 2658\u001b[0;31m                 \u001b[0mret\u001b[0m \u001b[0;34m=\u001b[0m \u001b[0me\u001b[0m\u001b[0;34m.\u001b[0m\u001b[0m_parse\u001b[0m\u001b[0;34m(\u001b[0m \u001b[0minstring\u001b[0m\u001b[0;34m,\u001b[0m \u001b[0mloc\u001b[0m\u001b[0;34m,\u001b[0m \u001b[0mdoActions\u001b[0m \u001b[0;34m)\u001b[0m\u001b[0;34m\u001b[0m\u001b[0m\n\u001b[0m\u001b[1;32m   2659\u001b[0m                 \u001b[0;32mreturn\u001b[0m \u001b[0mret\u001b[0m\u001b[0;34m\u001b[0m\u001b[0m\n\u001b[1;32m   2660\u001b[0m             \u001b[0;32mexcept\u001b[0m \u001b[0mParseException\u001b[0m \u001b[0;32mas\u001b[0m \u001b[0merr\u001b[0m\u001b[0;34m:\u001b[0m\u001b[0;34m\u001b[0m\u001b[0m\n",
      "\u001b[0;32m/home/anna/anaconda3/envs/python3/lib/python3.6/site-packages/pyparsing.py\u001b[0m in \u001b[0;36m_parseCache\u001b[0;34m(self, instring, loc, doActions, callPreParse)\u001b[0m\n\u001b[1;32m   1135\u001b[0m         \u001b[0;32melse\u001b[0m\u001b[0;34m:\u001b[0m\u001b[0;34m\u001b[0m\u001b[0m\n\u001b[1;32m   1136\u001b[0m             \u001b[0;32mtry\u001b[0m\u001b[0;34m:\u001b[0m\u001b[0;34m\u001b[0m\u001b[0m\n\u001b[0;32m-> 1137\u001b[0;31m                 \u001b[0mvalue\u001b[0m \u001b[0;34m=\u001b[0m \u001b[0mself\u001b[0m\u001b[0;34m.\u001b[0m\u001b[0m_parseNoCache\u001b[0m\u001b[0;34m(\u001b[0m \u001b[0minstring\u001b[0m\u001b[0;34m,\u001b[0m \u001b[0mloc\u001b[0m\u001b[0;34m,\u001b[0m \u001b[0mdoActions\u001b[0m\u001b[0;34m,\u001b[0m \u001b[0mcallPreParse\u001b[0m \u001b[0;34m)\u001b[0m\u001b[0;34m\u001b[0m\u001b[0m\n\u001b[0m\u001b[1;32m   1138\u001b[0m                 \u001b[0mParserElement\u001b[0m\u001b[0;34m.\u001b[0m\u001b[0m_exprArgCache\u001b[0m\u001b[0;34m[\u001b[0m \u001b[0mlookup\u001b[0m \u001b[0;34m]\u001b[0m \u001b[0;34m=\u001b[0m \u001b[0;34m(\u001b[0m\u001b[0mvalue\u001b[0m\u001b[0;34m[\u001b[0m\u001b[0;36m0\u001b[0m\u001b[0;34m]\u001b[0m\u001b[0;34m,\u001b[0m\u001b[0mvalue\u001b[0m\u001b[0;34m[\u001b[0m\u001b[0;36m1\u001b[0m\u001b[0;34m]\u001b[0m\u001b[0;34m.\u001b[0m\u001b[0mcopy\u001b[0m\u001b[0;34m(\u001b[0m\u001b[0;34m)\u001b[0m\u001b[0;34m)\u001b[0m\u001b[0;34m\u001b[0m\u001b[0m\n\u001b[1;32m   1139\u001b[0m                 \u001b[0;32mreturn\u001b[0m \u001b[0mvalue\u001b[0m\u001b[0;34m\u001b[0m\u001b[0m\n",
      "\u001b[0;32m/home/anna/anaconda3/envs/python3/lib/python3.6/site-packages/pyparsing.py\u001b[0m in \u001b[0;36m_parseNoCache\u001b[0;34m(self, instring, loc, doActions, callPreParse)\u001b[0m\n\u001b[1;32m   1064\u001b[0m         \u001b[0;32melse\u001b[0m\u001b[0;34m:\u001b[0m\u001b[0;34m\u001b[0m\u001b[0m\n\u001b[1;32m   1065\u001b[0m             \u001b[0;32mif\u001b[0m \u001b[0mcallPreParse\u001b[0m \u001b[0;32mand\u001b[0m \u001b[0mself\u001b[0m\u001b[0;34m.\u001b[0m\u001b[0mcallPreparse\u001b[0m\u001b[0;34m:\u001b[0m\u001b[0;34m\u001b[0m\u001b[0m\n\u001b[0;32m-> 1066\u001b[0;31m                 \u001b[0mpreloc\u001b[0m \u001b[0;34m=\u001b[0m \u001b[0mself\u001b[0m\u001b[0;34m.\u001b[0m\u001b[0mpreParse\u001b[0m\u001b[0;34m(\u001b[0m \u001b[0minstring\u001b[0m\u001b[0;34m,\u001b[0m \u001b[0mloc\u001b[0m \u001b[0;34m)\u001b[0m\u001b[0;34m\u001b[0m\u001b[0m\n\u001b[0m\u001b[1;32m   1067\u001b[0m             \u001b[0;32melse\u001b[0m\u001b[0;34m:\u001b[0m\u001b[0;34m\u001b[0m\u001b[0m\n\u001b[1;32m   1068\u001b[0m                 \u001b[0mpreloc\u001b[0m \u001b[0;34m=\u001b[0m \u001b[0mloc\u001b[0m\u001b[0;34m\u001b[0m\u001b[0m\n",
      "\u001b[0;32m/home/anna/anaconda3/envs/python3/lib/python3.6/site-packages/pyparsing.py\u001b[0m in \u001b[0;36mpreParse\u001b[0;34m(self, instring, loc)\u001b[0m\n\u001b[1;32m   1025\u001b[0m         \u001b[0;32mif\u001b[0m \u001b[0mself\u001b[0m\u001b[0;34m.\u001b[0m\u001b[0mskipWhitespace\u001b[0m\u001b[0;34m:\u001b[0m\u001b[0;34m\u001b[0m\u001b[0m\n\u001b[1;32m   1026\u001b[0m             \u001b[0mwt\u001b[0m \u001b[0;34m=\u001b[0m \u001b[0mself\u001b[0m\u001b[0;34m.\u001b[0m\u001b[0mwhiteChars\u001b[0m\u001b[0;34m\u001b[0m\u001b[0m\n\u001b[0;32m-> 1027\u001b[0;31m             \u001b[0minstrlen\u001b[0m \u001b[0;34m=\u001b[0m \u001b[0mlen\u001b[0m\u001b[0;34m(\u001b[0m\u001b[0minstring\u001b[0m\u001b[0;34m)\u001b[0m\u001b[0;34m\u001b[0m\u001b[0m\n\u001b[0m\u001b[1;32m   1028\u001b[0m             \u001b[0;32mwhile\u001b[0m \u001b[0mloc\u001b[0m \u001b[0;34m<\u001b[0m \u001b[0minstrlen\u001b[0m \u001b[0;32mand\u001b[0m \u001b[0minstring\u001b[0m\u001b[0;34m[\u001b[0m\u001b[0mloc\u001b[0m\u001b[0;34m]\u001b[0m \u001b[0;32min\u001b[0m \u001b[0mwt\u001b[0m\u001b[0;34m:\u001b[0m\u001b[0;34m\u001b[0m\u001b[0m\n\u001b[1;32m   1029\u001b[0m                 \u001b[0mloc\u001b[0m \u001b[0;34m+=\u001b[0m \u001b[0;36m1\u001b[0m\u001b[0;34m\u001b[0m\u001b[0m\n",
      "\u001b[0;31mTypeError\u001b[0m: object of type 'NoneType' has no len()"
     ]
    }
   ],
   "source": [
    "graph = pydotplus.graph_from_dot_data(dot_data)\n",
    "Image(graph.create_png())"
   ]
  },
  {
   "cell_type": "markdown",
   "metadata": {},
   "source": [
    "## Kross-Validation"
   ]
  },
  {
   "cell_type": "code",
   "execution_count": 44,
   "metadata": {
    "collapsed": true
   },
   "outputs": [],
   "source": [
    "from sklearn.model_selection import KFold\n",
    "from sklearn.model_selection import cross_val_score"
   ]
  },
  {
   "cell_type": "code",
   "execution_count": 46,
   "metadata": {},
   "outputs": [],
   "source": [
    "kfold = KFold(n_splits=10, shuffle=True, random_state=123)\n",
    "\n",
    "scores = cross_val_score(clf,\n",
    "                         X_cut, y, groups=None,\n",
    "                         scoring = 'accuracy',\n",
    "                         cv = kfold)"
   ]
  },
  {
   "cell_type": "code",
   "execution_count": 47,
   "metadata": {
    "scrolled": true
   },
   "outputs": [
    {
     "name": "stdout",
     "output_type": "stream",
     "text": [
      "[ 0.84444444  0.82022472  0.79775281  0.84269663  0.80898876  0.7752809\n",
      "  0.78651685  0.82022472  0.87640449  0.79775281]\n",
      "0.817028714107\n"
     ]
    }
   ],
   "source": [
    "print (scores)\n",
    "print (np.average(scores))"
   ]
  },
  {
   "cell_type": "markdown",
   "metadata": {},
   "source": [
    "# Гиперпараметры"
   ]
  },
  {
   "cell_type": "code",
   "execution_count": 149,
   "metadata": {
    "collapsed": true
   },
   "outputs": [],
   "source": [
    "# GridSearch\n",
    "from sklearn.model_selection import GridSearchCV\n",
    "# \n",
    "#   GridSearchCV(estimator, param_grid, scoring=None, fit_params=None,\n",
    "#                n_jobs=1, iid=True, refit=True, cv=None, verbose=0, \n",
    "#                pre_dispatch='2*n_jobs', error_score='raise', return_train_score=True) "
   ]
  },
  {
   "cell_type": "code",
   "execution_count": 150,
   "metadata": {},
   "outputs": [
    {
     "data": {
      "text/plain": [
       "<bound method BaseEstimator.get_params of DecisionTreeClassifier(class_weight=None, criterion='gini', max_depth=3,\n",
       "            max_features=None, max_leaf_nodes=None,\n",
       "            min_impurity_split=1e-07, min_samples_leaf=1,\n",
       "            min_samples_split=2, min_weight_fraction_leaf=0.0,\n",
       "            presort=False, random_state=None, splitter='best')>"
      ]
     },
     "execution_count": 150,
     "metadata": {},
     "output_type": "execute_result"
    }
   ],
   "source": [
    "clf.get_params"
   ]
  },
  {
   "cell_type": "code",
   "execution_count": 151,
   "metadata": {
    "collapsed": true
   },
   "outputs": [],
   "source": [
    "? DecisionTreeClassifier"
   ]
  },
  {
   "cell_type": "code",
   "execution_count": 152,
   "metadata": {
    "collapsed": true
   },
   "outputs": [],
   "source": [
    "param_grid = [\n",
    "  {'max_depth': [1,3,5,7,9,11], \n",
    "  'criterion' : ['gini', 'entropy'],\n",
    "  'splitter' : ['best', 'random'],\n",
    "  'min_samples_split' : [2,3,4,5,6,7,8,9,10]}]\n",
    "\n",
    "\n",
    "grid_tree = GridSearchCV(DecisionTreeClassifier(random_state=123), param_grid, \n",
    "                    scoring='accuracy',\n",
    "                    cv=kfold)"
   ]
  },
  {
   "cell_type": "code",
   "execution_count": 153,
   "metadata": {
    "collapsed": true
   },
   "outputs": [],
   "source": [
    "tree_grid_search = grid_tree.fit(X_cut, y)"
   ]
  },
  {
   "cell_type": "code",
   "execution_count": 154,
   "metadata": {
    "scrolled": true
   },
   "outputs": [
    {
     "data": {
      "text/plain": [
       "{'criterion': 'gini',\n",
       " 'max_depth': 7,\n",
       " 'min_samples_split': 6,\n",
       " 'splitter': 'best'}"
      ]
     },
     "execution_count": 154,
     "metadata": {},
     "output_type": "execute_result"
    }
   ],
   "source": [
    "tree_grid_search.best_params_"
   ]
  },
  {
   "cell_type": "code",
   "execution_count": 155,
   "metadata": {
    "collapsed": true
   },
   "outputs": [],
   "source": [
    "clf_best = DecisionTreeClassifier(criterion='gini',\n",
    " max_depth= 7,\n",
    " min_samples_split= 6,\n",
    " splitter = 'best',\n",
    "random_state=123)"
   ]
  },
  {
   "cell_type": "code",
   "execution_count": 156,
   "metadata": {},
   "outputs": [
    {
     "data": {
      "text/plain": [
       "DecisionTreeClassifier(class_weight=None, criterion='gini', max_depth=7,\n",
       "            max_features=None, max_leaf_nodes=None,\n",
       "            min_impurity_split=1e-07, min_samples_leaf=1,\n",
       "            min_samples_split=6, min_weight_fraction_leaf=0.0,\n",
       "            presort=False, random_state=123, splitter='best')"
      ]
     },
     "execution_count": 156,
     "metadata": {},
     "output_type": "execute_result"
    }
   ],
   "source": [
    "clf_best.fit(X_cut, y)"
   ]
  },
  {
   "cell_type": "code",
   "execution_count": 157,
   "metadata": {},
   "outputs": [
    {
     "data": {
      "text/plain": [
       "([<matplotlib.axis.YTick at 0x7f7464b41240>,\n",
       "  <matplotlib.axis.YTick at 0x7f7464b54e48>,\n",
       "  <matplotlib.axis.YTick at 0x7f7464a946d8>,\n",
       "  <matplotlib.axis.YTick at 0x7f7464af4cf8>,\n",
       "  <matplotlib.axis.YTick at 0x7f7464b01710>,\n",
       "  <matplotlib.axis.YTick at 0x7f7464b15128>,\n",
       "  <matplotlib.axis.YTick at 0x7f7464b15b00>,\n",
       "  <matplotlib.axis.YTick at 0x7f7464b21518>,\n",
       "  <matplotlib.axis.YTick at 0x7f7464b21ef0>,\n",
       "  <matplotlib.axis.YTick at 0x7f7464b2b908>,\n",
       "  <matplotlib.axis.YTick at 0x7f7464af7320>,\n",
       "  <matplotlib.axis.YTick at 0x7f7464af7cf8>,\n",
       "  <matplotlib.axis.YTick at 0x7f7464aff748>,\n",
       "  <matplotlib.axis.YTick at 0x7f7464a2d128>,\n",
       "  <matplotlib.axis.YTick at 0x7f7464a2db00>,\n",
       "  <matplotlib.axis.YTick at 0x7f7464a3b518>,\n",
       "  <matplotlib.axis.YTick at 0x7f7464a3bef0>,\n",
       "  <matplotlib.axis.YTick at 0x7f7464a38908>,\n",
       "  <matplotlib.axis.YTick at 0x7f7464a4b320>,\n",
       "  <matplotlib.axis.YTick at 0x7f7464a4bcf8>,\n",
       "  <matplotlib.axis.YTick at 0x7f7464a51710>,\n",
       "  <matplotlib.axis.YTick at 0x7f7464a57128>,\n",
       "  <matplotlib.axis.YTick at 0x7f7464a57b00>,\n",
       "  <matplotlib.axis.YTick at 0x7f7464a5c518>,\n",
       "  <matplotlib.axis.YTick at 0x7f7464a5cef0>,\n",
       "  <matplotlib.axis.YTick at 0x7f7464a64908>,\n",
       "  <matplotlib.axis.YTick at 0x7f7464a6b320>,\n",
       "  <matplotlib.axis.YTick at 0x7f7464a6bcf8>],\n",
       " <a list of 28 Text yticklabel objects>)"
      ]
     },
     "execution_count": 157,
     "metadata": {},
     "output_type": "execute_result"
    },
    {
     "data": {
      "image/png": "[encoded data removed]",
      "text/plain": [
       "<matplotlib.figure.Figure at 0x7f7464ad6fd0>"
      ]
     },
     "metadata": {},
     "output_type": "display_data"
    }
   ],
   "source": [
    "plt.barh(np.arange(len(clf_best.feature_importances_)), clf_best.feature_importances_)\n",
    "plt.yticks(np.arange(len(X_cut.columns)),X_cut.columns)"
   ]
  },
  {
   "cell_type": "code",
   "execution_count": 158,
   "metadata": {
    "scrolled": true
   },
   "outputs": [
    {
     "name": "stdout",
     "output_type": "stream",
     "text": [
      "digraph Tree {\n",
      "node [shape=box, style=\"filled\", color=\"black\"] ;\n",
      "0 [label=\"sex_male <= 0.5\\ngini = 0.473\\nsamples = 891\\nvalue = [549, 342]\\nclass = dead\", fillcolor=\"#e5813960\"] ;\n",
      "1 [label=\"pclass_3 <= 0.5\\ngini = 0.3828\\nsamples = 314\\nvalue = [81, 233]\\nclass = survived\", fillcolor=\"#399de5a6\"] ;\n",
      "0 -> 1 [labeldistance=2.5, labelangle=45, headlabel=\"True\"] ;\n",
      "2 [label=\"age <= -2.1262\\ngini = 0.1003\\nsamples = 170\\nvalue = [9, 161]\\nclass = survived\", fillcolor=\"#399de5f1\"] ;\n",
      "1 -> 2 ;\n",
      "3 [label=\"gini = 0.5\\nsamples = 2\\nvalue = [1, 1]\\nclass = dead\", fillcolor=\"#e5813900\"] ;\n",
      "2 -> 3 ;\n",
      "4 [label=\"fare <= -0.0858\\ngini = 0.0907\\nsamples = 168\\nvalue = [8, 160]\\nclass = survived\", fillcolor=\"#399de5f2\"] ;\n",
      "2 -> 4 ;\n",
      "5 [label=\"fare <= -0.0979\\ngini = 0.1823\\nsamples = 69\\nvalue = [7, 62]\\nclass = survived\", fillcolor=\"#399de5e2\"] ;\n",
      "4 -> 5 ;\n",
      "6 [label=\"age <= 2.0281\\ngini = 0.1609\\nsamples = 68\\nvalue = [6, 62]\\nclass = survived\", fillcolor=\"#399de5e6\"] ;\n",
      "5 -> 6 ;\n",
      "7 [label=\"female_with_spouse <= 0.5\\ngini = 0.14\\nsamples = 66\\nvalue = [5, 61]\\nclass = survived\", fillcolor=\"#399de5ea\"] ;\n",
      "6 -> 7 ;\n",
      "8 [label=\"gini = 0.0849\\nsamples = 45\\nvalue = [2, 43]\\nclass = survived\", fillcolor=\"#399de5f3\"] ;\n",
      "7 -> 8 ;\n",
      "9 [label=\"gini = 0.2449\\nsamples = 21\\nvalue = [3, 18]\\nclass = survived\", fillcolor=\"#399de5d4\"] ;\n",
      "7 -> 9 ;\n",
      "10 [label=\"gini = 0.5\\nsamples = 2\\nvalue = [1, 1]\\nclass = dead\", fillcolor=\"#e5813900\"] ;\n",
      "6 -> 10 ;\n",
      "11 [label=\"gini = 0.0\\nsamples = 1\\nvalue = [1, 0]\\nclass = dead\", fillcolor=\"#e58139ff\"] ;\n",
      "5 -> 11 ;\n",
      "12 [label=\"family <= 2.5\\ngini = 0.02\\nsamples = 99\\nvalue = [1, 98]\\nclass = survived\", fillcolor=\"#399de5fc\"] ;\n",
      "4 -> 12 ;\n",
      "13 [label=\"gini = 0.0\\nsamples = 87\\nvalue = [0, 87]\\nclass = survived\", fillcolor=\"#399de5ff\"] ;\n",
      "12 -> 13 ;\n",
      "14 [label=\"age <= -0.4178\\ngini = 0.1528\\nsamples = 12\\nvalue = [1, 11]\\nclass = survived\", fillcolor=\"#399de5e8\"] ;\n",
      "12 -> 14 ;\n",
      "15 [label=\"gini = 0.0\\nsamples = 9\\nvalue = [0, 9]\\nclass = survived\", fillcolor=\"#399de5ff\"] ;\n",
      "14 -> 15 ;\n",
      "16 [label=\"gini = 0.4444\\nsamples = 3\\nvalue = [1, 2]\\nclass = survived\", fillcolor=\"#399de57f\"] ;\n",
      "14 -> 16 ;\n",
      "17 [label=\"fare <= -0.1923\\ngini = 0.5\\nsamples = 144\\nvalue = [72, 72]\\nclass = dead\", fillcolor=\"#e5813900\"] ;\n",
      "1 -> 17 ;\n",
      "18 [label=\"age <= 0.514\\ngini = 0.4839\\nsamples = 117\\nvalue = [48, 69]\\nclass = survived\", fillcolor=\"#399de54e\"] ;\n",
      "17 -> 18 ;\n",
      "19 [label=\"embarked_S <= 0.5\\ngini = 0.4721\\nsamples = 110\\nvalue = [42, 68]\\nclass = survived\", fillcolor=\"#399de561\"] ;\n",
      "18 -> 19 ;\n",
      "20 [label=\"age <= 0.024\\ngini = 0.4058\\nsamples = 53\\nvalue = [15, 38]\\nclass = survived\", fillcolor=\"#399de59a\"] ;\n",
      "19 -> 20 ;\n",
      "21 [label=\"fare <= -0.3465\\ngini = 0.3799\\nsamples = 51\\nvalue = [13, 38]\\nclass = survived\", fillcolor=\"#399de5a8\"] ;\n",
      "20 -> 21 ;\n",
      "22 [label=\"gini = 0.4388\\nsamples = 40\\nvalue = [13, 27]\\nclass = survived\", fillcolor=\"#399de584\"] ;\n",
      "21 -> 22 ;\n",
      "23 [label=\"gini = 0.0\\nsamples = 11\\nvalue = [0, 11]\\nclass = survived\", fillcolor=\"#399de5ff\"] ;\n",
      "21 -> 23 ;\n",
      "24 [label=\"gini = 0.0\\nsamples = 2\\nvalue = [2, 0]\\nclass = dead\", fillcolor=\"#e58139ff\"] ;\n",
      "20 -> 24 ;\n",
      "25 [label=\"fare <= -0.4345\\ngini = 0.4986\\nsamples = 57\\nvalue = [27, 30]\\nclass = survived\", fillcolor=\"#399de519\"] ;\n",
      "19 -> 25 ;\n",
      "26 [label=\"fare <= -0.4937\\ngini = 0.4885\\nsamples = 33\\nvalue = [19, 14]\\nclass = dead\", fillcolor=\"#e5813943\"] ;\n",
      "25 -> 26 ;\n",
      "27 [label=\"gini = 0.2778\\nsamples = 6\\nvalue = [1, 5]\\nclass = survived\", fillcolor=\"#399de5cc\"] ;\n",
      "26 -> 27 ;\n",
      "28 [label=\"gini = 0.4444\\nsamples = 27\\nvalue = [18, 9]\\nclass = dead\", fillcolor=\"#e581397f\"] ;\n",
      "26 -> 28 ;\n",
      "29 [label=\"fare <= -0.3035\\ngini = 0.4444\\nsamples = 24\\nvalue = [8, 16]\\nclass = survived\", fillcolor=\"#399de57f\"] ;\n",
      "25 -> 29 ;\n",
      "30 [label=\"gini = 0.2311\\nsamples = 15\\nvalue = [2, 13]\\nclass = survived\", fillcolor=\"#399de5d8\"] ;\n",
      "29 -> 30 ;\n",
      "31 [label=\"gini = 0.4444\\nsamples = 9\\nvalue = [6, 3]\\nclass = dead\", fillcolor=\"#e581397f\"] ;\n",
      "29 -> 31 ;\n",
      "32 [label=\"age <= 1.9505\\ngini = 0.2449\\nsamples = 7\\nvalue = [6, 1]\\nclass = dead\", fillcolor=\"#e58139d4\"] ;\n",
      "18 -> 32 ;\n",
      "33 [label=\"gini = 0.0\\nsamples = 6\\nvalue = [6, 0]\\nclass = dead\", fillcolor=\"#e58139ff\"] ;\n",
      "32 -> 33 ;\n",
      "34 [label=\"gini = 0.0\\nsamples = 1\\nvalue = [0, 1]\\nclass = survived\", fillcolor=\"#399de5ff\"] ;\n",
      "32 -> 34 ;\n",
      "35 [label=\"family <= 1.5\\ngini = 0.1975\\nsamples = 27\\nvalue = [24, 3]\\nclass = dead\", fillcolor=\"#e58139df\"] ;\n",
      "17 -> 35 ;\n",
      "36 [label=\"gini = 0.0\\nsamples = 1\\nvalue = [0, 1]\\nclass = survived\", fillcolor=\"#399de5ff\"] ;\n",
      "35 -> 36 ;\n",
      "37 [label=\"age <= -1.8932\\ngini = 0.142\\nsamples = 26\\nvalue = [24, 2]\\nclass = dead\", fillcolor=\"#e58139ea\"] ;\n",
      "35 -> 37 ;\n",
      "38 [label=\"gini = 0.4444\\nsamples = 3\\nvalue = [2, 1]\\nclass = dead\", fillcolor=\"#e581397f\"] ;\n",
      "37 -> 38 ;\n",
      "39 [label=\"age <= 0.3198\\ngini = 0.0832\\nsamples = 23\\nvalue = [22, 1]\\nclass = dead\", fillcolor=\"#e58139f3\"] ;\n",
      "37 -> 39 ;\n",
      "40 [label=\"gini = 0.0\\nsamples = 16\\nvalue = [16, 0]\\nclass = dead\", fillcolor=\"#e58139ff\"] ;\n",
      "39 -> 40 ;\n",
      "41 [label=\"age <= 0.6693\\ngini = 0.2449\\nsamples = 7\\nvalue = [6, 1]\\nclass = dead\", fillcolor=\"#e58139d4\"] ;\n",
      "39 -> 41 ;\n",
      "42 [label=\"gini = 0.0\\nsamples = 1\\nvalue = [0, 1]\\nclass = survived\", fillcolor=\"#399de5ff\"] ;\n",
      "41 -> 42 ;\n",
      "43 [label=\"gini = 0.0\\nsamples = 6\\nvalue = [6, 0]\\nclass = dead\", fillcolor=\"#e58139ff\"] ;\n",
      "41 -> 43 ;\n",
      "44 [label=\"age <= -1.8155\\ngini = 0.3064\\nsamples = 577\\nvalue = [468, 109]\\nclass = dead\", fillcolor=\"#e58139c4\"] ;\n",
      "0 -> 44 [labeldistance=2.5, labelangle=-45, headlabel=\"False\"] ;\n",
      "45 [label=\"kid_big_family <= 0.5\\ngini = 0.4444\\nsamples = 24\\nvalue = [8, 16]\\nclass = survived\", fillcolor=\"#399de57f\"] ;\n",
      "44 -> 45 ;\n",
      "46 [label=\"gini = 0.0\\nsamples = 15\\nvalue = [0, 15]\\nclass = survived\", fillcolor=\"#399de5ff\"] ;\n",
      "45 -> 46 ;\n",
      "47 [label=\"family <= 5.5\\ngini = 0.1975\\nsamples = 9\\nvalue = [8, 1]\\nclass = dead\", fillcolor=\"#e58139df\"] ;\n",
      "45 -> 47 ;\n",
      "48 [label=\"gini = 0.0\\nsamples = 6\\nvalue = [6, 0]\\nclass = dead\", fillcolor=\"#e58139ff\"] ;\n",
      "47 -> 48 ;\n",
      "49 [label=\"gini = 0.4444\\nsamples = 3\\nvalue = [2, 1]\\nclass = dead\", fillcolor=\"#e581397f\"] ;\n",
      "47 -> 49 ;\n",
      "50 [label=\"pclass_1 <= 0.5\\ngini = 0.2798\\nsamples = 553\\nvalue = [460, 93]\\nclass = dead\", fillcolor=\"#e58139cb\"] ;\n",
      "44 -> 50 ;\n",
      "51 [label=\"fare <= 0.3558\\ngini = 0.2043\\nsamples = 433\\nvalue = [383, 50]\\nclass = dead\", fillcolor=\"#e58139de\"] ;\n",
      "50 -> 51 ;\n",
      "52 [label=\"age <= -1.3108\\ngini = 0.1925\\nsamples = 417\\nvalue = [372, 45]\\nclass = dead\", fillcolor=\"#e58139e0\"] ;\n",
      "51 -> 52 ;\n",
      "53 [label=\"male_big_family <= 0.5\\ngini = 0.4444\\nsamples = 12\\nvalue = [8, 4]\\nclass = dead\", fillcolor=\"#e581397f\"] ;\n",
      "52 -> 53 ;\n",
      "54 [label=\"gini = 0.32\\nsamples = 5\\nvalue = [1, 4]\\nclass = survived\", fillcolor=\"#399de5bf\"] ;\n",
      "53 -> 54 ;\n",
      "55 [label=\"gini = 0.0\\nsamples = 7\\nvalue = [7, 0]\\nclass = dead\", fillcolor=\"#e58139ff\"] ;\n",
      "53 -> 55 ;\n",
      "56 [label=\"embarked_C <= 0.5\\ngini = 0.182\\nsamples = 405\\nvalue = [364, 41]\\nclass = dead\", fillcolor=\"#e58139e2\"] ;\n",
      "52 -> 56 ;\n",
      "57 [label=\"fare <= -0.3876\\ngini = 0.1636\\nsamples = 356\\nvalue = [324, 32]\\nclass = dead\", fillcolor=\"#e58139e6\"] ;\n",
      "56 -> 57 ;\n",
      "58 [label=\"gini = 0.1884\\nsamples = 285\\nvalue = [255, 30]\\nclass = dead\", fillcolor=\"#e58139e1\"] ;\n",
      "57 -> 58 ;\n",
      "59 [label=\"gini = 0.0548\\nsamples = 71\\nvalue = [69, 2]\\nclass = dead\", fillcolor=\"#e58139f8\"] ;\n",
      "57 -> 59 ;\n",
      "60 [label=\"fare <= -0.3509\\ngini = 0.2999\\nsamples = 49\\nvalue = [40, 9]\\nclass = dead\", fillcolor=\"#e58139c6\"] ;\n",
      "56 -> 60 ;\n",
      "61 [label=\"gini = 0.2235\\nsamples = 39\\nvalue = [34, 5]\\nclass = dead\", fillcolor=\"#e58139da\"] ;\n",
      "60 -> 61 ;\n",
      "62 [label=\"gini = 0.48\\nsamples = 10\\nvalue = [6, 4]\\nclass = dead\", fillcolor=\"#e5813955\"] ;\n",
      "60 -> 62 ;\n",
      "63 [label=\"fare <= 0.5748\\ngini = 0.4297\\nsamples = 16\\nvalue = [11, 5]\\nclass = dead\", fillcolor=\"#e581398b\"] ;\n",
      "51 -> 63 ;\n",
      "64 [label=\"age <= 0.0823\\ngini = 0.4082\\nsamples = 7\\nvalue = [2, 5]\\nclass = survived\", fillcolor=\"#399de599\"] ;\n",
      "63 -> 64 ;\n",
      "65 [label=\"gini = 0.48\\nsamples = 5\\nvalue = [2, 3]\\nclass = survived\", fillcolor=\"#399de555\"] ;\n",
      "64 -> 65 ;\n",
      "66 [label=\"gini = 0.0\\nsamples = 2\\nvalue = [0, 2]\\nclass = survived\", fillcolor=\"#399de5ff\"] ;\n",
      "64 -> 66 ;\n",
      "67 [label=\"gini = 0.0\\nsamples = 9\\nvalue = [9, 0]\\nclass = dead\", fillcolor=\"#e58139ff\"] ;\n",
      "63 -> 67 ;\n",
      "68 [label=\"fare <= -0.1383\\ngini = 0.4599\\nsamples = 120\\nvalue = [77, 43]\\nclass = dead\", fillcolor=\"#e5813971\"] ;\n",
      "50 -> 68 ;\n",
      "69 [label=\"gini = 0.0\\nsamples = 10\\nvalue = [10, 0]\\nclass = dead\", fillcolor=\"#e58139ff\"] ;\n",
      "68 -> 69 ;\n",
      "70 [label=\"age <= 1.7952\\ngini = 0.4762\\nsamples = 110\\nvalue = [67, 43]\\nclass = dead\", fillcolor=\"#e581395b\"] ;\n",
      "68 -> 70 ;\n",
      "71 [label=\"fare <= -0.1191\\ngini = 0.4949\\nsamples = 89\\nvalue = [49, 40]\\nclass = dead\", fillcolor=\"#e581392f\"] ;\n",
      "70 -> 71 ;\n",
      "72 [label=\"fare <= -0.132\\ngini = 0.2604\\nsamples = 13\\nvalue = [2, 11]\\nclass = survived\", fillcolor=\"#399de5d1\"] ;\n",
      "71 -> 72 ;\n",
      "73 [label=\"gini = 0.0\\nsamples = 4\\nvalue = [0, 4]\\nclass = survived\", fillcolor=\"#399de5ff\"] ;\n",
      "72 -> 73 ;\n",
      "74 [label=\"gini = 0.3457\\nsamples = 9\\nvalue = [2, 7]\\nclass = survived\", fillcolor=\"#399de5b6\"] ;\n",
      "72 -> 74 ;\n",
      "75 [label=\"age <= -0.9614\\ngini = 0.472\\nsamples = 76\\nvalue = [47, 29]\\nclass = dead\", fillcolor=\"#e5813962\"] ;\n",
      "71 -> 75 ;\n",
      "76 [label=\"gini = 0.0\\nsamples = 2\\nvalue = [0, 2]\\nclass = survived\", fillcolor=\"#399de5ff\"] ;\n",
      "75 -> 76 ;\n",
      "77 [label=\"gini = 0.4635\\nsamples = 74\\nvalue = [47, 27]\\nclass = dead\", fillcolor=\"#e581396d\"] ;\n",
      "75 -> 77 ;\n",
      "78 [label=\"age <= 3.5423\\ngini = 0.2449\\nsamples = 21\\nvalue = [18, 3]\\nclass = dead\", fillcolor=\"#e58139d4\"] ;\n",
      "70 -> 78 ;\n",
      "79 [label=\"embarked_S <= 0.5\\ngini = 0.18\\nsamples = 20\\nvalue = [18, 2]\\nclass = dead\", fillcolor=\"#e58139e3\"] ;\n",
      "78 -> 79 ;\n",
      "80 [label=\"gini = 0.375\\nsamples = 8\\nvalue = [6, 2]\\nclass = dead\", fillcolor=\"#e58139aa\"] ;\n",
      "79 -> 80 ;\n",
      "81 [label=\"gini = 0.0\\nsamples = 12\\nvalue = [12, 0]\\nclass = dead\", fillcolor=\"#e58139ff\"] ;\n",
      "79 -> 81 ;\n",
      "82 [label=\"gini = 0.0\\nsamples = 1\\nvalue = [0, 1]\\nclass = survived\", fillcolor=\"#399de5ff\"] ;\n",
      "78 -> 82 ;\n",
      "}\n"
     ]
    }
   ],
   "source": [
    "dot_data = get_tree_dot_view(clf_best, feature_names=list(X_cut.columns), class_names=train[\"result_labels\"])"
   ]
  },
  {
   "cell_type": "code",
   "execution_count": 159,
   "metadata": {
    "collapsed": true
   },
   "outputs": [],
   "source": [
    "scores = cross_val_score(clf_best,\n",
    "                         X_cut, y, groups=None,\n",
    "                         scoring = 'accuracy',\n",
    "                         cv = kfold)"
   ]
  },
  {
   "cell_type": "code",
   "execution_count": 160,
   "metadata": {},
   "outputs": [
    {
     "name": "stdout",
     "output_type": "stream",
     "text": [
      "[ 0.85555556  0.85393258  0.80898876  0.88764045  0.85393258  0.79775281\n",
      "  0.78651685  0.86516854  0.85393258  0.76404494]\n",
      "0.832746566792\n"
     ]
    }
   ],
   "source": [
    "print (scores)\n",
    "print (np.average(scores))"
   ]
  },
  {
   "cell_type": "markdown",
   "metadata": {
    "collapsed": true
   },
   "source": [
    "## Вторая попытка оптимизации"
   ]
  },
  {
   "cell_type": "code",
   "execution_count": 40,
   "metadata": {
    "collapsed": true
   },
   "outputs": [],
   "source": [
    "from sklearn.model_selection import GridSearchCV"
   ]
  },
  {
   "cell_type": "code",
   "execution_count": 58,
   "metadata": {
    "collapsed": true
   },
   "outputs": [],
   "source": [
    "param_grid2 = [\n",
    "  {'max_depth': [1,3,5,7,9,11],\n",
    "   'max_leaf_nodes': [2,3,5,10,15,20,30,40,50,60,70,80,90,100], \n",
    "  'criterion' : ['gini', 'entropy'],\n",
    "  'splitter' : ['best', 'random'],\n",
    "  'min_samples_split' : [2,3,4,5,6,7,8,9,10]}]"
   ]
  },
  {
   "cell_type": "code",
   "execution_count": 59,
   "metadata": {},
   "outputs": [],
   "source": [
    "grid_tree = GridSearchCV(DecisionTreeClassifier(random_state=123), param_grid2, \n",
    "                    scoring='accuracy',\n",
    "                    cv=kfold)"
   ]
  },
  {
   "cell_type": "code",
   "execution_count": 60,
   "metadata": {
    "collapsed": true
   },
   "outputs": [],
   "source": [
    "tree_grid_search = grid_tree.fit(X_cut, y)"
   ]
  },
  {
   "cell_type": "code",
   "execution_count": 61,
   "metadata": {},
   "outputs": [
    {
     "data": {
      "text/plain": [
       "{'criterion': 'gini',\n",
       " 'max_depth': 11,\n",
       " 'max_leaf_nodes': 40,\n",
       " 'min_samples_split': 2,\n",
       " 'splitter': 'best'}"
      ]
     },
     "execution_count": 61,
     "metadata": {},
     "output_type": "execute_result"
    }
   ],
   "source": [
    "tree_grid_search.best_params_"
   ]
  },
  {
   "cell_type": "code",
   "execution_count": 62,
   "metadata": {
    "collapsed": true
   },
   "outputs": [],
   "source": [
    "clf_best = DecisionTreeClassifier(criterion='gini',\n",
    "                                    max_depth = 11,\n",
    "                                     max_leaf_nodes= 40,\n",
    "                                     min_samples_split= 2,\n",
    "                                     splitter = 'best',\n",
    "                                    random_state=123)"
   ]
  },
  {
   "cell_type": "code",
   "execution_count": 63,
   "metadata": {},
   "outputs": [
    {
     "data": {
      "text/plain": [
       "DecisionTreeClassifier(class_weight=None, criterion='gini', max_depth=11,\n",
       "            max_features=None, max_leaf_nodes=40, min_impurity_split=1e-07,\n",
       "            min_samples_leaf=1, min_samples_split=2,\n",
       "            min_weight_fraction_leaf=0.0, presort=False, random_state=123,\n",
       "            splitter='best')"
      ]
     },
     "execution_count": 63,
     "metadata": {},
     "output_type": "execute_result"
    }
   ],
   "source": [
    "clf_best.fit(X_cut, y)"
   ]
  },
  {
   "cell_type": "code",
   "execution_count": 64,
   "metadata": {},
   "outputs": [
    {
     "data": {
      "text/plain": [
       "([<matplotlib.axis.YTick at 0x7f387b4f54a8>,\n",
       "  <matplotlib.axis.YTick at 0x7f387b4f5dd8>,\n",
       "  <matplotlib.axis.YTick at 0x7f387b4f5d68>,\n",
       "  <matplotlib.axis.YTick at 0x7f387bbe4898>,\n",
       "  <matplotlib.axis.YTick at 0x7f387bc5c160>,\n",
       "  <matplotlib.axis.YTick at 0x7f387be51ba8>,\n",
       "  <matplotlib.axis.YTick at 0x7f387be51d68>,\n",
       "  <matplotlib.axis.YTick at 0x7f387e6aa860>,\n",
       "  <matplotlib.axis.YTick at 0x7f387c04c5c0>,\n",
       "  <matplotlib.axis.YTick at 0x7f387c04c278>,\n",
       "  <matplotlib.axis.YTick at 0x7f387e6912e8>,\n",
       "  <matplotlib.axis.YTick at 0x7f387b4f5080>,\n",
       "  <matplotlib.axis.YTick at 0x7f387e679860>,\n",
       "  <matplotlib.axis.YTick at 0x7f387e6086d8>,\n",
       "  <matplotlib.axis.YTick at 0x7f387e6a18d0>,\n",
       "  <matplotlib.axis.YTick at 0x7f387e6a96a0>,\n",
       "  <matplotlib.axis.YTick at 0x7f387e630d30>,\n",
       "  <matplotlib.axis.YTick at 0x7f387b42d438>,\n",
       "  <matplotlib.axis.YTick at 0x7f387b605278>,\n",
       "  <matplotlib.axis.YTick at 0x7f387e70bac8>,\n",
       "  <matplotlib.axis.YTick at 0x7f387e706e48>,\n",
       "  <matplotlib.axis.YTick at 0x7f387e695be0>,\n",
       "  <matplotlib.axis.YTick at 0x7f387e6041d0>,\n",
       "  <matplotlib.axis.YTick at 0x7f387e6af940>,\n",
       "  <matplotlib.axis.YTick at 0x7f387e615390>,\n",
       "  <matplotlib.axis.YTick at 0x7f387e7dbac8>,\n",
       "  <matplotlib.axis.YTick at 0x7f387b3e0eb8>,\n",
       "  <matplotlib.axis.YTick at 0x7f387b40d400>],\n",
       " <a list of 28 Text yticklabel objects>)"
      ]
     },
     "execution_count": 64,
     "metadata": {},
     "output_type": "execute_result"
    },
    {
     "data": {
      "image/png": "[encoded data removed]",
      "text/plain": [
       "<matplotlib.figure.Figure at 0x7f387b421278>"
      ]
     },
     "metadata": {},
     "output_type": "display_data"
    }
   ],
   "source": [
    "plt.barh(np.arange(len(clf_best.feature_importances_)), clf_best.feature_importances_)\n",
    "plt.yticks(np.arange(len(X_cut.columns)),X_cut.columns)"
   ]
  },
  {
   "cell_type": "code",
   "execution_count": 65,
   "metadata": {},
   "outputs": [
    {
     "name": "stdout",
     "output_type": "stream",
     "text": [
      "digraph Tree {\n",
      "node [shape=box, style=\"filled\", color=\"black\"] ;\n",
      "0 [label=\"sex_male <= 0.5\\ngini = 0.473\\nsamples = 891\\nvalue = [549, 342]\\nclass = dead\", fillcolor=\"#e5813960\"] ;\n",
      "1 [label=\"pclass_3 <= 0.5\\ngini = 0.3828\\nsamples = 314\\nvalue = [81, 233]\\nclass = survived\", fillcolor=\"#399de5a6\"] ;\n",
      "0 -> 1 [labeldistance=2.5, labelangle=45, headlabel=\"True\"] ;\n",
      "3 [label=\"gini = 0.1003\\nsamples = 170\\nvalue = [9, 161]\\nclass = survived\", fillcolor=\"#399de5f1\"] ;\n",
      "1 -> 3 ;\n",
      "4 [label=\"family <= 3.5\\ngini = 0.5\\nsamples = 144\\nvalue = [72, 72]\\nclass = dead\", fillcolor=\"#e5813900\"] ;\n",
      "1 -> 4 ;\n",
      "9 [label=\"age <= 36.5\\ngini = 0.4839\\nsamples = 117\\nvalue = [48, 69]\\nclass = survived\", fillcolor=\"#399de54e\"] ;\n",
      "4 -> 9 ;\n",
      "13 [label=\"embarked_S <= 0.5\\ngini = 0.4721\\nsamples = 110\\nvalue = [42, 68]\\nclass = survived\", fillcolor=\"#399de561\"] ;\n",
      "9 -> 13 ;\n",
      "21 [label=\"age <= 30.1906\\ngini = 0.4012\\nsamples = 54\\nvalue = [15, 39]\\nclass = survived\", fillcolor=\"#399de59d\"] ;\n",
      "13 -> 21 ;\n",
      "23 [label=\"fare <= 15.3729\\ngini = 0.375\\nsamples = 52\\nvalue = [13, 39]\\nclass = survived\", fillcolor=\"#399de5aa\"] ;\n",
      "21 -> 23 ;\n",
      "25 [label=\"fare <= 13.9354\\ngini = 0.4388\\nsamples = 40\\nvalue = [13, 27]\\nclass = survived\", fillcolor=\"#399de584\"] ;\n",
      "23 -> 25 ;\n",
      "27 [label=\"fare <= 6.9875\\ngini = 0.3122\\nsamples = 31\\nvalue = [6, 25]\\nclass = survived\", fillcolor=\"#399de5c2\"] ;\n",
      "25 -> 27 ;\n",
      "55 [label=\"gini = 0.0\\nsamples = 1\\nvalue = [1, 0]\\nclass = dead\", fillcolor=\"#e58139ff\"] ;\n",
      "27 -> 55 ;\n",
      "56 [label=\"family <= 1.5\\ngini = 0.2778\\nsamples = 30\\nvalue = [5, 25]\\nclass = survived\", fillcolor=\"#399de5cc\"] ;\n",
      "27 -> 56 ;\n",
      "57 [label=\"gini = 0.2378\\nsamples = 29\\nvalue = [4, 25]\\nclass = survived\", fillcolor=\"#399de5d6\"] ;\n",
      "56 -> 57 ;\n",
      "58 [label=\"gini = 0.0\\nsamples = 1\\nvalue = [1, 0]\\nclass = dead\", fillcolor=\"#e58139ff\"] ;\n",
      "56 -> 58 ;\n",
      "28 [label=\"gini = 0.3457\\nsamples = 9\\nvalue = [7, 2]\\nclass = dead\", fillcolor=\"#e58139b6\"] ;\n",
      "25 -> 28 ;\n",
      "26 [label=\"gini = 0.0\\nsamples = 12\\nvalue = [0, 12]\\nclass = survived\", fillcolor=\"#399de5ff\"] ;\n",
      "23 -> 26 ;\n",
      "24 [label=\"gini = 0.0\\nsamples = 2\\nvalue = [2, 0]\\nclass = dead\", fillcolor=\"#e58139ff\"] ;\n",
      "21 -> 24 ;\n",
      "22 [label=\"fare <= 10.825\\ngini = 0.4994\\nsamples = 56\\nvalue = [27, 29]\\nclass = survived\", fillcolor=\"#399de512\"] ;\n",
      "13 -> 22 ;\n",
      "29 [label=\"fare <= 7.7625\\ngini = 0.4824\\nsamples = 32\\nvalue = [19, 13]\\nclass = dead\", fillcolor=\"#e5813951\"] ;\n",
      "22 -> 29 ;\n",
      "33 [label=\"age <= 26.4406\\ngini = 0.2778\\nsamples = 6\\nvalue = [1, 5]\\nclass = survived\", fillcolor=\"#399de5cc\"] ;\n",
      "29 -> 33 ;\n",
      "37 [label=\"gini = 0.0\\nsamples = 5\\nvalue = [0, 5]\\nclass = survived\", fillcolor=\"#399de5ff\"] ;\n",
      "33 -> 37 ;\n",
      "38 [label=\"gini = 0.0\\nsamples = 1\\nvalue = [1, 0]\\nclass = dead\", fillcolor=\"#e58139ff\"] ;\n",
      "33 -> 38 ;\n",
      "34 [label=\"gini = 0.426\\nsamples = 26\\nvalue = [18, 8]\\nclass = dead\", fillcolor=\"#e581398e\"] ;\n",
      "29 -> 34 ;\n",
      "30 [label=\"fare <= 17.6\\ngini = 0.4444\\nsamples = 24\\nvalue = [8, 16]\\nclass = survived\", fillcolor=\"#399de57f\"] ;\n",
      "22 -> 30 ;\n",
      "31 [label=\"gini = 0.2311\\nsamples = 15\\nvalue = [2, 13]\\nclass = survived\", fillcolor=\"#399de5d8\"] ;\n",
      "30 -> 31 ;\n",
      "32 [label=\"age <= 7.0\\ngini = 0.4444\\nsamples = 9\\nvalue = [6, 3]\\nclass = dead\", fillcolor=\"#e581397f\"] ;\n",
      "30 -> 32 ;\n",
      "73 [label=\"gini = 0.0\\nsamples = 1\\nvalue = [0, 1]\\nclass = survived\", fillcolor=\"#399de5ff\"] ;\n",
      "32 -> 73 ;\n",
      "74 [label=\"age <= 30.5\\ngini = 0.375\\nsamples = 8\\nvalue = [6, 2]\\nclass = dead\", fillcolor=\"#e58139aa\"] ;\n",
      "32 -> 74 ;\n",
      "75 [label=\"gini = 0.0\\nsamples = 5\\nvalue = [5, 0]\\nclass = dead\", fillcolor=\"#e58139ff\"] ;\n",
      "74 -> 75 ;\n",
      "76 [label=\"fare <= 19.125\\ngini = 0.4444\\nsamples = 3\\nvalue = [1, 2]\\nclass = survived\", fillcolor=\"#399de57f\"] ;\n",
      "74 -> 76 ;\n",
      "77 [label=\"gini = 0.0\\nsamples = 1\\nvalue = [1, 0]\\nclass = dead\", fillcolor=\"#e58139ff\"] ;\n",
      "76 -> 77 ;\n",
      "78 [label=\"gini = 0.0\\nsamples = 2\\nvalue = [0, 2]\\nclass = survived\", fillcolor=\"#399de5ff\"] ;\n",
      "76 -> 78 ;\n",
      "14 [label=\"age <= 55.0\\ngini = 0.2449\\nsamples = 7\\nvalue = [6, 1]\\nclass = dead\", fillcolor=\"#e58139d4\"] ;\n",
      "9 -> 14 ;\n",
      "35 [label=\"gini = 0.0\\nsamples = 6\\nvalue = [6, 0]\\nclass = dead\", fillcolor=\"#e58139ff\"] ;\n",
      "14 -> 35 ;\n",
      "36 [label=\"gini = 0.0\\nsamples = 1\\nvalue = [0, 1]\\nclass = survived\", fillcolor=\"#399de5ff\"] ;\n",
      "14 -> 36 ;\n",
      "10 [label=\"fare <= 14.5\\ngini = 0.1975\\nsamples = 27\\nvalue = [24, 3]\\nclass = dead\", fillcolor=\"#e58139df\"] ;\n",
      "4 -> 10 ;\n",
      "39 [label=\"gini = 0.0\\nsamples = 1\\nvalue = [0, 1]\\nclass = survived\", fillcolor=\"#399de5ff\"] ;\n",
      "10 -> 39 ;\n",
      "40 [label=\"gini = 0.142\\nsamples = 26\\nvalue = [24, 2]\\nclass = dead\", fillcolor=\"#e58139ea\"] ;\n",
      "10 -> 40 ;\n",
      "2 [label=\"age <= 6.5\\ngini = 0.3064\\nsamples = 577\\nvalue = [468, 109]\\nclass = dead\", fillcolor=\"#e58139c4\"] ;\n",
      "0 -> 2 [labeldistance=2.5, labelangle=-45, headlabel=\"False\"] ;\n",
      "5 [label=\"kid_big_family <= 0.5\\ngini = 0.4444\\nsamples = 24\\nvalue = [8, 16]\\nclass = survived\", fillcolor=\"#399de57f\"] ;\n",
      "2 -> 5 ;\n",
      "11 [label=\"gini = 0.0\\nsamples = 15\\nvalue = [0, 15]\\nclass = survived\", fillcolor=\"#399de5ff\"] ;\n",
      "5 -> 11 ;\n",
      "12 [label=\"gini = 0.1975\\nsamples = 9\\nvalue = [8, 1]\\nclass = dead\", fillcolor=\"#e58139df\"] ;\n",
      "5 -> 12 ;\n",
      "6 [label=\"pclass_1 <= 0.5\\ngini = 0.2798\\nsamples = 553\\nvalue = [460, 93]\\nclass = dead\", fillcolor=\"#e58139cb\"] ;\n",
      "2 -> 6 ;\n",
      "7 [label=\"fare <= 51.6979\\ngini = 0.2043\\nsamples = 433\\nvalue = [383, 50]\\nclass = dead\", fillcolor=\"#e58139de\"] ;\n",
      "6 -> 7 ;\n",
      "59 [label=\"age <= 13.0\\ngini = 0.1925\\nsamples = 417\\nvalue = [372, 45]\\nclass = dead\", fillcolor=\"#e58139e0\"] ;\n",
      "7 -> 59 ;\n",
      "63 [label=\"big_family <= 0.5\\ngini = 0.4444\\nsamples = 12\\nvalue = [8, 4]\\nclass = dead\", fillcolor=\"#e581397f\"] ;\n",
      "59 -> 63 ;\n",
      "65 [label=\"alone <= 0.5\\ngini = 0.32\\nsamples = 5\\nvalue = [1, 4]\\nclass = survived\", fillcolor=\"#399de5bf\"] ;\n",
      "63 -> 65 ;\n",
      "67 [label=\"gini = 0.0\\nsamples = 4\\nvalue = [0, 4]\\nclass = survived\", fillcolor=\"#399de5ff\"] ;\n",
      "65 -> 67 ;\n",
      "68 [label=\"gini = 0.0\\nsamples = 1\\nvalue = [1, 0]\\nclass = dead\", fillcolor=\"#e58139ff\"] ;\n",
      "65 -> 68 ;\n",
      "66 [label=\"gini = 0.0\\nsamples = 7\\nvalue = [7, 0]\\nclass = dead\", fillcolor=\"#e58139ff\"] ;\n",
      "63 -> 66 ;\n",
      "64 [label=\"gini = 0.182\\nsamples = 405\\nvalue = [364, 41]\\nclass = dead\", fillcolor=\"#e58139e2\"] ;\n",
      "59 -> 64 ;\n",
      "60 [label=\"fare <= 63.0229\\ngini = 0.4297\\nsamples = 16\\nvalue = [11, 5]\\nclass = dead\", fillcolor=\"#e581398b\"] ;\n",
      "7 -> 60 ;\n",
      "61 [label=\"gini = 0.4082\\nsamples = 7\\nvalue = [2, 5]\\nclass = survived\", fillcolor=\"#399de599\"] ;\n",
      "60 -> 61 ;\n",
      "62 [label=\"gini = 0.0\\nsamples = 9\\nvalue = [9, 0]\\nclass = dead\", fillcolor=\"#e58139ff\"] ;\n",
      "60 -> 62 ;\n",
      "8 [label=\"fare <= 26.1437\\ngini = 0.4599\\nsamples = 120\\nvalue = [77, 43]\\nclass = dead\", fillcolor=\"#e5813971\"] ;\n",
      "6 -> 8 ;\n",
      "15 [label=\"gini = 0.0\\nsamples = 10\\nvalue = [10, 0]\\nclass = dead\", fillcolor=\"#e58139ff\"] ;\n",
      "8 -> 15 ;\n",
      "16 [label=\"age <= 53.0\\ngini = 0.4762\\nsamples = 110\\nvalue = [67, 43]\\nclass = dead\", fillcolor=\"#e581395b\"] ;\n",
      "8 -> 16 ;\n",
      "17 [label=\"fare <= 27.1354\\ngini = 0.4949\\nsamples = 89\\nvalue = [49, 40]\\nclass = dead\", fillcolor=\"#e581392f\"] ;\n",
      "16 -> 17 ;\n",
      "19 [label=\"gini = 0.2604\\nsamples = 13\\nvalue = [2, 11]\\nclass = survived\", fillcolor=\"#399de5d1\"] ;\n",
      "17 -> 19 ;\n",
      "20 [label=\"fare <= 387.6646\\ngini = 0.472\\nsamples = 76\\nvalue = [47, 29]\\nclass = dead\", fillcolor=\"#e5813962\"] ;\n",
      "17 -> 20 ;\n",
      "41 [label=\"fare <= 134.6416\\ngini = 0.4635\\nsamples = 74\\nvalue = [47, 27]\\nclass = dead\", fillcolor=\"#e581396d\"] ;\n",
      "20 -> 41 ;\n",
      "43 [label=\"age <= 27.5\\ngini = 0.4812\\nsamples = 67\\nvalue = [40, 27]\\nclass = dead\", fillcolor=\"#e5813953\"] ;\n",
      "41 -> 43 ;\n",
      "45 [label=\"age <= 24.5\\ngini = 0.426\\nsamples = 13\\nvalue = [4, 9]\\nclass = survived\", fillcolor=\"#399de58e\"] ;\n",
      "43 -> 45 ;\n",
      "47 [label=\"with_parent_or_child <= 0.5\\ngini = 0.4898\\nsamples = 7\\nvalue = [4, 3]\\nclass = dead\", fillcolor=\"#e5813940\"] ;\n",
      "45 -> 47 ;\n",
      "49 [label=\"gini = 0.0\\nsamples = 3\\nvalue = [3, 0]\\nclass = dead\", fillcolor=\"#e58139ff\"] ;\n",
      "47 -> 49 ;\n",
      "50 [label=\"gini = 0.375\\nsamples = 4\\nvalue = [1, 3]\\nclass = survived\", fillcolor=\"#399de5aa\"] ;\n",
      "47 -> 50 ;\n",
      "48 [label=\"gini = 0.0\\nsamples = 6\\nvalue = [0, 6]\\nclass = survived\", fillcolor=\"#399de5ff\"] ;\n",
      "45 -> 48 ;\n",
      "46 [label=\"fare <= 115.4417\\ngini = 0.4444\\nsamples = 54\\nvalue = [36, 18]\\nclass = dead\", fillcolor=\"#e581397f\"] ;\n",
      "43 -> 46 ;\n",
      "51 [label=\"fare <= 29.1\\ngini = 0.426\\nsamples = 52\\nvalue = [36, 16]\\nclass = dead\", fillcolor=\"#e581398e\"] ;\n",
      "46 -> 51 ;\n",
      "69 [label=\"gini = 0.0\\nsamples = 5\\nvalue = [5, 0]\\nclass = dead\", fillcolor=\"#e58139ff\"] ;\n",
      "51 -> 69 ;\n",
      "70 [label=\"fare <= 30.5979\\ngini = 0.4491\\nsamples = 47\\nvalue = [31, 16]\\nclass = dead\", fillcolor=\"#e581397b\"] ;\n",
      "51 -> 70 ;\n",
      "71 [label=\"gini = 0.4082\\nsamples = 7\\nvalue = [2, 5]\\nclass = survived\", fillcolor=\"#399de599\"] ;\n",
      "70 -> 71 ;\n",
      "72 [label=\"gini = 0.3988\\nsamples = 40\\nvalue = [29, 11]\\nclass = dead\", fillcolor=\"#e581399e\"] ;\n",
      "70 -> 72 ;\n",
      "52 [label=\"gini = 0.0\\nsamples = 2\\nvalue = [0, 2]\\nclass = survived\", fillcolor=\"#399de5ff\"] ;\n",
      "46 -> 52 ;\n",
      "44 [label=\"gini = 0.0\\nsamples = 7\\nvalue = [7, 0]\\nclass = dead\", fillcolor=\"#e58139ff\"] ;\n",
      "41 -> 44 ;\n",
      "42 [label=\"gini = 0.0\\nsamples = 2\\nvalue = [0, 2]\\nclass = survived\", fillcolor=\"#399de5ff\"] ;\n",
      "20 -> 42 ;\n",
      "18 [label=\"age <= 75.5\\ngini = 0.2449\\nsamples = 21\\nvalue = [18, 3]\\nclass = dead\", fillcolor=\"#e58139d4\"] ;\n",
      "16 -> 18 ;\n",
      "53 [label=\"gini = 0.18\\nsamples = 20\\nvalue = [18, 2]\\nclass = dead\", fillcolor=\"#e58139e3\"] ;\n",
      "18 -> 53 ;\n",
      "54 [label=\"gini = 0.0\\nsamples = 1\\nvalue = [0, 1]\\nclass = survived\", fillcolor=\"#399de5ff\"] ;\n",
      "18 -> 54 ;\n",
      "}\n"
     ]
    }
   ],
   "source": [
    "dot_data = get_tree_dot_view(clf_best, feature_names=list(X_cut.columns), class_names=train[\"result_labels\"])"
   ]
  },
  {
   "cell_type": "code",
   "execution_count": 66,
   "metadata": {
    "collapsed": true
   },
   "outputs": [],
   "source": [
    "scores = cross_val_score(clf_best,\n",
    "                         X_cut, y, groups=None,\n",
    "                         scoring = 'accuracy',\n",
    "                         cv = kfold)"
   ]
  },
  {
   "cell_type": "code",
   "execution_count": 67,
   "metadata": {},
   "outputs": [
    {
     "name": "stdout",
     "output_type": "stream",
     "text": [
      "[ 0.88888889  0.85393258  0.82022472  0.8988764   0.87640449  0.78651685\n",
      "  0.78651685  0.85393258  0.86516854  0.78651685]\n",
      "0.841697877653\n"
     ]
    }
   ],
   "source": [
    "print (scores)\n",
    "print (np.average(scores))"
   ]
  },
  {
   "cell_type": "markdown",
   "metadata": {},
   "source": [
    "Во втором случае метрика немного выше чем в первом за  счет, того, что был добавлен еще один параметр в оптимизацию."
   ]
  },
  {
   "cell_type": "code",
   "execution_count": null,
   "metadata": {
    "collapsed": true
   },
   "outputs": [],
   "source": []
  },
  {
   "cell_type": "markdown",
   "metadata": {},
   "source": [
    "## Submission"
   ]
  },
  {
   "cell_type": "code",
   "execution_count": 69,
   "metadata": {
    "collapsed": true,
    "scrolled": true
   },
   "outputs": [],
   "source": [
    "predicted = clf_best.predict(X_test)"
   ]
  },
  {
   "cell_type": "code",
   "execution_count": 70,
   "metadata": {
    "collapsed": true
   },
   "outputs": [],
   "source": [
    "with open('submission.csv', 'w') as out:\n",
    "    out.write('PassengerId,Survived\\n')\n",
    "    for passenger, prediction in zip(test['PassengerId'], predicted):\n",
    "        out.write('%s,%s\\n' % (passenger, prediction))"
   ]
  },
  {
   "cell_type": "markdown",
   "metadata": {},
   "source": [
    "Хотя вторая модель дает большее значение на обучающей выборке, на тесте на Kaggle она получает 77,5%  против 78% от первой оптимизированной модели и против 79% модели Random Forest Classifier."
   ]
  },
  {
   "cell_type": "markdown",
   "metadata": {},
   "source": [
    "Введение дополнительных параметров ведет к переобучению модели."
   ]
  },
  {
   "cell_type": "code",
   "execution_count": null,
   "metadata": {
    "collapsed": true
   },
   "outputs": [],
   "source": []
  }
 ],
 "metadata": {
  "kernelspec": {
   "display_name": "Python 3",
   "language": "python",
   "name": "python3"
  },
  "language_info": {
   "codemirror_mode": {
    "name": "ipython",
    "version": 3
   },
   "file_extension": ".py",
   "mimetype": "text/x-python",
   "name": "python",
   "nbconvert_exporter": "python",
   "pygments_lexer": "ipython3",
   "version": "3.6.1"
  }
 },
 "nbformat": 4,
 "nbformat_minor": 2
}
